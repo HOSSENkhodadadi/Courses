{
  "nbformat": 4,
  "nbformat_minor": 0,
  "metadata": {
    "colab": {
      "provenance": [],
      "authorship_tag": "ABX9TyOuGw1QAZd3I5xX6LaufcHk",
      "include_colab_link": true
    },
    "kernelspec": {
      "name": "python3",
      "display_name": "Python 3"
    },
    "language_info": {
      "name": "python"
    }
  },
  "cells": [
    {
      "cell_type": "markdown",
      "metadata": {
        "id": "view-in-github",
        "colab_type": "text"
      },
      "source": [
        "<a href=\"https://colab.research.google.com/github/HOSSENkhodadadi/Data_Science_Labs_Process_Methods/blob/main/Labs/Lab_6_N.ipynb\" target=\"_parent\"><img src=\"https://colab.research.google.com/assets/colab-badge.svg\" alt=\"Open In Colab\"/></a>"
      ]
    },
    {
      "cell_type": "code",
      "execution_count": null,
      "metadata": {
        "colab": {
          "base_uri": "https://localhost:8080/"
        },
        "id": "97vEjQkVmV2z",
        "outputId": "1d2923c0-cfcf-4907-c6c4-d4389cea5b0d"
      },
      "outputs": [
        {
          "output_type": "stream",
          "name": "stdout",
          "text": [
            "the number of records: 178\n",
            "[[False False False ... False False False]\n",
            " [False False False ... False False False]\n",
            " [False False False ... False False False]\n",
            " ...\n",
            " [False False False ... False False False]\n",
            " [False False False ... False False False]\n",
            " [False False False ... False False False]]\n",
            "0\n"
          ]
        }
      ],
      "source": [
        "from sklearn.datasets import load_wine\n",
        "\n",
        "dataset = load_wine()\n",
        "X = dataset[\"data\"]\n",
        "Y = dataset[\"target\"]\n",
        "feature_names = dataset['feature_names']\n",
        "\n",
        "print(\"the number of records: \"+ str(len(X)))\n",
        "import numpy as np\n",
        "X_Array = np.array(X)\n",
        "print(np.isnan(X_Array))\n",
        "NanNum = np.isnan(X_Array).sum()\n",
        "print(NanNum)"
      ]
    },
    {
      "cell_type": "code",
      "source": [
        "http://www.webgraphviz.com/ for the graph drawing"
      ],
      "metadata": {
        "id": "p9i5Eou095Vu",
        "colab": {
          "base_uri": "https://localhost:8080/",
          "height": 130
        },
        "outputId": "26e6eb3c-d86c-423b-a9c0-d78d223a7e38"
      },
      "execution_count": null,
      "outputs": [
        {
          "output_type": "error",
          "ename": "SyntaxError",
          "evalue": "ignored",
          "traceback": [
            "\u001b[0;36m  File \u001b[0;32m\"<ipython-input-2-3e4e25c27ac9>\"\u001b[0;36m, line \u001b[0;32m1\u001b[0m\n\u001b[0;31m    http://www.webgraphviz.com/ for the graph drawing\u001b[0m\n\u001b[0m         ^\u001b[0m\n\u001b[0;31mSyntaxError\u001b[0m\u001b[0;31m:\u001b[0m invalid syntax\n"
          ]
        }
      ]
    },
    {
      "cell_type": "code",
      "source": [
        "from collections import Counter\n",
        "import numpy\n",
        "#print(Y)\n",
        "Y_Array = np.array(Y)\n",
        "(unique, counts) = numpy.unique(Y_Array, return_counts = True)\n",
        "frequencies = numpy.asarray((unique, counts)).T\n",
        "print(frequencies)"
      ],
      "metadata": {
        "colab": {
          "base_uri": "https://localhost:8080/"
        },
        "id": "6lAjiyMwmiSt",
        "outputId": "579a4f65-72b5-42e0-a1cc-8a94adfd6211"
      },
      "execution_count": null,
      "outputs": [
        {
          "output_type": "stream",
          "name": "stdout",
          "text": [
            "[[ 0 59]\n",
            " [ 1 71]\n",
            " [ 2 48]]\n"
          ]
        }
      ]
    },
    {
      "cell_type": "code",
      "source": [
        "Counter(Y)"
      ],
      "metadata": {
        "colab": {
          "base_uri": "https://localhost:8080/"
        },
        "id": "u_jNzxwypZos",
        "outputId": "91ed89e8-89a2-472c-a641-a1f3141c7f81"
      },
      "execution_count": null,
      "outputs": [
        {
          "output_type": "execute_result",
          "data": {
            "text/plain": [
              "Counter({0: 59, 1: 71, 2: 48})"
            ]
          },
          "metadata": {},
          "execution_count": 57
        }
      ]
    },
    {
      "cell_type": "code",
      "source": [
        "from sklearn.tree import DecisionTreeClassifier\n",
        "from sklearn import metrics"
      ],
      "metadata": {
        "id": "nxyGo3lvpeDr"
      },
      "execution_count": null,
      "outputs": []
    },
    {
      "cell_type": "code",
      "source": [
        "clf = DecisionTreeClassifier()\n",
        "clf = clf.fit(X,Y)\n",
        "Y_pred = clf.predict(X)"
      ],
      "metadata": {
        "id": "pcFWMR6iGhNd"
      },
      "execution_count": null,
      "outputs": []
    },
    {
      "cell_type": "code",
      "source": [],
      "metadata": {
        "id": "5MMqLxMbGhTd"
      },
      "execution_count": null,
      "outputs": []
    },
    {
      "cell_type": "code",
      "source": [
        "print(\"Accuracy\",metrics.accuracy_score(Y, Y_pred))"
      ],
      "metadata": {
        "colab": {
          "base_uri": "https://localhost:8080/"
        },
        "id": "HPQ35JMFry5J",
        "outputId": "899a6207-199a-4f87-c682-0be9828edbfb"
      },
      "execution_count": null,
      "outputs": [
        {
          "output_type": "stream",
          "name": "stdout",
          "text": [
            "Accuracy 1.0\n"
          ]
        }
      ]
    },
    {
      "cell_type": "code",
      "source": [
        "from sklearn.tree import plot_tree\n",
        "plot_tree(clf)\n",
        "\n",
        "\n",
        "\n",
        "#https://scikit-learn.org/stable/modules/tree.html#tree-mathematical-formulation"
      ],
      "metadata": {
        "colab": {
          "base_uri": "https://localhost:8080/",
          "height": 647
        },
        "id": "xnv56Qh0tRcR",
        "outputId": "d129eea7-5c95-4fcd-997f-0d86040237eb"
      },
      "execution_count": null,
      "outputs": [
        {
          "output_type": "execute_result",
          "data": {
            "text/plain": [
              "[Text(0.5657894736842105, 0.9166666666666666, 'X[12] <= 755.0\\ngini = 0.658\\nsamples = 178\\nvalue = [59, 71, 48]'),\n",
              " Text(0.34210526315789475, 0.75, 'X[11] <= 2.115\\ngini = 0.492\\nsamples = 111\\nvalue = [2, 67, 42]'),\n",
              " Text(0.21052631578947367, 0.5833333333333334, 'X[10] <= 0.935\\ngini = 0.227\\nsamples = 46\\nvalue = [0, 6, 40]'),\n",
              " Text(0.10526315789473684, 0.4166666666666667, 'X[6] <= 1.58\\ngini = 0.049\\nsamples = 40\\nvalue = [0, 1, 39]'),\n",
              " Text(0.05263157894736842, 0.25, 'gini = 0.0\\nsamples = 39\\nvalue = [0, 0, 39]'),\n",
              " Text(0.15789473684210525, 0.25, 'gini = 0.0\\nsamples = 1\\nvalue = [0, 1, 0]'),\n",
              " Text(0.3157894736842105, 0.4166666666666667, 'X[0] <= 13.515\\ngini = 0.278\\nsamples = 6\\nvalue = [0, 5, 1]'),\n",
              " Text(0.2631578947368421, 0.25, 'gini = 0.0\\nsamples = 5\\nvalue = [0, 5, 0]'),\n",
              " Text(0.3684210526315789, 0.25, 'gini = 0.0\\nsamples = 1\\nvalue = [0, 0, 1]'),\n",
              " Text(0.47368421052631576, 0.5833333333333334, 'X[6] <= 0.795\\ngini = 0.117\\nsamples = 65\\nvalue = [2, 61, 2]'),\n",
              " Text(0.42105263157894735, 0.4166666666666667, 'gini = 0.0\\nsamples = 2\\nvalue = [0, 0, 2]'),\n",
              " Text(0.5263157894736842, 0.4166666666666667, 'X[0] <= 13.175\\ngini = 0.061\\nsamples = 63\\nvalue = [2, 61, 0]'),\n",
              " Text(0.47368421052631576, 0.25, 'gini = 0.0\\nsamples = 58\\nvalue = [0, 58, 0]'),\n",
              " Text(0.5789473684210527, 0.25, 'X[4] <= 98.5\\ngini = 0.48\\nsamples = 5\\nvalue = [2, 3, 0]'),\n",
              " Text(0.5263157894736842, 0.08333333333333333, 'gini = 0.0\\nsamples = 3\\nvalue = [0, 3, 0]'),\n",
              " Text(0.631578947368421, 0.08333333333333333, 'gini = 0.0\\nsamples = 2\\nvalue = [2, 0, 0]'),\n",
              " Text(0.7894736842105263, 0.75, 'X[6] <= 2.165\\ngini = 0.265\\nsamples = 67\\nvalue = [57, 4, 6]'),\n",
              " Text(0.6842105263157895, 0.5833333333333334, 'X[1] <= 2.085\\ngini = 0.375\\nsamples = 8\\nvalue = [0, 2, 6]'),\n",
              " Text(0.631578947368421, 0.4166666666666667, 'gini = 0.0\\nsamples = 2\\nvalue = [0, 2, 0]'),\n",
              " Text(0.7368421052631579, 0.4166666666666667, 'gini = 0.0\\nsamples = 6\\nvalue = [0, 0, 6]'),\n",
              " Text(0.8947368421052632, 0.5833333333333334, 'X[9] <= 3.435\\ngini = 0.065\\nsamples = 59\\nvalue = [57, 2, 0]'),\n",
              " Text(0.8421052631578947, 0.4166666666666667, 'gini = 0.0\\nsamples = 2\\nvalue = [0, 2, 0]'),\n",
              " Text(0.9473684210526315, 0.4166666666666667, 'gini = 0.0\\nsamples = 57\\nvalue = [57, 0, 0]')]"
            ]
          },
          "metadata": {},
          "execution_count": 11
        },
        {
          "output_type": "display_data",
          "data": {
            "text/plain": [
              "<Figure size 432x288 with 1 Axes>"
            ],
            "image/png": "[encoded data removed]"
          },
          "metadata": {
            "needs_background": "light"
          }
        }
      ]
    },
    {
      "cell_type": "code",
      "source": [
        "from sklearn import tree\n",
        "tree.export_graphviz(clf)"
      ],
      "metadata": {
        "colab": {
          "base_uri": "https://localhost:8080/",
          "height": 123
        },
        "id": "JikJ2B4StRhh",
        "outputId": "190e043a-30d4-4c0d-81e6-4ad74ade438f"
      },
      "execution_count": null,
      "outputs": [
        {
          "output_type": "execute_result",
          "data": {
            "text/plain": [
              "'digraph Tree {\\nnode [shape=box, fontname=\"helvetica\"] ;\\nedge [fontname=\"helvetica\"] ;\\n0 [label=\"X[12] <= 755.0\\\\ngini = 0.658\\\\nsamples = 178\\\\nvalue = [59, 71, 48]\"] ;\\n1 [label=\"X[11] <= 2.115\\\\ngini = 0.492\\\\nsamples = 111\\\\nvalue = [2, 67, 42]\"] ;\\n0 -> 1 [labeldistance=2.5, labelangle=45, headlabel=\"True\"] ;\\n2 [label=\"X[10] <= 0.935\\\\ngini = 0.227\\\\nsamples = 46\\\\nvalue = [0, 6, 40]\"] ;\\n1 -> 2 ;\\n3 [label=\"X[6] <= 1.58\\\\ngini = 0.049\\\\nsamples = 40\\\\nvalue = [0, 1, 39]\"] ;\\n2 -> 3 ;\\n4 [label=\"gini = 0.0\\\\nsamples = 39\\\\nvalue = [0, 0, 39]\"] ;\\n3 -> 4 ;\\n5 [label=\"gini = 0.0\\\\nsamples = 1\\\\nvalue = [0, 1, 0]\"] ;\\n3 -> 5 ;\\n6 [label=\"X[0] <= 13.515\\\\ngini = 0.278\\\\nsamples = 6\\\\nvalue = [0, 5, 1]\"] ;\\n2 -> 6 ;\\n7 [label=\"gini = 0.0\\\\nsamples = 5\\\\nvalue = [0, 5, 0]\"] ;\\n6 -> 7 ;\\n8 [label=\"gini = 0.0\\\\nsamples = 1\\\\nvalue = [0, 0, 1]\"] ;\\n6 -> 8 ;\\n9 [label=\"X[6] <= 0.795\\\\ngini = 0.117\\\\nsamples = 65\\\\nvalue = [2, 61, 2]\"] ;\\n1 -> 9 ;\\n10 [label=\"gini = 0.0\\\\nsamples = 2\\\\nvalue = [0, 0, 2]\"] ;\\n9 -> 10 ;\\n11 [label=\"X[0] <= 13.175\\\\ngini = 0.061\\\\nsamples = 63\\\\nvalue = [2, 61, 0]\"] ;\\n9 -> 11 ;\\n12 [label=\"gini = 0.0\\\\nsamples = 58\\\\nvalue = [0, 58, 0]\"] ;\\n11 -> 12 ;\\n13 [label=\"X[4] <= 98.5\\\\ngini = 0.48\\\\nsamples = 5\\\\nvalue = [2, 3, 0]\"] ;\\n11 -> 13 ;\\n14 [label=\"gini = 0.0\\\\nsamples = 3\\\\nvalue = [0, 3, 0]\"] ;\\n13 -> 14 ;\\n15 [label=\"gini = 0.0\\\\nsamples = 2\\\\nvalue = [2, 0, 0]\"] ;\\n13 -> 15 ;\\n16 [label=\"X[6] <= 2.165\\\\ngini = 0.265\\\\nsamples = 67\\\\nvalue = [57, 4, 6]\"] ;\\n0 -> 16 [labeldistance=2.5, labelangle=-45, headlabel=\"False\"] ;\\n17 [label=\"X[1] <= 2.085\\\\ngini = 0.375\\\\nsamples = 8\\\\nvalue = [0, 2, 6]\"] ;\\n16 -> 17 ;\\n18 [label=\"gini = 0.0\\\\nsamples = 2\\\\nvalue = [0, 2, 0]\"] ;\\n17 -> 18 ;\\n19 [label=\"gini = 0.0\\\\nsamples = 6\\\\nvalue = [0, 0, 6]\"] ;\\n17 -> 19 ;\\n20 [label=\"X[9] <= 3.435\\\\ngini = 0.065\\\\nsamples = 59\\\\nvalue = [57, 2, 0]\"] ;\\n16 -> 20 ;\\n21 [label=\"gini = 0.0\\\\nsamples = 2\\\\nvalue = [0, 2, 0]\"] ;\\n20 -> 21 ;\\n22 [label=\"gini = 0.0\\\\nsamples = 57\\\\nvalue = [57, 0, 0]\"] ;\\n20 -> 22 ;\\n}'"
            ],
            "application/vnd.google.colaboratory.intrinsic+json": {
              "type": "string"
            }
          },
          "metadata": {},
          "execution_count": 12
        }
      ]
    },
    {
      "cell_type": "code",
      "source": [
        "from sklearn.model_selection import train_test_split\n",
        "X_train, X_test, Y_train, Y_test = train_test_split(X,Y, test_size = 0.2, random_state = 1)\n"
      ],
      "metadata": {
        "id": "KFkG3EJyGj8N"
      },
      "execution_count": null,
      "outputs": []
    },
    {
      "cell_type": "code",
      "source": [
        "clf = DecisionTreeClassifier()\n",
        "clf = clf.fit(X_train, Y_train)\n",
        "Y_pred = clf.predict(X_test)\n"
      ],
      "metadata": {
        "id": "GVm1IAfBGr9s"
      },
      "execution_count": null,
      "outputs": []
    },
    {
      "cell_type": "code",
      "source": [
        "print(\"Accuracy\", metrics.accuracy_score(Y_test,Y_pred))"
      ],
      "metadata": {
        "colab": {
          "base_uri": "https://localhost:8080/"
        },
        "id": "iCMK3OywIvWV",
        "outputId": "35f5c6ed-2932-4bfc-ccaa-e96370a74e75"
      },
      "execution_count": null,
      "outputs": [
        {
          "output_type": "stream",
          "name": "stdout",
          "text": [
            "Accuracy 0.8611111111111112\n"
          ]
        }
      ]
    },
    {
      "cell_type": "code",
      "source": [
        "print(\"Precision\", metrics.precision_score(Y_pred, Y_test, average = None))"
      ],
      "metadata": {
        "colab": {
          "base_uri": "https://localhost:8080/"
        },
        "id": "wo7YFoE_JF1j",
        "outputId": "0841b7a8-2dc7-48af-b20e-16e08c7616b5"
      },
      "execution_count": null,
      "outputs": [
        {
          "output_type": "stream",
          "name": "stdout",
          "text": [
            "Precision [0.92857143 0.92307692 0.66666667]\n"
          ]
        }
      ]
    },
    {
      "cell_type": "code",
      "source": [
        "print(\"recall_score\", metrics.recall_score(Y_test,Y_pred, average = 'micro'))"
      ],
      "metadata": {
        "colab": {
          "base_uri": "https://localhost:8080/"
        },
        "id": "TzBr3dsLLTKS",
        "outputId": "ab2be1a5-572e-488a-ea5d-9cd6e23b60cc"
      },
      "execution_count": null,
      "outputs": [
        {
          "output_type": "stream",
          "name": "stdout",
          "text": [
            "recall_score 0.8611111111111112\n"
          ]
        }
      ]
    },
    {
      "cell_type": "code",
      "source": [
        "print(\"f1_score\", metrics.recall_score(Y_test,Y_pred, average = \"weighted\"))"
      ],
      "metadata": {
        "colab": {
          "base_uri": "https://localhost:8080/"
        },
        "id": "Furvi88jMAMq",
        "outputId": "d54c0d63-3ca7-49e1-8713-51c9001667fe"
      },
      "execution_count": null,
      "outputs": [
        {
          "output_type": "stream",
          "name": "stdout",
          "text": [
            "f1_score 0.8611111111111112\n"
          ]
        }
      ]
    },
    {
      "cell_type": "code",
      "source": [
        "print(metrics.classification_report(Y_pred, Y_test))\n",
        "report = metrics.classification_report(Y_pred, Y_test)\n"
      ],
      "metadata": {
        "colab": {
          "base_uri": "https://localhost:8080/"
        },
        "id": "TyDM4pGHQzaw",
        "outputId": "fe47979d-d8f2-40bb-cfa5-2c90f92e0fd5"
      },
      "execution_count": null,
      "outputs": [
        {
          "output_type": "stream",
          "name": "stdout",
          "text": [
            "              precision    recall  f1-score   support\n",
            "\n",
            "           0       0.93      0.93      0.93        14\n",
            "           1       0.92      0.75      0.83        16\n",
            "           2       0.67      1.00      0.80         6\n",
            "\n",
            "    accuracy                           0.86        36\n",
            "   macro avg       0.84      0.89      0.85        36\n",
            "weighted avg       0.88      0.86      0.86        36\n",
            "\n"
          ]
        }
      ]
    },
    {
      "cell_type": "code",
      "source": [
        "with open(\"report.txt\",'w') as f:\n",
        "  f.write(report)\n"
      ],
      "metadata": {
        "id": "0t9fIzNKSPfh"
      },
      "execution_count": null,
      "outputs": []
    },
    {
      "cell_type": "code",
      "source": [
        "from sklearn.model_selection import ParameterGrid\n",
        "params = {\n",
        "    \"max_depth\": [None, 2, 4, 8],\n",
        "    \"splitter\": [\"best\", \"random\"]\n",
        "}\n",
        "for config in ParameterGrid(params):\n",
        "  clf = DecisionTreeClassifier (**config)\n",
        "  clf = clf.fit(X_train,Y_train)\n",
        "  Y_pred = clf.predict(X_test)\n",
        "  print(config,\" : \",\"Accuracy: \",metrics.accuracy_score(Y_pred,Y_test),\"_\",\"Precision_score: \", metrics.precision_score(Y_pred,Y_test,average = \"weighted\"))\n"
      ],
      "metadata": {
        "colab": {
          "base_uri": "https://localhost:8080/"
        },
        "id": "_NFnuxWUS74A",
        "outputId": "8403b180-4222-48db-d722-7fa308368f98"
      },
      "execution_count": null,
      "outputs": [
        {
          "output_type": "stream",
          "name": "stdout",
          "text": [
            "{'max_depth': None, 'splitter': 'best'}  :  Accuracy:  0.9166666666666666 _ Precision_score:  0.9176163342830009\n",
            "{'max_depth': None, 'splitter': 'random'}  :  Accuracy:  0.9166666666666666 _ Precision_score:  0.9290123456790123\n",
            "{'max_depth': 2, 'splitter': 'best'}  :  Accuracy:  0.8611111111111112 _ Precision_score:  0.8824786324786325\n",
            "{'max_depth': 2, 'splitter': 'random'}  :  Accuracy:  0.7222222222222222 _ Precision_score:  0.7574277574277574\n",
            "{'max_depth': 4, 'splitter': 'best'}  :  Accuracy:  0.8888888888888888 _ Precision_score:  0.8969610636277303\n",
            "{'max_depth': 4, 'splitter': 'random'}  :  Accuracy:  0.9444444444444444 _ Precision_score:  0.9444444444444444\n",
            "{'max_depth': 8, 'splitter': 'best'}  :  Accuracy:  0.9166666666666666 _ Precision_score:  0.9176163342830009\n",
            "{'max_depth': 8, 'splitter': 'random'}  :  Accuracy:  0.9722222222222222 _ Precision_score:  0.9753086419753088\n"
          ]
        }
      ]
    },
    {
      "cell_type": "code",
      "source": [
        "from statistics import mean\n",
        "from sklearn.model_selection import KFold\n",
        "X_train_valid, X_test,Y_train_valid, Y_test = train_test_split(X,Y)\n",
        "for config in ParameterGrid(params):\n",
        "  print(f\"configuration is: {config}\", end = '')\n",
        "  accuracy = []\n",
        "  kf = KFold(5)\n",
        "  for train_indices, validation_indices in kf.split(X_train_valid, Y_train_valid):\n",
        "    X_train = X_train_valid[train_indices]\n",
        "    X_valid = X_train_valid[validation_indices]\n",
        "    Y_train = Y_train_valid[train_indices]\n",
        "    Y_valid = Y_train_valid[validation_indices]\n",
        "    clf = DecisionTreeClassifier(**config)\n",
        "    clf = clf.fit(X_train, Y_train)\n",
        "    Y_pred = clf.predict(X_valid)\n",
        "    accuracy.append(metrics.accuracy_score(Y_pred, Y_valid))\n",
        "  print(f\"accuracy is: {mean(accuracy)}\")\n"
      ],
      "metadata": {
        "colab": {
          "base_uri": "https://localhost:8080/"
        },
        "id": "tP5g6F_MYdvX",
        "outputId": "ff89dd88-2111-4e65-94ae-ec8c1506fb01"
      },
      "execution_count": null,
      "outputs": [
        {
          "output_type": "stream",
          "name": "stdout",
          "text": [
            "configuration is: {'max_depth': None, 'splitter': 'best'}accuracy is: 0.9022792022792023\n",
            "configuration is: {'max_depth': None, 'splitter': 'random'}accuracy is: 0.894017094017094\n",
            "configuration is: {'max_depth': 2, 'splitter': 'best'}accuracy is: 0.8341880341880342\n",
            "configuration is: {'max_depth': 2, 'splitter': 'random'}accuracy is: 0.827065527065527\n",
            "configuration is: {'max_depth': 4, 'splitter': 'best'}accuracy is: 0.901994301994302\n",
            "configuration is: {'max_depth': 4, 'splitter': 'random'}accuracy is: 0.9096866096866096\n",
            "configuration is: {'max_depth': 8, 'splitter': 'best'}accuracy is: 0.8874643874643875\n",
            "configuration is: {'max_depth': 8, 'splitter': 'random'}accuracy is: 0.9096866096866096\n"
          ]
        }
      ]
    },
    {
      "cell_type": "code",
      "source": [
        "\n"
      ],
      "metadata": {
        "colab": {
          "base_uri": "https://localhost:8080/"
        },
        "id": "b9kYOQCE1Frq",
        "outputId": "427245a6-96f3-4c6a-9fcf-93cec6d1c4d9"
      },
      "execution_count": null,
      "outputs": [
        {
          "output_type": "stream",
          "name": "stdout",
          "text": [
            "accuracy is: 3\n"
          ]
        }
      ]
    }
  ]
}