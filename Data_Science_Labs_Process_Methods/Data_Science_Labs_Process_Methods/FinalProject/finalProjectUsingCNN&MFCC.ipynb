{
  "cells": [
    {
      "cell_type": "markdown",
      "metadata": {
        "id": "view-in-github",
        "colab_type": "text"
      },
      "source": [
        "<a href=\"https://colab.research.google.com/github/HOSSENkhodadadi/Data_Science_Labs_Process_Methods/blob/main/Data_Science_Labs_Process_Methods/FinalProject/finalProjectUsingCNN%26MFCC.ipynb\" target=\"_parent\"><img src=\"https://colab.research.google.com/assets/colab-badge.svg\" alt=\"Open In Colab\"/></a>"
      ]
    },
    {
      "cell_type": "code",
      "execution_count": null,
      "metadata": {
        "colab": {
          "base_uri": "https://localhost:8080/",
          "height": 493
        },
        "id": "Kq2v4T0jb1YE",
        "outputId": "8b01ca30-cc40-4cad-abb6-8a5f63a042ad"
      },
      "outputs": [
        {
          "name": "stdout",
          "output_type": "stream",
          "text": [
            "Mounted at /content/drive\n"
          ]
        },
        {
          "data": {
            "text/html": [
              "\n",
              "  <div id=\"df-714a8ae8-9a13-4285-a8fa-bef67f5e3e0e\">\n",
              "    <div class=\"colab-df-container\">\n",
              "      <div>\n",
              "<style scoped>\n",
              "    .dataframe tbody tr th:only-of-type {\n",
              "        vertical-align: middle;\n",
              "    }\n",
              "\n",
              "    .dataframe tbody tr th {\n",
              "        vertical-align: top;\n",
              "    }\n",
              "\n",
              "    .dataframe thead th {\n",
              "        text-align: right;\n",
              "    }\n",
              "</style>\n",
              "<table border=\"1\" class=\"dataframe\">\n",
              "  <thead>\n",
              "    <tr style=\"text-align: right;\">\n",
              "      <th></th>\n",
              "      <th>Id</th>\n",
              "      <th>path</th>\n",
              "      <th>speakerId</th>\n",
              "      <th>action</th>\n",
              "      <th>object</th>\n",
              "      <th>Self-reported fluency level</th>\n",
              "      <th>First Language spoken</th>\n",
              "      <th>Current language used for work/school</th>\n",
              "      <th>gender</th>\n",
              "      <th>ageRange</th>\n",
              "    </tr>\n",
              "  </thead>\n",
              "  <tbody>\n",
              "    <tr>\n",
              "      <th>0</th>\n",
              "      <td>0</td>\n",
              "      <td>dsl_data/audio/speakers/2BqVo8kVB2Skwgyb/0a312...</td>\n",
              "      <td>2BqVo8kVB2Skwgyb</td>\n",
              "      <td>change language</td>\n",
              "      <td>none</td>\n",
              "      <td>advanced</td>\n",
              "      <td>English (United States)</td>\n",
              "      <td>English (United States)</td>\n",
              "      <td>female</td>\n",
              "      <td>22-40</td>\n",
              "    </tr>\n",
              "    <tr>\n",
              "      <th>1</th>\n",
              "      <td>1</td>\n",
              "      <td>dsl_data/audio/speakers/2BqVo8kVB2Skwgyb/0ee42...</td>\n",
              "      <td>2BqVo8kVB2Skwgyb</td>\n",
              "      <td>activate</td>\n",
              "      <td>music</td>\n",
              "      <td>advanced</td>\n",
              "      <td>English (United States)</td>\n",
              "      <td>English (United States)</td>\n",
              "      <td>female</td>\n",
              "      <td>22-40</td>\n",
              "    </tr>\n",
              "    <tr>\n",
              "      <th>2</th>\n",
              "      <td>2</td>\n",
              "      <td>dsl_data/audio/speakers/2BqVo8kVB2Skwgyb/1d9f3...</td>\n",
              "      <td>2BqVo8kVB2Skwgyb</td>\n",
              "      <td>deactivate</td>\n",
              "      <td>lights</td>\n",
              "      <td>advanced</td>\n",
              "      <td>English (United States)</td>\n",
              "      <td>English (United States)</td>\n",
              "      <td>female</td>\n",
              "      <td>22-40</td>\n",
              "    </tr>\n",
              "    <tr>\n",
              "      <th>3</th>\n",
              "      <td>3</td>\n",
              "      <td>dsl_data/audio/speakers/2BqVo8kVB2Skwgyb/269fc...</td>\n",
              "      <td>2BqVo8kVB2Skwgyb</td>\n",
              "      <td>increase</td>\n",
              "      <td>volume</td>\n",
              "      <td>advanced</td>\n",
              "      <td>English (United States)</td>\n",
              "      <td>English (United States)</td>\n",
              "      <td>female</td>\n",
              "      <td>22-40</td>\n",
              "    </tr>\n",
              "    <tr>\n",
              "      <th>4</th>\n",
              "      <td>4</td>\n",
              "      <td>dsl_data/audio/speakers/2BqVo8kVB2Skwgyb/5bbda...</td>\n",
              "      <td>2BqVo8kVB2Skwgyb</td>\n",
              "      <td>increase</td>\n",
              "      <td>volume</td>\n",
              "      <td>advanced</td>\n",
              "      <td>English (United States)</td>\n",
              "      <td>English (United States)</td>\n",
              "      <td>female</td>\n",
              "      <td>22-40</td>\n",
              "    </tr>\n",
              "  </tbody>\n",
              "</table>\n",
              "</div>\n",
              "      <button class=\"colab-df-convert\" onclick=\"convertToInteractive('df-714a8ae8-9a13-4285-a8fa-bef67f5e3e0e')\"\n",
              "              title=\"Convert this dataframe to an interactive table.\"\n",
              "              style=\"display:none;\">\n",
              "        \n",
              "  <svg xmlns=\"http://www.w3.org/2000/svg\" height=\"24px\"viewBox=\"0 0 24 24\"\n",
              "       width=\"24px\">\n",
              "    <path d=\"M0 0h24v24H0V0z\" fill=\"none\"/>\n",
              "    <path d=\"M18.56 5.44l.94 2.06.94-2.06 2.06-.94-2.06-.94-.94-2.06-.94 2.06-2.06.94zm-11 1L8.5 8.5l.94-2.06 2.06-.94-2.06-.94L8.5 2.5l-.94 2.06-2.06.94zm10 10l.94 2.06.94-2.06 2.06-.94-2.06-.94-.94-2.06-.94 2.06-2.06.94z\"/><path d=\"M17.41 7.96l-1.37-1.37c-.4-.4-.92-.59-1.43-.59-.52 0-1.04.2-1.43.59L10.3 9.45l-7.72 7.72c-.78.78-.78 2.05 0 2.83L4 21.41c.39.39.9.59 1.41.59.51 0 1.02-.2 1.41-.59l7.78-7.78 2.81-2.81c.8-.78.8-2.07 0-2.86zM5.41 20L4 18.59l7.72-7.72 1.47 1.35L5.41 20z\"/>\n",
              "  </svg>\n",
              "      </button>\n",
              "      \n",
              "  <style>\n",
              "    .colab-df-container {\n",
              "      display:flex;\n",
              "      flex-wrap:wrap;\n",
              "      gap: 12px;\n",
              "    }\n",
              "\n",
              "    .colab-df-convert {\n",
              "      background-color: #E8F0FE;\n",
              "      border: none;\n",
              "      border-radius: 50%;\n",
              "      cursor: pointer;\n",
              "      display: none;\n",
              "      fill: #1967D2;\n",
              "      height: 32px;\n",
              "      padding: 0 0 0 0;\n",
              "      width: 32px;\n",
              "    }\n",
              "\n",
              "    .colab-df-convert:hover {\n",
              "      background-color: #E2EBFA;\n",
              "      box-shadow: 0px 1px 2px rgba(60, 64, 67, 0.3), 0px 1px 3px 1px rgba(60, 64, 67, 0.15);\n",
              "      fill: #174EA6;\n",
              "    }\n",
              "\n",
              "    [theme=dark] .colab-df-convert {\n",
              "      background-color: #3B4455;\n",
              "      fill: #D2E3FC;\n",
              "    }\n",
              "\n",
              "    [theme=dark] .colab-df-convert:hover {\n",
              "      background-color: #434B5C;\n",
              "      box-shadow: 0px 1px 3px 1px rgba(0, 0, 0, 0.15);\n",
              "      filter: drop-shadow(0px 1px 2px rgba(0, 0, 0, 0.3));\n",
              "      fill: #FFFFFF;\n",
              "    }\n",
              "  </style>\n",
              "\n",
              "      <script>\n",
              "        const buttonEl =\n",
              "          document.querySelector('#df-714a8ae8-9a13-4285-a8fa-bef67f5e3e0e button.colab-df-convert');\n",
              "        buttonEl.style.display =\n",
              "          google.colab.kernel.accessAllowed ? 'block' : 'none';\n",
              "\n",
              "        async function convertToInteractive(key) {\n",
              "          const element = document.querySelector('#df-714a8ae8-9a13-4285-a8fa-bef67f5e3e0e');\n",
              "          const dataTable =\n",
              "            await google.colab.kernel.invokeFunction('convertToInteractive',\n",
              "                                                     [key], {});\n",
              "          if (!dataTable) return;\n",
              "\n",
              "          const docLinkHtml = 'Like what you see? Visit the ' +\n",
              "            '<a target=\"_blank\" href=https://colab.research.google.com/notebooks/data_table.ipynb>data table notebook</a>'\n",
              "            + ' to learn more about interactive tables.';\n",
              "          element.innerHTML = '';\n",
              "          dataTable['output_type'] = 'display_data';\n",
              "          await google.colab.output.renderOutput(dataTable, element);\n",
              "          const docLink = document.createElement('div');\n",
              "          docLink.innerHTML = docLinkHtml;\n",
              "          element.appendChild(docLink);\n",
              "        }\n",
              "      </script>\n",
              "    </div>\n",
              "  </div>\n",
              "  "
            ],
            "text/plain": [
              "   Id                                               path         speakerId  \\\n",
              "0   0  dsl_data/audio/speakers/2BqVo8kVB2Skwgyb/0a312...  2BqVo8kVB2Skwgyb   \n",
              "1   1  dsl_data/audio/speakers/2BqVo8kVB2Skwgyb/0ee42...  2BqVo8kVB2Skwgyb   \n",
              "2   2  dsl_data/audio/speakers/2BqVo8kVB2Skwgyb/1d9f3...  2BqVo8kVB2Skwgyb   \n",
              "3   3  dsl_data/audio/speakers/2BqVo8kVB2Skwgyb/269fc...  2BqVo8kVB2Skwgyb   \n",
              "4   4  dsl_data/audio/speakers/2BqVo8kVB2Skwgyb/5bbda...  2BqVo8kVB2Skwgyb   \n",
              "\n",
              "            action  object Self-reported fluency level   \\\n",
              "0  change language    none                     advanced   \n",
              "1         activate   music                     advanced   \n",
              "2       deactivate  lights                     advanced   \n",
              "3         increase  volume                     advanced   \n",
              "4         increase  volume                     advanced   \n",
              "\n",
              "     First Language spoken Current language used for work/school  gender  \\\n",
              "0  English (United States)               English (United States)  female   \n",
              "1  English (United States)               English (United States)  female   \n",
              "2  English (United States)               English (United States)  female   \n",
              "3  English (United States)               English (United States)  female   \n",
              "4  English (United States)               English (United States)  female   \n",
              "\n",
              "  ageRange  \n",
              "0    22-40  \n",
              "1    22-40  \n",
              "2    22-40  \n",
              "3    22-40  \n",
              "4    22-40  "
            ]
          },
          "execution_count": 1,
          "metadata": {},
          "output_type": "execute_result"
        }
      ],
      "source": [
        "audio_dataset_path='F:\\myPolito\\DSL\\Final Project'\n",
        "import pandas as pd\n",
        "import os\n",
        "import librosa\n",
        "from google.colab import drive\n",
        "drive.mount('/content/drive')\n",
        "import pandas as pd\n",
        "\n",
        "file_path = '/content/drive/My Drive/DSL_Final_Project/development.csv'\n",
        "metadata = pd.read_csv(file_path)\n",
        "metadata.head()"
      ]
    },
    {
      "cell_type": "code",
      "execution_count": null,
      "metadata": {
        "id": "XQNEckgT8dGQ"
      },
      "outputs": [],
      "source": []
    },
    {
      "cell_type": "code",
      "execution_count": null,
      "metadata": {
        "id": "W_V-bbDqsrc0"
      },
      "outputs": [],
      "source": [
        "import tensorflow as tf\n"
      ]
    },
    {
      "cell_type": "code",
      "execution_count": null,
      "metadata": {
        "colab": {
          "base_uri": "https://localhost:8080/"
        },
        "id": "tp3rR9SSeYl1",
        "outputId": "83858ba5-165b-419b-b898-d956d566f9ec"
      },
      "outputs": [
        {
          "name": "stderr",
          "output_type": "stream",
          "text": [
            "9854it [39:33,  4.15it/s]\n"
          ]
        }
      ],
      "source": [
        "import numpy as np\n",
        "from tqdm import tqdm\n",
        "### Now we iterate through every audio file and extract features \n",
        "### using Mel-Frequency Cepstral Coefficients\n",
        "audio_lengthes =[]\n",
        "audios = []\n",
        "for index_num,row in tqdm(metadata.iterrows()):\n",
        "    file_name = os.path.join('/content/drive/My Drive/DSL_Final_Project',str(row[\"path\"]))\n",
        "    \n",
        "    audio, sample_rate = librosa.load(file_name, res_type='kaiser_best') \n",
        "    audios.append(audio)\n",
        "    labels = row[\"action\"] + \" \" + row[\"object\"]\n",
        "    audio_lengthes.append([len(audio), labels])"
      ]
    },
    {
      "cell_type": "code",
      "execution_count": null,
      "metadata": {
        "colab": {
          "base_uri": "https://localhost:8080/"
        },
        "id": "A-g8rkTnHerV",
        "outputId": "4d6c90bb-569f-4ac6-9d40-633fa72aee11"
      },
      "outputs": [
        {
          "name": "stdout",
          "output_type": "stream",
          "text": [
            "Drive already mounted at /content/drive; to attempt to forcibly remount, call drive.mount(\"/content/drive\", force_remount=True).\n"
          ]
        }
      ],
      "source": [
        "from google.colab import drive\n",
        "drive.mount('/content/drive')"
      ]
    },
    {
      "cell_type": "code",
      "execution_count": null,
      "metadata": {
        "id": "Mqqo6F2Dh31D"
      },
      "outputs": [],
      "source": []
    },
    {
      "cell_type": "code",
      "execution_count": null,
      "metadata": {
        "id": "j8koKzbUhZXr"
      },
      "outputs": [],
      "source": [
        "audio_lengthes_df = pd.DataFrame(audio_lengthes)\n",
        "header = [\"length\",\"class\"]\n",
        "audio_lengthes_df.columns = header"
      ]
    },
    {
      "cell_type": "code",
      "execution_count": null,
      "metadata": {
        "colab": {
          "base_uri": "https://localhost:8080/",
          "height": 423
        },
        "id": "6TwqZ-lchqVy",
        "outputId": "f26c665c-7d8e-4014-888d-cfed8196efe8"
      },
      "outputs": [
        {
          "data": {
            "text/html": [
              "\n",
              "  <div id=\"df-5a78fbb6-fbe1-44a6-8267-d8d2c14fbeee\">\n",
              "    <div class=\"colab-df-container\">\n",
              "      <div>\n",
              "<style scoped>\n",
              "    .dataframe tbody tr th:only-of-type {\n",
              "        vertical-align: middle;\n",
              "    }\n",
              "\n",
              "    .dataframe tbody tr th {\n",
              "        vertical-align: top;\n",
              "    }\n",
              "\n",
              "    .dataframe thead th {\n",
              "        text-align: right;\n",
              "    }\n",
              "</style>\n",
              "<table border=\"1\" class=\"dataframe\">\n",
              "  <thead>\n",
              "    <tr style=\"text-align: right;\">\n",
              "      <th></th>\n",
              "      <th>length</th>\n",
              "      <th>class</th>\n",
              "    </tr>\n",
              "  </thead>\n",
              "  <tbody>\n",
              "    <tr>\n",
              "      <th>0</th>\n",
              "      <td>40961</td>\n",
              "      <td>change language none</td>\n",
              "    </tr>\n",
              "    <tr>\n",
              "      <th>1</th>\n",
              "      <td>30720</td>\n",
              "      <td>activate music</td>\n",
              "    </tr>\n",
              "    <tr>\n",
              "      <th>2</th>\n",
              "      <td>43009</td>\n",
              "      <td>deactivate lights</td>\n",
              "    </tr>\n",
              "    <tr>\n",
              "      <th>3</th>\n",
              "      <td>38912</td>\n",
              "      <td>increase volume</td>\n",
              "    </tr>\n",
              "    <tr>\n",
              "      <th>4</th>\n",
              "      <td>53248</td>\n",
              "      <td>increase volume</td>\n",
              "    </tr>\n",
              "    <tr>\n",
              "      <th>...</th>\n",
              "      <td>...</td>\n",
              "      <td>...</td>\n",
              "    </tr>\n",
              "    <tr>\n",
              "      <th>9849</th>\n",
              "      <td>60212</td>\n",
              "      <td>decrease volume</td>\n",
              "    </tr>\n",
              "    <tr>\n",
              "      <th>9850</th>\n",
              "      <td>58330</td>\n",
              "      <td>deactivate lights</td>\n",
              "    </tr>\n",
              "    <tr>\n",
              "      <th>9851</th>\n",
              "      <td>58330</td>\n",
              "      <td>deactivate lights</td>\n",
              "    </tr>\n",
              "    <tr>\n",
              "      <th>9852</th>\n",
              "      <td>50804</td>\n",
              "      <td>deactivate lights</td>\n",
              "    </tr>\n",
              "    <tr>\n",
              "      <th>9853</th>\n",
              "      <td>62093</td>\n",
              "      <td>increase volume</td>\n",
              "    </tr>\n",
              "  </tbody>\n",
              "</table>\n",
              "<p>9854 rows × 2 columns</p>\n",
              "</div>\n",
              "      <button class=\"colab-df-convert\" onclick=\"convertToInteractive('df-5a78fbb6-fbe1-44a6-8267-d8d2c14fbeee')\"\n",
              "              title=\"Convert this dataframe to an interactive table.\"\n",
              "              style=\"display:none;\">\n",
              "        \n",
              "  <svg xmlns=\"http://www.w3.org/2000/svg\" height=\"24px\"viewBox=\"0 0 24 24\"\n",
              "       width=\"24px\">\n",
              "    <path d=\"M0 0h24v24H0V0z\" fill=\"none\"/>\n",
              "    <path d=\"M18.56 5.44l.94 2.06.94-2.06 2.06-.94-2.06-.94-.94-2.06-.94 2.06-2.06.94zm-11 1L8.5 8.5l.94-2.06 2.06-.94-2.06-.94L8.5 2.5l-.94 2.06-2.06.94zm10 10l.94 2.06.94-2.06 2.06-.94-2.06-.94-.94-2.06-.94 2.06-2.06.94z\"/><path d=\"M17.41 7.96l-1.37-1.37c-.4-.4-.92-.59-1.43-.59-.52 0-1.04.2-1.43.59L10.3 9.45l-7.72 7.72c-.78.78-.78 2.05 0 2.83L4 21.41c.39.39.9.59 1.41.59.51 0 1.02-.2 1.41-.59l7.78-7.78 2.81-2.81c.8-.78.8-2.07 0-2.86zM5.41 20L4 18.59l7.72-7.72 1.47 1.35L5.41 20z\"/>\n",
              "  </svg>\n",
              "      </button>\n",
              "      \n",
              "  <style>\n",
              "    .colab-df-container {\n",
              "      display:flex;\n",
              "      flex-wrap:wrap;\n",
              "      gap: 12px;\n",
              "    }\n",
              "\n",
              "    .colab-df-convert {\n",
              "      background-color: #E8F0FE;\n",
              "      border: none;\n",
              "      border-radius: 50%;\n",
              "      cursor: pointer;\n",
              "      display: none;\n",
              "      fill: #1967D2;\n",
              "      height: 32px;\n",
              "      padding: 0 0 0 0;\n",
              "      width: 32px;\n",
              "    }\n",
              "\n",
              "    .colab-df-convert:hover {\n",
              "      background-color: #E2EBFA;\n",
              "      box-shadow: 0px 1px 2px rgba(60, 64, 67, 0.3), 0px 1px 3px 1px rgba(60, 64, 67, 0.15);\n",
              "      fill: #174EA6;\n",
              "    }\n",
              "\n",
              "    [theme=dark] .colab-df-convert {\n",
              "      background-color: #3B4455;\n",
              "      fill: #D2E3FC;\n",
              "    }\n",
              "\n",
              "    [theme=dark] .colab-df-convert:hover {\n",
              "      background-color: #434B5C;\n",
              "      box-shadow: 0px 1px 3px 1px rgba(0, 0, 0, 0.15);\n",
              "      filter: drop-shadow(0px 1px 2px rgba(0, 0, 0, 0.3));\n",
              "      fill: #FFFFFF;\n",
              "    }\n",
              "  </style>\n",
              "\n",
              "      <script>\n",
              "        const buttonEl =\n",
              "          document.querySelector('#df-5a78fbb6-fbe1-44a6-8267-d8d2c14fbeee button.colab-df-convert');\n",
              "        buttonEl.style.display =\n",
              "          google.colab.kernel.accessAllowed ? 'block' : 'none';\n",
              "\n",
              "        async function convertToInteractive(key) {\n",
              "          const element = document.querySelector('#df-5a78fbb6-fbe1-44a6-8267-d8d2c14fbeee');\n",
              "          const dataTable =\n",
              "            await google.colab.kernel.invokeFunction('convertToInteractive',\n",
              "                                                     [key], {});\n",
              "          if (!dataTable) return;\n",
              "\n",
              "          const docLinkHtml = 'Like what you see? Visit the ' +\n",
              "            '<a target=\"_blank\" href=https://colab.research.google.com/notebooks/data_table.ipynb>data table notebook</a>'\n",
              "            + ' to learn more about interactive tables.';\n",
              "          element.innerHTML = '';\n",
              "          dataTable['output_type'] = 'display_data';\n",
              "          await google.colab.output.renderOutput(dataTable, element);\n",
              "          const docLink = document.createElement('div');\n",
              "          docLink.innerHTML = docLinkHtml;\n",
              "          element.appendChild(docLink);\n",
              "        }\n",
              "      </script>\n",
              "    </div>\n",
              "  </div>\n",
              "  "
            ],
            "text/plain": [
              "      length                 class\n",
              "0      40961  change language none\n",
              "1      30720        activate music\n",
              "2      43009     deactivate lights\n",
              "3      38912       increase volume\n",
              "4      53248       increase volume\n",
              "...      ...                   ...\n",
              "9849   60212       decrease volume\n",
              "9850   58330     deactivate lights\n",
              "9851   58330     deactivate lights\n",
              "9852   50804     deactivate lights\n",
              "9853   62093       increase volume\n",
              "\n",
              "[9854 rows x 2 columns]"
            ]
          },
          "execution_count": 6,
          "metadata": {},
          "output_type": "execute_result"
        }
      ],
      "source": [
        "audio_lengthes_df"
      ]
    },
    {
      "cell_type": "code",
      "execution_count": null,
      "metadata": {
        "id": "j1H5UtH4hsZy"
      },
      "outputs": [],
      "source": [
        "grouped_df = audio_lengthes_df.groupby(\"class\")"
      ]
    },
    {
      "cell_type": "code",
      "execution_count": null,
      "metadata": {
        "colab": {
          "base_uri": "https://localhost:8080/"
        },
        "id": "pU5lXI9nhupy",
        "outputId": "b3e33ee4-f332-4cff-97c5-dc6e37a83240"
      },
      "outputs": [
        {
          "name": "stdout",
          "output_type": "stream",
          "text": [
            "      length           class\n",
            "1      30720  activate music\n",
            "12     32768  activate music\n",
            "13     28672  activate music\n",
            "14     30720  activate music\n",
            "63     38912  activate music\n",
            "...      ...             ...\n",
            "9818   36864  activate music\n",
            "9834   40961  activate music\n",
            "9835   36864  activate music\n",
            "9836   38912  activate music\n",
            "9848   58330  activate music\n",
            "\n",
            "[791 rows x 2 columns]\n",
            "activate music\n",
            "      length                 class\n",
            "0      40961  change language none\n",
            "47     32768  change language none\n",
            "48     49153  change language none\n",
            "49     55296  change language none\n",
            "50     36864  change language none\n",
            "...      ...                   ...\n",
            "9815   40961  change language none\n",
            "9816   38912  change language none\n",
            "9817   30720  change language none\n",
            "9845   34816  change language none\n",
            "9847   52685  change language none\n",
            "\n",
            "[1113 rows x 2 columns]\n",
            "change language none\n",
            "      length              class\n",
            "2      43009  deactivate lights\n",
            "15     55296  deactivate lights\n",
            "52     40961  deactivate lights\n",
            "55    441000  deactivate lights\n",
            "56     51201  deactivate lights\n",
            "...      ...                ...\n",
            "9821   43009  deactivate lights\n",
            "9846   50804  deactivate lights\n",
            "9850   58330  deactivate lights\n",
            "9851   58330  deactivate lights\n",
            "9852   50804  deactivate lights\n",
            "\n",
            "[552 rows x 2 columns]\n",
            "deactivate lights\n",
            "      length          class\n",
            "8      47105  decrease heat\n",
            "9      51201  decrease heat\n",
            "10     51201  decrease heat\n",
            "11     53248  decrease heat\n",
            "44     34816  decrease heat\n",
            "...      ...            ...\n",
            "9831   40961  decrease heat\n",
            "9832  441000  decrease heat\n",
            "9833  441000  decrease heat\n",
            "9843   30720  decrease heat\n",
            "9844   30720  decrease heat\n",
            "\n",
            "[1189 rows x 2 columns]\n",
            "decrease heat\n",
            "      length            class\n",
            "5      49153  decrease volume\n",
            "26     47105  decrease volume\n",
            "27     45057  decrease volume\n",
            "28     45057  decrease volume\n",
            "29     26624  decrease volume\n",
            "...      ...              ...\n",
            "9825   38912  decrease volume\n",
            "9839   34816  decrease volume\n",
            "9840   32768  decrease volume\n",
            "9841   32768  decrease volume\n",
            "9849   60212  decrease volume\n",
            "\n",
            "[2386 rows x 2 columns]\n",
            "decrease volume\n",
            "      length          class\n",
            "6      43009  increase heat\n",
            "7      45057  increase heat\n",
            "38     49153  increase heat\n",
            "39     49153  increase heat\n",
            "40     63488  increase heat\n",
            "...      ...            ...\n",
            "9826   40961  increase heat\n",
            "9827   43009  increase heat\n",
            "9828   36864  increase heat\n",
            "9829  441000  increase heat\n",
            "9842   24577  increase heat\n",
            "\n",
            "[1209 rows x 2 columns]\n",
            "increase heat\n",
            "      length            class\n",
            "3      38912  increase volume\n",
            "4      53248  increase volume\n",
            "16     38912  increase volume\n",
            "17     34816  increase volume\n",
            "18     32768  increase volume\n",
            "...      ...              ...\n",
            "9822   36864  increase volume\n",
            "9823   49153  increase volume\n",
            "9837   38912  increase volume\n",
            "9838   38912  increase volume\n",
            "9853   62093  increase volume\n",
            "\n",
            "[2614 rows x 2 columns]\n",
            "increase volume\n"
          ]
        }
      ],
      "source": [
        "import matplotlib.pyplot as plt\n",
        "\n",
        "Content = []\n",
        "Class = []\n",
        "for length, classs in grouped_df:\n",
        "    print(classs)\n",
        "    print(length)\n",
        "    Class.append(classs)\n",
        "    Content.append(length)"
      ]
    },
    {
      "cell_type": "code",
      "execution_count": null,
      "metadata": {
        "colab": {
          "base_uri": "https://localhost:8080/",
          "height": 276
        },
        "id": "t31aR4Mlhxya",
        "outputId": "121fd7f9-e8c4-4c9f-c6f6-527669b71742"
      },
      "outputs": [
        {
          "data": {
            "image/png": "[encoded data removed]",
            "text/plain": [
              "<Figure size 432x288 with 1 Axes>"
            ]
          },
          "metadata": {},
          "output_type": "display_data"
        }
      ],
      "source": [
        "for label in Content:\n",
        "    ih = grouped_df.get_group(label)\n",
        "    ih[\"length\"].plot(kind='kde')"
      ]
    },
    {
      "cell_type": "code",
      "execution_count": null,
      "metadata": {
        "colab": {
          "base_uri": "https://localhost:8080/"
        },
        "id": "2XItVKrmh1-a",
        "outputId": "3ab62016-8a3f-42db-b659-34c3413b44f9"
      },
      "outputs": [
        {
          "data": {
            "text/plain": [
              "['activate music',\n",
              " 'change language none',\n",
              " 'deactivate lights',\n",
              " 'decrease heat',\n",
              " 'decrease volume',\n",
              " 'increase heat',\n",
              " 'increase volume']"
            ]
          },
          "execution_count": 10,
          "metadata": {},
          "output_type": "execute_result"
        }
      ],
      "source": [
        "Content"
      ]
    },
    {
      "cell_type": "code",
      "execution_count": null,
      "metadata": {
        "colab": {
          "base_uri": "https://localhost:8080/"
        },
        "id": "uiCsJfMviGiC",
        "outputId": "2bed5299-f776-4163-a521-555aae941cc6"
      },
      "outputs": [
        {
          "data": {
            "text/plain": [
              "0       40961\n",
              "1       30720\n",
              "2       43009\n",
              "3       38912\n",
              "4       53248\n",
              "        ...  \n",
              "9849    60212\n",
              "9850    58330\n",
              "9851    58330\n",
              "9852    50804\n",
              "9853    62093\n",
              "Name: length, Length: 9854, dtype: int64"
            ]
          },
          "execution_count": 11,
          "metadata": {},
          "output_type": "execute_result"
        }
      ],
      "source": [
        "audio_lengthes_df[\"length\"]"
      ]
    },
    {
      "cell_type": "code",
      "execution_count": null,
      "metadata": {
        "colab": {
          "base_uri": "https://localhost:8080/",
          "height": 265
        },
        "id": "jJCZ9rGIiGqi",
        "outputId": "330e4ed6-10f0-4ca1-ab50-1d19c3df7cd9"
      },
      "outputs": [
        {
          "data": {
            "image/png": "[encoded data removed]",
            "text/plain": [
              "<Figure size 432x288 with 1 Axes>"
            ]
          },
          "metadata": {},
          "output_type": "display_data"
        }
      ],
      "source": [
        "import matplotlib.pyplot as plt\n",
        "\n",
        "plt.hist(audio_lengthes_df[\"length\"], bins=5)\n",
        "plt.show()"
      ]
    },
    {
      "cell_type": "code",
      "execution_count": null,
      "metadata": {
        "colab": {
          "base_uri": "https://localhost:8080/"
        },
        "id": "haqtxSTMiGtr",
        "outputId": "128418b9-d134-4675-f2df-a78c3a127fb8"
      },
      "outputs": [
        {
          "name": "stdout",
          "output_type": "stream",
          "text": [
            "Outliers:  [86016, 86016, 108544, 441000, 441000, 83968, 102401, 86016, 441000, 441000, 441000, 441000, 82791, 84672, 441000, 441000, 86554, 441000, 441000, 441000, 441000, 95962, 77147, 441000, 79028, 77147, 92198, 441000, 441000, 441000, 441000, 441000, 178177, 441000, 79872, 94209, 86016, 441000, 94209, 441000, 83968, 81920, 441000, 79028, 80909, 441000, 84672, 441000, 441000, 441000, 80909, 441000, 441000, 79028, 441000, 80909, 441000, 441000, 441000, 441000, 80909, 441000, 441000, 441000, 441000, 441000, 441000, 441000, 441000, 77147, 88436, 441000, 441000, 441000, 83968, 441000, 441000, 441000, 441000, 441000, 441000, 441000, 441000, 441000, 441000, 441000, 441000, 441000, 79028, 441000, 441000, 80909, 79028, 441000, 441000, 441000, 101607, 441000, 441000, 441000, 441000, 441000, 441000, 441000, 441000, 441000, 441000, 441000, 95962, 441000, 83968, 79872, 79872, 441000, 441000, 143360, 441000, 81920, 81920, 98305, 441000, 441000, 441000, 83968, 159744, 441000, 441000, 441000, 441000, 441000, 441000, 441000, 77825, 86016, 86016, 77825, 441000, 441000, 441000, 441000, 441000, 88064, 77825, 79028, 107252, 441000, 90317, 97843, 86554, 92198, 86554, 127950, 79028, 82791, 84672, 86554, 150529, 79028, 84672, 77147, 441000, 441000, 86554, 77147, 79028, 90317, 86554, 112896, 79028, 86554, 80909, 79028, 82791, 79028, 82791, 80909, 79028, 82791, 90317, 92198, 79028, 84672, 77147, 80909, 82791, 80909, 90317, 441000, 441000, 90317, 441000, 441000, 146765, 109133, 441000, 441000, 441000, 441000, 88064, 441000, 77825, 441000, 441000, 441000, 441000, 441000, 441000, 77147, 77147, 84672, 79028, 95962, 77147, 79028, 84672, 84672, 77147, 84672, 97843, 99726, 80909, 88436, 90317, 107252, 441000, 86554, 79028, 441000, 441000, 441000, 77825, 81920, 86016, 441000, 141120, 441000, 441000, 94081, 441000, 441000, 441000, 441000, 77825, 79872, 441000, 79872, 441000, 441000, 441000, 441000, 441000, 441000, 441000, 441000, 441000, 441000, 441000, 441000, 441000, 441000, 92198, 441000, 441000, 79028, 88436, 97843, 441000, 441000, 441000, 441000, 441000, 80909, 82791, 441000, 80909, 101607, 441000, 77147, 86554, 441000, 441000, 77147, 84672, 77147, 99726, 97843, 441000, 441000, 441000, 441000, 77825, 441000, 80909, 77147, 82791, 441000, 441000, 441000, 80909, 92198, 441000, 86554, 101607, 82791, 441000, 441000, 441000, 441000, 441000, 79028, 441000, 441000, 441000, 97843, 441000, 441000, 441000, 94081, 79028, 79028, 97843, 441000, 79028, 90317, 97843, 79028, 77147, 88436, 441000, 163700, 79028, 80909, 99726, 79028, 77147, 82791, 291649, 95962, 441000, 84672, 441000, 86554, 441000, 77825, 441000, 90112, 81920, 441000, 441000, 441000, 81920, 441000, 441000, 77147, 441000, 441000, 441000, 441000, 86554, 120422, 441000, 80909, 88436, 441000, 88436, 86554, 441000, 79028, 441000, 77147, 199450, 80909, 92198, 105371, 441000, 441000, 441000, 441000, 441000, 197568, 97843, 111015, 118541, 77147, 441000, 86554, 99726, 86554, 77147, 79028, 79028, 82791, 97843, 86554, 80909, 80909, 79028, 80909, 79028, 92198, 86554, 441000, 77147, 84672, 111015, 114778, 127950, 84672, 79028, 90317, 79028, 94081, 109133, 82791, 441000, 441000, 79872, 96257, 106496, 86016, 104449, 77825, 441000, 441000, 94081, 101607, 116660, 90317, 99726, 77147, 77147, 441000, 86554, 101607, 101607, 77147, 80909, 441000, 441000, 441000, 441000, 441000, 441000, 441000, 441000, 441000, 441000, 441000, 441000, 441000, 441000, 441000, 441000, 441000, 441000, 441000, 86554, 77147, 88436, 80909, 441000, 441000, 441000, 90317, 441000, 441000, 441000, 441000, 441000, 441000, 441000, 441000, 82791, 99726, 80909, 441000, 441000, 441000, 77147, 441000, 441000, 441000, 441000, 441000, 441000, 441000, 77147, 441000, 441000, 441000, 441000, 441000, 441000, 441000, 441000, 441000, 441000, 441000, 86554, 441000, 441000, 441000, 441000, 441000, 441000, 441000, 441000, 441000, 441000, 441000, 441000, 441000, 441000, 441000, 90317, 441000, 80909, 441000, 441000, 92198, 441000, 441000, 441000, 441000, 86554, 95962, 441000, 441000, 441000, 441000, 441000, 441000, 441000, 441000, 441000, 441000, 441000, 90317, 441000, 441000, 441000, 441000, 441000, 441000, 441000, 441000, 86554, 441000, 441000, 441000, 441000, 441000, 441000, 79028, 441000, 86016, 441000, 441000, 441000]\n"
          ]
        }
      ],
      "source": [
        "import numpy as np\n",
        "# calculate quartiles\n",
        "quartile_1, quartile_3 = np.percentile(audio_lengthes_df[\"length\"], [25, 75])\n",
        "\n",
        "# calculate interquartile range\n",
        "iqr = quartile_3 - quartile_1\n",
        "\n",
        "# identify outliers\n",
        "outliers = []\n",
        "for i in audio_lengthes_df[\"length\"]:\n",
        "    if i < (quartile_1 - 1.5 * iqr) or i > (quartile_3 + 1.5 * iqr):\n",
        "        outliers.append(i)\n",
        "\n",
        "print(\"Outliers: \", outliers)"
      ]
    },
    {
      "cell_type": "code",
      "execution_count": null,
      "metadata": {
        "colab": {
          "base_uri": "https://localhost:8080/"
        },
        "id": "-tEtDwBniSK3",
        "outputId": "cc0242dc-6964-4ad7-fbdc-64385d7f3ece"
      },
      "outputs": [
        {
          "name": "stdout",
          "output_type": "stream",
          "text": [
            "76670.5\n"
          ]
        }
      ],
      "source": [
        "print(quartile_3 + 1.5 * iqr)\n"
      ]
    },
    {
      "cell_type": "code",
      "execution_count": null,
      "metadata": {
        "colab": {
          "base_uri": "https://localhost:8080/"
        },
        "id": "gOFUFNZNiGwZ",
        "outputId": "70434220-3e88-4ff6-a834-e483eff8fdad"
      },
      "outputs": [
        {
          "data": {
            "text/plain": [
              "0       False\n",
              "1       False\n",
              "2       False\n",
              "3       False\n",
              "4       False\n",
              "        ...  \n",
              "9849    False\n",
              "9850    False\n",
              "9851    False\n",
              "9852    False\n",
              "9853    False\n",
              "Name: length, Length: 9854, dtype: bool"
            ]
          },
          "execution_count": 15,
          "metadata": {},
          "output_type": "execute_result"
        }
      ],
      "source": [
        "outlier_mask = audio_lengthes_df[\"length\"]>76670\n",
        "outlier_mask"
      ]
    },
    {
      "cell_type": "code",
      "execution_count": null,
      "metadata": {
        "colab": {
          "base_uri": "https://localhost:8080/"
        },
        "id": "WOnHyhtZmn1p",
        "outputId": "f88ccd79-48d8-48fa-c89c-2cf0fe8e1ef8"
      },
      "outputs": [
        {
          "data": {
            "text/plain": [
              "pandas.core.frame.DataFrame"
            ]
          },
          "execution_count": 16,
          "metadata": {},
          "output_type": "execute_result"
        }
      ],
      "source": [
        "outlier_mask_df =pd.DataFrame(outlier_mask) \n",
        "type(outlier_mask_df)"
      ]
    },
    {
      "cell_type": "code",
      "execution_count": null,
      "metadata": {
        "colab": {
          "base_uri": "https://localhost:8080/"
        },
        "id": "fuPfXWuis0ig",
        "outputId": "45671d3c-b5e8-42ad-a621-8e62376529b1"
      },
      "outputs": [
        {
          "data": {
            "text/plain": [
              "<bound method NDFrame.head of       length\n",
              "0      False\n",
              "1      False\n",
              "2      False\n",
              "3      False\n",
              "4      False\n",
              "...      ...\n",
              "9849   False\n",
              "9850   False\n",
              "9851   False\n",
              "9852   False\n",
              "9853   False\n",
              "\n",
              "[9854 rows x 1 columns]>"
            ]
          },
          "execution_count": 17,
          "metadata": {},
          "output_type": "execute_result"
        }
      ],
      "source": [
        "outlier_mask_df.head"
      ]
    },
    {
      "cell_type": "code",
      "execution_count": null,
      "metadata": {
        "id": "qjHfS2qTrgEZ"
      },
      "outputs": [],
      "source": [
        "\n",
        "import csv\n",
        "filename = \"outlier_mask.csv\"\n",
        "with open(filename, 'w', newline='') as csvfile:\n",
        "    # Creating a CSV writer object\n",
        "    csvwriter = csv.writer(csvfile)\n",
        "\n",
        "    # Writing the column headers and data rows\n",
        "    csvwriter.writerows(outlier_mask_df)"
      ]
    },
    {
      "cell_type": "code",
      "execution_count": null,
      "metadata": {
        "colab": {
          "base_uri": "https://localhost:8080/"
        },
        "id": "bKHHi7hmiGzN",
        "outputId": "ada1a423-8ddf-4120-bf8a-2f6c5f409877"
      },
      "outputs": [
        {
          "data": {
            "text/plain": [
              "(9295, 10)"
            ]
          },
          "execution_count": 19,
          "metadata": {},
          "output_type": "execute_result"
        }
      ],
      "source": [
        "dff = metadata\n",
        "dff.drop(dff[outlier_mask].index, inplace=True)\n",
        "dff.shape"
      ]
    },
    {
      "cell_type": "code",
      "execution_count": null,
      "metadata": {
        "colab": {
          "base_uri": "https://localhost:8080/",
          "height": 1000
        },
        "id": "K_D_uwbcixRi",
        "outputId": "18bbbc83-16c8-4b55-9b73-93f581ce5b99"
      },
      "outputs": [
        {
          "data": {
            "text/html": [
              "\n",
              "  <div id=\"df-a2ef10b2-032d-4d7a-8f8f-373886f5e720\">\n",
              "    <div class=\"colab-df-container\">\n",
              "      <div>\n",
              "<style scoped>\n",
              "    .dataframe tbody tr th:only-of-type {\n",
              "        vertical-align: middle;\n",
              "    }\n",
              "\n",
              "    .dataframe tbody tr th {\n",
              "        vertical-align: top;\n",
              "    }\n",
              "\n",
              "    .dataframe thead th {\n",
              "        text-align: right;\n",
              "    }\n",
              "</style>\n",
              "<table border=\"1\" class=\"dataframe\">\n",
              "  <thead>\n",
              "    <tr style=\"text-align: right;\">\n",
              "      <th></th>\n",
              "      <th>Id</th>\n",
              "      <th>path</th>\n",
              "      <th>speakerId</th>\n",
              "      <th>action</th>\n",
              "      <th>object</th>\n",
              "      <th>Self-reported fluency level</th>\n",
              "      <th>First Language spoken</th>\n",
              "      <th>Current language used for work/school</th>\n",
              "      <th>gender</th>\n",
              "      <th>ageRange</th>\n",
              "    </tr>\n",
              "  </thead>\n",
              "  <tbody>\n",
              "    <tr>\n",
              "      <th>0</th>\n",
              "      <td>0</td>\n",
              "      <td>dsl_data/audio/speakers/2BqVo8kVB2Skwgyb/0a312...</td>\n",
              "      <td>2BqVo8kVB2Skwgyb</td>\n",
              "      <td>change language</td>\n",
              "      <td>none</td>\n",
              "      <td>advanced</td>\n",
              "      <td>English (United States)</td>\n",
              "      <td>English (United States)</td>\n",
              "      <td>female</td>\n",
              "      <td>22-40</td>\n",
              "    </tr>\n",
              "    <tr>\n",
              "      <th>1</th>\n",
              "      <td>1</td>\n",
              "      <td>dsl_data/audio/speakers/2BqVo8kVB2Skwgyb/0ee42...</td>\n",
              "      <td>2BqVo8kVB2Skwgyb</td>\n",
              "      <td>activate</td>\n",
              "      <td>music</td>\n",
              "      <td>advanced</td>\n",
              "      <td>English (United States)</td>\n",
              "      <td>English (United States)</td>\n",
              "      <td>female</td>\n",
              "      <td>22-40</td>\n",
              "    </tr>\n",
              "    <tr>\n",
              "      <th>2</th>\n",
              "      <td>2</td>\n",
              "      <td>dsl_data/audio/speakers/2BqVo8kVB2Skwgyb/1d9f3...</td>\n",
              "      <td>2BqVo8kVB2Skwgyb</td>\n",
              "      <td>deactivate</td>\n",
              "      <td>lights</td>\n",
              "      <td>advanced</td>\n",
              "      <td>English (United States)</td>\n",
              "      <td>English (United States)</td>\n",
              "      <td>female</td>\n",
              "      <td>22-40</td>\n",
              "    </tr>\n",
              "    <tr>\n",
              "      <th>3</th>\n",
              "      <td>3</td>\n",
              "      <td>dsl_data/audio/speakers/2BqVo8kVB2Skwgyb/269fc...</td>\n",
              "      <td>2BqVo8kVB2Skwgyb</td>\n",
              "      <td>increase</td>\n",
              "      <td>volume</td>\n",
              "      <td>advanced</td>\n",
              "      <td>English (United States)</td>\n",
              "      <td>English (United States)</td>\n",
              "      <td>female</td>\n",
              "      <td>22-40</td>\n",
              "    </tr>\n",
              "    <tr>\n",
              "      <th>4</th>\n",
              "      <td>4</td>\n",
              "      <td>dsl_data/audio/speakers/2BqVo8kVB2Skwgyb/5bbda...</td>\n",
              "      <td>2BqVo8kVB2Skwgyb</td>\n",
              "      <td>increase</td>\n",
              "      <td>volume</td>\n",
              "      <td>advanced</td>\n",
              "      <td>English (United States)</td>\n",
              "      <td>English (United States)</td>\n",
              "      <td>female</td>\n",
              "      <td>22-40</td>\n",
              "    </tr>\n",
              "    <tr>\n",
              "      <th>5</th>\n",
              "      <td>5</td>\n",
              "      <td>dsl_data/audio/speakers/2BqVo8kVB2Skwgyb/6436a...</td>\n",
              "      <td>2BqVo8kVB2Skwgyb</td>\n",
              "      <td>decrease</td>\n",
              "      <td>volume</td>\n",
              "      <td>advanced</td>\n",
              "      <td>English (United States)</td>\n",
              "      <td>English (United States)</td>\n",
              "      <td>female</td>\n",
              "      <td>22-40</td>\n",
              "    </tr>\n",
              "    <tr>\n",
              "      <th>6</th>\n",
              "      <td>6</td>\n",
              "      <td>dsl_data/audio/speakers/2BqVo8kVB2Skwgyb/6a1cd...</td>\n",
              "      <td>2BqVo8kVB2Skwgyb</td>\n",
              "      <td>increase</td>\n",
              "      <td>heat</td>\n",
              "      <td>advanced</td>\n",
              "      <td>English (United States)</td>\n",
              "      <td>English (United States)</td>\n",
              "      <td>female</td>\n",
              "      <td>22-40</td>\n",
              "    </tr>\n",
              "    <tr>\n",
              "      <th>7</th>\n",
              "      <td>7</td>\n",
              "      <td>dsl_data/audio/speakers/2BqVo8kVB2Skwgyb/72160...</td>\n",
              "      <td>2BqVo8kVB2Skwgyb</td>\n",
              "      <td>increase</td>\n",
              "      <td>heat</td>\n",
              "      <td>advanced</td>\n",
              "      <td>English (United States)</td>\n",
              "      <td>English (United States)</td>\n",
              "      <td>female</td>\n",
              "      <td>22-40</td>\n",
              "    </tr>\n",
              "    <tr>\n",
              "      <th>8</th>\n",
              "      <td>8</td>\n",
              "      <td>dsl_data/audio/speakers/2BqVo8kVB2Skwgyb/74d26...</td>\n",
              "      <td>2BqVo8kVB2Skwgyb</td>\n",
              "      <td>decrease</td>\n",
              "      <td>heat</td>\n",
              "      <td>advanced</td>\n",
              "      <td>English (United States)</td>\n",
              "      <td>English (United States)</td>\n",
              "      <td>female</td>\n",
              "      <td>22-40</td>\n",
              "    </tr>\n",
              "    <tr>\n",
              "      <th>9</th>\n",
              "      <td>9</td>\n",
              "      <td>dsl_data/audio/speakers/2BqVo8kVB2Skwgyb/77cb5...</td>\n",
              "      <td>2BqVo8kVB2Skwgyb</td>\n",
              "      <td>decrease</td>\n",
              "      <td>heat</td>\n",
              "      <td>advanced</td>\n",
              "      <td>English (United States)</td>\n",
              "      <td>English (United States)</td>\n",
              "      <td>female</td>\n",
              "      <td>22-40</td>\n",
              "    </tr>\n",
              "    <tr>\n",
              "      <th>10</th>\n",
              "      <td>10</td>\n",
              "      <td>dsl_data/audio/speakers/2BqVo8kVB2Skwgyb/7aab1...</td>\n",
              "      <td>2BqVo8kVB2Skwgyb</td>\n",
              "      <td>decrease</td>\n",
              "      <td>heat</td>\n",
              "      <td>advanced</td>\n",
              "      <td>English (United States)</td>\n",
              "      <td>English (United States)</td>\n",
              "      <td>female</td>\n",
              "      <td>22-40</td>\n",
              "    </tr>\n",
              "    <tr>\n",
              "      <th>11</th>\n",
              "      <td>11</td>\n",
              "      <td>dsl_data/audio/speakers/2BqVo8kVB2Skwgyb/7d87b...</td>\n",
              "      <td>2BqVo8kVB2Skwgyb</td>\n",
              "      <td>decrease</td>\n",
              "      <td>heat</td>\n",
              "      <td>advanced</td>\n",
              "      <td>English (United States)</td>\n",
              "      <td>English (United States)</td>\n",
              "      <td>female</td>\n",
              "      <td>22-40</td>\n",
              "    </tr>\n",
              "    <tr>\n",
              "      <th>12</th>\n",
              "      <td>12</td>\n",
              "      <td>dsl_data/audio/speakers/2BqVo8kVB2Skwgyb/870ef...</td>\n",
              "      <td>2BqVo8kVB2Skwgyb</td>\n",
              "      <td>activate</td>\n",
              "      <td>music</td>\n",
              "      <td>advanced</td>\n",
              "      <td>English (United States)</td>\n",
              "      <td>English (United States)</td>\n",
              "      <td>female</td>\n",
              "      <td>22-40</td>\n",
              "    </tr>\n",
              "    <tr>\n",
              "      <th>13</th>\n",
              "      <td>13</td>\n",
              "      <td>dsl_data/audio/speakers/2BqVo8kVB2Skwgyb/892a8...</td>\n",
              "      <td>2BqVo8kVB2Skwgyb</td>\n",
              "      <td>activate</td>\n",
              "      <td>music</td>\n",
              "      <td>advanced</td>\n",
              "      <td>English (United States)</td>\n",
              "      <td>English (United States)</td>\n",
              "      <td>female</td>\n",
              "      <td>22-40</td>\n",
              "    </tr>\n",
              "    <tr>\n",
              "      <th>14</th>\n",
              "      <td>14</td>\n",
              "      <td>dsl_data/audio/speakers/2BqVo8kVB2Skwgyb/8b443...</td>\n",
              "      <td>2BqVo8kVB2Skwgyb</td>\n",
              "      <td>activate</td>\n",
              "      <td>music</td>\n",
              "      <td>advanced</td>\n",
              "      <td>English (United States)</td>\n",
              "      <td>English (United States)</td>\n",
              "      <td>female</td>\n",
              "      <td>22-40</td>\n",
              "    </tr>\n",
              "    <tr>\n",
              "      <th>15</th>\n",
              "      <td>15</td>\n",
              "      <td>dsl_data/audio/speakers/2BqVo8kVB2Skwgyb/ecdad...</td>\n",
              "      <td>2BqVo8kVB2Skwgyb</td>\n",
              "      <td>deactivate</td>\n",
              "      <td>lights</td>\n",
              "      <td>advanced</td>\n",
              "      <td>English (United States)</td>\n",
              "      <td>English (United States)</td>\n",
              "      <td>female</td>\n",
              "      <td>22-40</td>\n",
              "    </tr>\n",
              "    <tr>\n",
              "      <th>16</th>\n",
              "      <td>16</td>\n",
              "      <td>dsl_data/audio/speakers/2BqVo8kVB2Skwgyb/256b2...</td>\n",
              "      <td>2BqVo8kVB2Skwgyb</td>\n",
              "      <td>increase</td>\n",
              "      <td>volume</td>\n",
              "      <td>advanced</td>\n",
              "      <td>English (United States)</td>\n",
              "      <td>English (United States)</td>\n",
              "      <td>female</td>\n",
              "      <td>22-40</td>\n",
              "    </tr>\n",
              "    <tr>\n",
              "      <th>17</th>\n",
              "      <td>17</td>\n",
              "      <td>dsl_data/audio/speakers/2BqVo8kVB2Skwgyb/2bf9e...</td>\n",
              "      <td>2BqVo8kVB2Skwgyb</td>\n",
              "      <td>increase</td>\n",
              "      <td>volume</td>\n",
              "      <td>advanced</td>\n",
              "      <td>English (United States)</td>\n",
              "      <td>English (United States)</td>\n",
              "      <td>female</td>\n",
              "      <td>22-40</td>\n",
              "    </tr>\n",
              "    <tr>\n",
              "      <th>18</th>\n",
              "      <td>18</td>\n",
              "      <td>dsl_data/audio/speakers/2BqVo8kVB2Skwgyb/2e4b5...</td>\n",
              "      <td>2BqVo8kVB2Skwgyb</td>\n",
              "      <td>increase</td>\n",
              "      <td>volume</td>\n",
              "      <td>advanced</td>\n",
              "      <td>English (United States)</td>\n",
              "      <td>English (United States)</td>\n",
              "      <td>female</td>\n",
              "      <td>22-40</td>\n",
              "    </tr>\n",
              "    <tr>\n",
              "      <th>19</th>\n",
              "      <td>19</td>\n",
              "      <td>dsl_data/audio/speakers/2BqVo8kVB2Skwgyb/30e3d...</td>\n",
              "      <td>2BqVo8kVB2Skwgyb</td>\n",
              "      <td>increase</td>\n",
              "      <td>volume</td>\n",
              "      <td>advanced</td>\n",
              "      <td>English (United States)</td>\n",
              "      <td>English (United States)</td>\n",
              "      <td>female</td>\n",
              "      <td>22-40</td>\n",
              "    </tr>\n",
              "    <tr>\n",
              "      <th>20</th>\n",
              "      <td>20</td>\n",
              "      <td>dsl_data/audio/speakers/2BqVo8kVB2Skwgyb/33a69...</td>\n",
              "      <td>2BqVo8kVB2Skwgyb</td>\n",
              "      <td>increase</td>\n",
              "      <td>volume</td>\n",
              "      <td>advanced</td>\n",
              "      <td>English (United States)</td>\n",
              "      <td>English (United States)</td>\n",
              "      <td>female</td>\n",
              "      <td>22-40</td>\n",
              "    </tr>\n",
              "    <tr>\n",
              "      <th>21</th>\n",
              "      <td>21</td>\n",
              "      <td>dsl_data/audio/speakers/2BqVo8kVB2Skwgyb/35fdd...</td>\n",
              "      <td>2BqVo8kVB2Skwgyb</td>\n",
              "      <td>increase</td>\n",
              "      <td>volume</td>\n",
              "      <td>advanced</td>\n",
              "      <td>English (United States)</td>\n",
              "      <td>English (United States)</td>\n",
              "      <td>female</td>\n",
              "      <td>22-40</td>\n",
              "    </tr>\n",
              "    <tr>\n",
              "      <th>22</th>\n",
              "      <td>22</td>\n",
              "      <td>dsl_data/audio/speakers/2BqVo8kVB2Skwgyb/3acc7...</td>\n",
              "      <td>2BqVo8kVB2Skwgyb</td>\n",
              "      <td>increase</td>\n",
              "      <td>volume</td>\n",
              "      <td>advanced</td>\n",
              "      <td>English (United States)</td>\n",
              "      <td>English (United States)</td>\n",
              "      <td>female</td>\n",
              "      <td>22-40</td>\n",
              "    </tr>\n",
              "    <tr>\n",
              "      <th>26</th>\n",
              "      <td>26</td>\n",
              "      <td>dsl_data/audio/speakers/2BqVo8kVB2Skwgyb/5fa28...</td>\n",
              "      <td>2BqVo8kVB2Skwgyb</td>\n",
              "      <td>decrease</td>\n",
              "      <td>volume</td>\n",
              "      <td>advanced</td>\n",
              "      <td>English (United States)</td>\n",
              "      <td>English (United States)</td>\n",
              "      <td>female</td>\n",
              "      <td>22-40</td>\n",
              "    </tr>\n",
              "    <tr>\n",
              "      <th>27</th>\n",
              "      <td>27</td>\n",
              "      <td>dsl_data/audio/speakers/2BqVo8kVB2Skwgyb/623cb...</td>\n",
              "      <td>2BqVo8kVB2Skwgyb</td>\n",
              "      <td>decrease</td>\n",
              "      <td>volume</td>\n",
              "      <td>advanced</td>\n",
              "      <td>English (United States)</td>\n",
              "      <td>English (United States)</td>\n",
              "      <td>female</td>\n",
              "      <td>22-40</td>\n",
              "    </tr>\n",
              "    <tr>\n",
              "      <th>28</th>\n",
              "      <td>28</td>\n",
              "      <td>dsl_data/audio/speakers/2BqVo8kVB2Skwgyb/64d89...</td>\n",
              "      <td>2BqVo8kVB2Skwgyb</td>\n",
              "      <td>decrease</td>\n",
              "      <td>volume</td>\n",
              "      <td>advanced</td>\n",
              "      <td>English (United States)</td>\n",
              "      <td>English (United States)</td>\n",
              "      <td>female</td>\n",
              "      <td>22-40</td>\n",
              "    </tr>\n",
              "    <tr>\n",
              "      <th>29</th>\n",
              "      <td>29</td>\n",
              "      <td>dsl_data/audio/speakers/2BqVo8kVB2Skwgyb/69445...</td>\n",
              "      <td>2BqVo8kVB2Skwgyb</td>\n",
              "      <td>decrease</td>\n",
              "      <td>volume</td>\n",
              "      <td>advanced</td>\n",
              "      <td>English (United States)</td>\n",
              "      <td>English (United States)</td>\n",
              "      <td>female</td>\n",
              "      <td>22-40</td>\n",
              "    </tr>\n",
              "    <tr>\n",
              "      <th>30</th>\n",
              "      <td>30</td>\n",
              "      <td>dsl_data/audio/speakers/2BqVo8kVB2Skwgyb/6bfc4...</td>\n",
              "      <td>2BqVo8kVB2Skwgyb</td>\n",
              "      <td>decrease</td>\n",
              "      <td>volume</td>\n",
              "      <td>advanced</td>\n",
              "      <td>English (United States)</td>\n",
              "      <td>English (United States)</td>\n",
              "      <td>female</td>\n",
              "      <td>22-40</td>\n",
              "    </tr>\n",
              "    <tr>\n",
              "      <th>31</th>\n",
              "      <td>31</td>\n",
              "      <td>dsl_data/audio/speakers/2BqVo8kVB2Skwgyb/6ece8...</td>\n",
              "      <td>2BqVo8kVB2Skwgyb</td>\n",
              "      <td>decrease</td>\n",
              "      <td>volume</td>\n",
              "      <td>advanced</td>\n",
              "      <td>English (United States)</td>\n",
              "      <td>English (United States)</td>\n",
              "      <td>female</td>\n",
              "      <td>22-40</td>\n",
              "    </tr>\n",
              "    <tr>\n",
              "      <th>32</th>\n",
              "      <td>32</td>\n",
              "      <td>dsl_data/audio/speakers/2BqVo8kVB2Skwgyb/769cf...</td>\n",
              "      <td>2BqVo8kVB2Skwgyb</td>\n",
              "      <td>decrease</td>\n",
              "      <td>volume</td>\n",
              "      <td>advanced</td>\n",
              "      <td>English (United States)</td>\n",
              "      <td>English (United States)</td>\n",
              "      <td>female</td>\n",
              "      <td>22-40</td>\n",
              "    </tr>\n",
              "    <tr>\n",
              "      <th>33</th>\n",
              "      <td>33</td>\n",
              "      <td>dsl_data/audio/speakers/2BqVo8kVB2Skwgyb/78895...</td>\n",
              "      <td>2BqVo8kVB2Skwgyb</td>\n",
              "      <td>decrease</td>\n",
              "      <td>volume</td>\n",
              "      <td>advanced</td>\n",
              "      <td>English (United States)</td>\n",
              "      <td>English (United States)</td>\n",
              "      <td>female</td>\n",
              "      <td>22-40</td>\n",
              "    </tr>\n",
              "    <tr>\n",
              "      <th>34</th>\n",
              "      <td>34</td>\n",
              "      <td>dsl_data/audio/speakers/2BqVo8kVB2Skwgyb/7ad87...</td>\n",
              "      <td>2BqVo8kVB2Skwgyb</td>\n",
              "      <td>decrease</td>\n",
              "      <td>volume</td>\n",
              "      <td>advanced</td>\n",
              "      <td>English (United States)</td>\n",
              "      <td>English (United States)</td>\n",
              "      <td>female</td>\n",
              "      <td>22-40</td>\n",
              "    </tr>\n",
              "    <tr>\n",
              "      <th>35</th>\n",
              "      <td>35</td>\n",
              "      <td>dsl_data/audio/speakers/2BqVo8kVB2Skwgyb/7d5d7...</td>\n",
              "      <td>2BqVo8kVB2Skwgyb</td>\n",
              "      <td>decrease</td>\n",
              "      <td>volume</td>\n",
              "      <td>advanced</td>\n",
              "      <td>English (United States)</td>\n",
              "      <td>English (United States)</td>\n",
              "      <td>female</td>\n",
              "      <td>22-40</td>\n",
              "    </tr>\n",
              "    <tr>\n",
              "      <th>37</th>\n",
              "      <td>37</td>\n",
              "      <td>dsl_data/audio/speakers/2BqVo8kVB2Skwgyb/894c6...</td>\n",
              "      <td>2BqVo8kVB2Skwgyb</td>\n",
              "      <td>decrease</td>\n",
              "      <td>volume</td>\n",
              "      <td>advanced</td>\n",
              "      <td>English (United States)</td>\n",
              "      <td>English (United States)</td>\n",
              "      <td>female</td>\n",
              "      <td>22-40</td>\n",
              "    </tr>\n",
              "    <tr>\n",
              "      <th>38</th>\n",
              "      <td>38</td>\n",
              "      <td>dsl_data/audio/speakers/2BqVo8kVB2Skwgyb/8c300...</td>\n",
              "      <td>2BqVo8kVB2Skwgyb</td>\n",
              "      <td>increase</td>\n",
              "      <td>heat</td>\n",
              "      <td>advanced</td>\n",
              "      <td>English (United States)</td>\n",
              "      <td>English (United States)</td>\n",
              "      <td>female</td>\n",
              "      <td>22-40</td>\n",
              "    </tr>\n",
              "    <tr>\n",
              "      <th>39</th>\n",
              "      <td>39</td>\n",
              "      <td>dsl_data/audio/speakers/2BqVo8kVB2Skwgyb/8f0c4...</td>\n",
              "      <td>2BqVo8kVB2Skwgyb</td>\n",
              "      <td>increase</td>\n",
              "      <td>heat</td>\n",
              "      <td>advanced</td>\n",
              "      <td>English (United States)</td>\n",
              "      <td>English (United States)</td>\n",
              "      <td>female</td>\n",
              "      <td>22-40</td>\n",
              "    </tr>\n",
              "    <tr>\n",
              "      <th>40</th>\n",
              "      <td>40</td>\n",
              "      <td>dsl_data/audio/speakers/2BqVo8kVB2Skwgyb/96357...</td>\n",
              "      <td>2BqVo8kVB2Skwgyb</td>\n",
              "      <td>increase</td>\n",
              "      <td>heat</td>\n",
              "      <td>advanced</td>\n",
              "      <td>English (United States)</td>\n",
              "      <td>English (United States)</td>\n",
              "      <td>female</td>\n",
              "      <td>22-40</td>\n",
              "    </tr>\n",
              "    <tr>\n",
              "      <th>41</th>\n",
              "      <td>41</td>\n",
              "      <td>dsl_data/audio/speakers/2BqVo8kVB2Skwgyb/98c88...</td>\n",
              "      <td>2BqVo8kVB2Skwgyb</td>\n",
              "      <td>increase</td>\n",
              "      <td>heat</td>\n",
              "      <td>advanced</td>\n",
              "      <td>English (United States)</td>\n",
              "      <td>English (United States)</td>\n",
              "      <td>female</td>\n",
              "      <td>22-40</td>\n",
              "    </tr>\n",
              "    <tr>\n",
              "      <th>42</th>\n",
              "      <td>42</td>\n",
              "      <td>dsl_data/audio/speakers/2BqVo8kVB2Skwgyb/9ae5e...</td>\n",
              "      <td>2BqVo8kVB2Skwgyb</td>\n",
              "      <td>increase</td>\n",
              "      <td>heat</td>\n",
              "      <td>advanced</td>\n",
              "      <td>English (United States)</td>\n",
              "      <td>English (United States)</td>\n",
              "      <td>female</td>\n",
              "      <td>22-40</td>\n",
              "    </tr>\n",
              "    <tr>\n",
              "      <th>43</th>\n",
              "      <td>43</td>\n",
              "      <td>dsl_data/audio/speakers/2BqVo8kVB2Skwgyb/9da79...</td>\n",
              "      <td>2BqVo8kVB2Skwgyb</td>\n",
              "      <td>increase</td>\n",
              "      <td>heat</td>\n",
              "      <td>advanced</td>\n",
              "      <td>English (United States)</td>\n",
              "      <td>English (United States)</td>\n",
              "      <td>female</td>\n",
              "      <td>22-40</td>\n",
              "    </tr>\n",
              "  </tbody>\n",
              "</table>\n",
              "</div>\n",
              "      <button class=\"colab-df-convert\" onclick=\"convertToInteractive('df-a2ef10b2-032d-4d7a-8f8f-373886f5e720')\"\n",
              "              title=\"Convert this dataframe to an interactive table.\"\n",
              "              style=\"display:none;\">\n",
              "        \n",
              "  <svg xmlns=\"http://www.w3.org/2000/svg\" height=\"24px\"viewBox=\"0 0 24 24\"\n",
              "       width=\"24px\">\n",
              "    <path d=\"M0 0h24v24H0V0z\" fill=\"none\"/>\n",
              "    <path d=\"M18.56 5.44l.94 2.06.94-2.06 2.06-.94-2.06-.94-.94-2.06-.94 2.06-2.06.94zm-11 1L8.5 8.5l.94-2.06 2.06-.94-2.06-.94L8.5 2.5l-.94 2.06-2.06.94zm10 10l.94 2.06.94-2.06 2.06-.94-2.06-.94-.94-2.06-.94 2.06-2.06.94z\"/><path d=\"M17.41 7.96l-1.37-1.37c-.4-.4-.92-.59-1.43-.59-.52 0-1.04.2-1.43.59L10.3 9.45l-7.72 7.72c-.78.78-.78 2.05 0 2.83L4 21.41c.39.39.9.59 1.41.59.51 0 1.02-.2 1.41-.59l7.78-7.78 2.81-2.81c.8-.78.8-2.07 0-2.86zM5.41 20L4 18.59l7.72-7.72 1.47 1.35L5.41 20z\"/>\n",
              "  </svg>\n",
              "      </button>\n",
              "      \n",
              "  <style>\n",
              "    .colab-df-container {\n",
              "      display:flex;\n",
              "      flex-wrap:wrap;\n",
              "      gap: 12px;\n",
              "    }\n",
              "\n",
              "    .colab-df-convert {\n",
              "      background-color: #E8F0FE;\n",
              "      border: none;\n",
              "      border-radius: 50%;\n",
              "      cursor: pointer;\n",
              "      display: none;\n",
              "      fill: #1967D2;\n",
              "      height: 32px;\n",
              "      padding: 0 0 0 0;\n",
              "      width: 32px;\n",
              "    }\n",
              "\n",
              "    .colab-df-convert:hover {\n",
              "      background-color: #E2EBFA;\n",
              "      box-shadow: 0px 1px 2px rgba(60, 64, 67, 0.3), 0px 1px 3px 1px rgba(60, 64, 67, 0.15);\n",
              "      fill: #174EA6;\n",
              "    }\n",
              "\n",
              "    [theme=dark] .colab-df-convert {\n",
              "      background-color: #3B4455;\n",
              "      fill: #D2E3FC;\n",
              "    }\n",
              "\n",
              "    [theme=dark] .colab-df-convert:hover {\n",
              "      background-color: #434B5C;\n",
              "      box-shadow: 0px 1px 3px 1px rgba(0, 0, 0, 0.15);\n",
              "      filter: drop-shadow(0px 1px 2px rgba(0, 0, 0, 0.3));\n",
              "      fill: #FFFFFF;\n",
              "    }\n",
              "  </style>\n",
              "\n",
              "      <script>\n",
              "        const buttonEl =\n",
              "          document.querySelector('#df-a2ef10b2-032d-4d7a-8f8f-373886f5e720 button.colab-df-convert');\n",
              "        buttonEl.style.display =\n",
              "          google.colab.kernel.accessAllowed ? 'block' : 'none';\n",
              "\n",
              "        async function convertToInteractive(key) {\n",
              "          const element = document.querySelector('#df-a2ef10b2-032d-4d7a-8f8f-373886f5e720');\n",
              "          const dataTable =\n",
              "            await google.colab.kernel.invokeFunction('convertToInteractive',\n",
              "                                                     [key], {});\n",
              "          if (!dataTable) return;\n",
              "\n",
              "          const docLinkHtml = 'Like what you see? Visit the ' +\n",
              "            '<a target=\"_blank\" href=https://colab.research.google.com/notebooks/data_table.ipynb>data table notebook</a>'\n",
              "            + ' to learn more about interactive tables.';\n",
              "          element.innerHTML = '';\n",
              "          dataTable['output_type'] = 'display_data';\n",
              "          await google.colab.output.renderOutput(dataTable, element);\n",
              "          const docLink = document.createElement('div');\n",
              "          docLink.innerHTML = docLinkHtml;\n",
              "          element.appendChild(docLink);\n",
              "        }\n",
              "      </script>\n",
              "    </div>\n",
              "  </div>\n",
              "  "
            ],
            "text/plain": [
              "    Id                                               path         speakerId  \\\n",
              "0    0  dsl_data/audio/speakers/2BqVo8kVB2Skwgyb/0a312...  2BqVo8kVB2Skwgyb   \n",
              "1    1  dsl_data/audio/speakers/2BqVo8kVB2Skwgyb/0ee42...  2BqVo8kVB2Skwgyb   \n",
              "2    2  dsl_data/audio/speakers/2BqVo8kVB2Skwgyb/1d9f3...  2BqVo8kVB2Skwgyb   \n",
              "3    3  dsl_data/audio/speakers/2BqVo8kVB2Skwgyb/269fc...  2BqVo8kVB2Skwgyb   \n",
              "4    4  dsl_data/audio/speakers/2BqVo8kVB2Skwgyb/5bbda...  2BqVo8kVB2Skwgyb   \n",
              "5    5  dsl_data/audio/speakers/2BqVo8kVB2Skwgyb/6436a...  2BqVo8kVB2Skwgyb   \n",
              "6    6  dsl_data/audio/speakers/2BqVo8kVB2Skwgyb/6a1cd...  2BqVo8kVB2Skwgyb   \n",
              "7    7  dsl_data/audio/speakers/2BqVo8kVB2Skwgyb/72160...  2BqVo8kVB2Skwgyb   \n",
              "8    8  dsl_data/audio/speakers/2BqVo8kVB2Skwgyb/74d26...  2BqVo8kVB2Skwgyb   \n",
              "9    9  dsl_data/audio/speakers/2BqVo8kVB2Skwgyb/77cb5...  2BqVo8kVB2Skwgyb   \n",
              "10  10  dsl_data/audio/speakers/2BqVo8kVB2Skwgyb/7aab1...  2BqVo8kVB2Skwgyb   \n",
              "11  11  dsl_data/audio/speakers/2BqVo8kVB2Skwgyb/7d87b...  2BqVo8kVB2Skwgyb   \n",
              "12  12  dsl_data/audio/speakers/2BqVo8kVB2Skwgyb/870ef...  2BqVo8kVB2Skwgyb   \n",
              "13  13  dsl_data/audio/speakers/2BqVo8kVB2Skwgyb/892a8...  2BqVo8kVB2Skwgyb   \n",
              "14  14  dsl_data/audio/speakers/2BqVo8kVB2Skwgyb/8b443...  2BqVo8kVB2Skwgyb   \n",
              "15  15  dsl_data/audio/speakers/2BqVo8kVB2Skwgyb/ecdad...  2BqVo8kVB2Skwgyb   \n",
              "16  16  dsl_data/audio/speakers/2BqVo8kVB2Skwgyb/256b2...  2BqVo8kVB2Skwgyb   \n",
              "17  17  dsl_data/audio/speakers/2BqVo8kVB2Skwgyb/2bf9e...  2BqVo8kVB2Skwgyb   \n",
              "18  18  dsl_data/audio/speakers/2BqVo8kVB2Skwgyb/2e4b5...  2BqVo8kVB2Skwgyb   \n",
              "19  19  dsl_data/audio/speakers/2BqVo8kVB2Skwgyb/30e3d...  2BqVo8kVB2Skwgyb   \n",
              "20  20  dsl_data/audio/speakers/2BqVo8kVB2Skwgyb/33a69...  2BqVo8kVB2Skwgyb   \n",
              "21  21  dsl_data/audio/speakers/2BqVo8kVB2Skwgyb/35fdd...  2BqVo8kVB2Skwgyb   \n",
              "22  22  dsl_data/audio/speakers/2BqVo8kVB2Skwgyb/3acc7...  2BqVo8kVB2Skwgyb   \n",
              "26  26  dsl_data/audio/speakers/2BqVo8kVB2Skwgyb/5fa28...  2BqVo8kVB2Skwgyb   \n",
              "27  27  dsl_data/audio/speakers/2BqVo8kVB2Skwgyb/623cb...  2BqVo8kVB2Skwgyb   \n",
              "28  28  dsl_data/audio/speakers/2BqVo8kVB2Skwgyb/64d89...  2BqVo8kVB2Skwgyb   \n",
              "29  29  dsl_data/audio/speakers/2BqVo8kVB2Skwgyb/69445...  2BqVo8kVB2Skwgyb   \n",
              "30  30  dsl_data/audio/speakers/2BqVo8kVB2Skwgyb/6bfc4...  2BqVo8kVB2Skwgyb   \n",
              "31  31  dsl_data/audio/speakers/2BqVo8kVB2Skwgyb/6ece8...  2BqVo8kVB2Skwgyb   \n",
              "32  32  dsl_data/audio/speakers/2BqVo8kVB2Skwgyb/769cf...  2BqVo8kVB2Skwgyb   \n",
              "33  33  dsl_data/audio/speakers/2BqVo8kVB2Skwgyb/78895...  2BqVo8kVB2Skwgyb   \n",
              "34  34  dsl_data/audio/speakers/2BqVo8kVB2Skwgyb/7ad87...  2BqVo8kVB2Skwgyb   \n",
              "35  35  dsl_data/audio/speakers/2BqVo8kVB2Skwgyb/7d5d7...  2BqVo8kVB2Skwgyb   \n",
              "37  37  dsl_data/audio/speakers/2BqVo8kVB2Skwgyb/894c6...  2BqVo8kVB2Skwgyb   \n",
              "38  38  dsl_data/audio/speakers/2BqVo8kVB2Skwgyb/8c300...  2BqVo8kVB2Skwgyb   \n",
              "39  39  dsl_data/audio/speakers/2BqVo8kVB2Skwgyb/8f0c4...  2BqVo8kVB2Skwgyb   \n",
              "40  40  dsl_data/audio/speakers/2BqVo8kVB2Skwgyb/96357...  2BqVo8kVB2Skwgyb   \n",
              "41  41  dsl_data/audio/speakers/2BqVo8kVB2Skwgyb/98c88...  2BqVo8kVB2Skwgyb   \n",
              "42  42  dsl_data/audio/speakers/2BqVo8kVB2Skwgyb/9ae5e...  2BqVo8kVB2Skwgyb   \n",
              "43  43  dsl_data/audio/speakers/2BqVo8kVB2Skwgyb/9da79...  2BqVo8kVB2Skwgyb   \n",
              "\n",
              "             action  object Self-reported fluency level   \\\n",
              "0   change language    none                     advanced   \n",
              "1          activate   music                     advanced   \n",
              "2        deactivate  lights                     advanced   \n",
              "3          increase  volume                     advanced   \n",
              "4          increase  volume                     advanced   \n",
              "5          decrease  volume                     advanced   \n",
              "6          increase    heat                     advanced   \n",
              "7          increase    heat                     advanced   \n",
              "8          decrease    heat                     advanced   \n",
              "9          decrease    heat                     advanced   \n",
              "10         decrease    heat                     advanced   \n",
              "11         decrease    heat                     advanced   \n",
              "12         activate   music                     advanced   \n",
              "13         activate   music                     advanced   \n",
              "14         activate   music                     advanced   \n",
              "15       deactivate  lights                     advanced   \n",
              "16         increase  volume                     advanced   \n",
              "17         increase  volume                     advanced   \n",
              "18         increase  volume                     advanced   \n",
              "19         increase  volume                     advanced   \n",
              "20         increase  volume                     advanced   \n",
              "21         increase  volume                     advanced   \n",
              "22         increase  volume                     advanced   \n",
              "26         decrease  volume                     advanced   \n",
              "27         decrease  volume                     advanced   \n",
              "28         decrease  volume                     advanced   \n",
              "29         decrease  volume                     advanced   \n",
              "30         decrease  volume                     advanced   \n",
              "31         decrease  volume                     advanced   \n",
              "32         decrease  volume                     advanced   \n",
              "33         decrease  volume                     advanced   \n",
              "34         decrease  volume                     advanced   \n",
              "35         decrease  volume                     advanced   \n",
              "37         decrease  volume                     advanced   \n",
              "38         increase    heat                     advanced   \n",
              "39         increase    heat                     advanced   \n",
              "40         increase    heat                     advanced   \n",
              "41         increase    heat                     advanced   \n",
              "42         increase    heat                     advanced   \n",
              "43         increase    heat                     advanced   \n",
              "\n",
              "      First Language spoken Current language used for work/school  gender  \\\n",
              "0   English (United States)               English (United States)  female   \n",
              "1   English (United States)               English (United States)  female   \n",
              "2   English (United States)               English (United States)  female   \n",
              "3   English (United States)               English (United States)  female   \n",
              "4   English (United States)               English (United States)  female   \n",
              "5   English (United States)               English (United States)  female   \n",
              "6   English (United States)               English (United States)  female   \n",
              "7   English (United States)               English (United States)  female   \n",
              "8   English (United States)               English (United States)  female   \n",
              "9   English (United States)               English (United States)  female   \n",
              "10  English (United States)               English (United States)  female   \n",
              "11  English (United States)               English (United States)  female   \n",
              "12  English (United States)               English (United States)  female   \n",
              "13  English (United States)               English (United States)  female   \n",
              "14  English (United States)               English (United States)  female   \n",
              "15  English (United States)               English (United States)  female   \n",
              "16  English (United States)               English (United States)  female   \n",
              "17  English (United States)               English (United States)  female   \n",
              "18  English (United States)               English (United States)  female   \n",
              "19  English (United States)               English (United States)  female   \n",
              "20  English (United States)               English (United States)  female   \n",
              "21  English (United States)               English (United States)  female   \n",
              "22  English (United States)               English (United States)  female   \n",
              "26  English (United States)               English (United States)  female   \n",
              "27  English (United States)               English (United States)  female   \n",
              "28  English (United States)               English (United States)  female   \n",
              "29  English (United States)               English (United States)  female   \n",
              "30  English (United States)               English (United States)  female   \n",
              "31  English (United States)               English (United States)  female   \n",
              "32  English (United States)               English (United States)  female   \n",
              "33  English (United States)               English (United States)  female   \n",
              "34  English (United States)               English (United States)  female   \n",
              "35  English (United States)               English (United States)  female   \n",
              "37  English (United States)               English (United States)  female   \n",
              "38  English (United States)               English (United States)  female   \n",
              "39  English (United States)               English (United States)  female   \n",
              "40  English (United States)               English (United States)  female   \n",
              "41  English (United States)               English (United States)  female   \n",
              "42  English (United States)               English (United States)  female   \n",
              "43  English (United States)               English (United States)  female   \n",
              "\n",
              "   ageRange  \n",
              "0     22-40  \n",
              "1     22-40  \n",
              "2     22-40  \n",
              "3     22-40  \n",
              "4     22-40  \n",
              "5     22-40  \n",
              "6     22-40  \n",
              "7     22-40  \n",
              "8     22-40  \n",
              "9     22-40  \n",
              "10    22-40  \n",
              "11    22-40  \n",
              "12    22-40  \n",
              "13    22-40  \n",
              "14    22-40  \n",
              "15    22-40  \n",
              "16    22-40  \n",
              "17    22-40  \n",
              "18    22-40  \n",
              "19    22-40  \n",
              "20    22-40  \n",
              "21    22-40  \n",
              "22    22-40  \n",
              "26    22-40  \n",
              "27    22-40  \n",
              "28    22-40  \n",
              "29    22-40  \n",
              "30    22-40  \n",
              "31    22-40  \n",
              "32    22-40  \n",
              "33    22-40  \n",
              "34    22-40  \n",
              "35    22-40  \n",
              "37    22-40  \n",
              "38    22-40  \n",
              "39    22-40  \n",
              "40    22-40  \n",
              "41    22-40  \n",
              "42    22-40  \n",
              "43    22-40  "
            ]
          },
          "execution_count": 20,
          "metadata": {},
          "output_type": "execute_result"
        }
      ],
      "source": [
        "metadata[:40]"
      ]
    },
    {
      "cell_type": "code",
      "execution_count": null,
      "metadata": {
        "id": "JJdhdIYKi5ri"
      },
      "outputs": [],
      "source": [
        "# remove later\n",
        "def preprocess(file_path, label): \n",
        "    audio, sample_rate = librosa.load(file_name, res_type='kaiser_fast') \n",
        "    audio = audio[:76670]\n",
        "    zero_padding = tf.zeros([76670] - tf.shape(audio), dtype=tf.float32)\n",
        "    audio = tf.concat([zero_padding, wav],0)\n",
        "    return spectrogram, label\n",
        "\n",
        "   # spectrogram = tf.signal.stft(wav, frame_length=320, frame_step=32)\n",
        "    #spectrogram = tf.abs(spectrogram)\n",
        "    #spectrogram = tf.expand_dims(spectrogram, axis=2)"
      ]
    },
    {
      "cell_type": "code",
      "execution_count": null,
      "metadata": {
        "id": "92uULmnriG2K"
      },
      "outputs": [],
      "source": [
        "def features_extractor(file):\n",
        "    audio, sample_rate = librosa.load(file_name, res_type='kaiser_fast') \n",
        "    audio = audio[:76670]\n",
        "    zero_padding = tf.zeros([76670] - tf.shape(audio), dtype=tf.float32)\n",
        "    audio = tf.concat([audio, zero_padding ],0)\n",
        "    audio = np.array(audio)\n",
        "    mfccs_features = librosa.feature.mfcc(y=audio, sr=sample_rate, n_mfcc=40)\n",
        "       \n",
        "    return mfccs_features"
      ]
    },
    {
      "cell_type": "code",
      "execution_count": null,
      "metadata": {
        "id": "y_x_CtO8iG4v"
      },
      "outputs": [],
      "source": [
        "def features_extractors(file):\n",
        "    audio, sample_rate = librosa.load(file_name, res_type='kaiser_fast') \n",
        "    \n",
        "    mfccs_features = librosa.feature.mfcc(y=audio, sr=sample_rate, n_mfcc=40)\n",
        "       \n",
        "    return mfccs_features"
      ]
    },
    {
      "cell_type": "code",
      "execution_count": null,
      "metadata": {
        "colab": {
          "base_uri": "https://localhost:8080/"
        },
        "id": "dXgw3UUCs5Jc",
        "outputId": "ef7fc97a-b36c-4f0c-e7f7-0d1d21c79e5c"
      },
      "outputs": [
        {
          "name": "stdout",
          "output_type": "stream",
          "text": [
            "/content/drive/My Drive/DSL_Final_Project/dsl_data/audio/speakers/2BqVo8kVB2Skwgyb/269fc210-4474-11e9-a9a5-5dbec3b8816a.wav\n"
          ]
        }
      ],
      "source": [
        "    file_name = os.path.join('/content/drive/My Drive/DSL_Final_Project',\"dsl_data/audio/speakers/2BqVo8kVB2Skwgyb/269fc210-4474-11e9-a9a5-5dbec3b8816a.wav\")\n",
        "    print(file_name)\n"
      ]
    },
    {
      "cell_type": "code",
      "execution_count": null,
      "metadata": {
        "colab": {
          "base_uri": "https://localhost:8080/"
        },
        "id": "eAY_46I-jG5i",
        "outputId": "69c4a353-cc60-47a0-9703-358b2680b12d"
      },
      "outputs": [
        {
          "name": "stderr",
          "output_type": "stream",
          "text": [
            "9295it [06:48, 22.78it/s]\n"
          ]
        }
      ],
      "source": [
        "import numpy as np\n",
        "from tqdm import tqdm\n",
        "### Now we iterate through every audio file and extract features \n",
        "### using Mel-Frequency Cepstral Coefficients\n",
        "extracted_features=[]\n",
        "\n",
        "#remove this\n",
        "keeper = metadata[:50]\n",
        "\n",
        "for index_num,row in tqdm(metadata.iterrows()):\n",
        "    file_name = os.path.join('/content/drive/My Drive/DSL_Final_Project',str(row[\"path\"]))\n",
        "    final_class_labels=row[\"action\"] +\" \"+ row[\"object\"]\n",
        "    data=features_extractor(file_name)\n",
        "    extracted_features.append([data,final_class_labels])"
      ]
    },
    {
      "cell_type": "code",
      "execution_count": null,
      "metadata": {
        "colab": {
          "base_uri": "https://localhost:8080/"
        },
        "id": "gZ323iFXvwnH",
        "outputId": "5004357d-595f-42df-8375-55a86846d878"
      },
      "outputs": [
        {
          "name": "stderr",
          "output_type": "stream",
          "text": [
            "IOPub data rate exceeded.\n",
            "The notebook server will temporarily stop sending output\n",
            "to the client in order to avoid crashing it.\n",
            "To change this limit, set the config variable\n",
            "`--NotebookApp.iopub_data_rate_limit`.\n",
            "\n",
            "Current values:\n",
            "NotebookApp.iopub_data_rate_limit=1000000.0 (bytes/sec)\n",
            "NotebookApp.rate_limit_window=3.0 (secs)\n",
            "\n"
          ]
        }
      ],
      "source": [
        "#print(extracted_features)"
      ]
    },
    {
      "cell_type": "code",
      "execution_count": null,
      "metadata": {
        "colab": {
          "base_uri": "https://localhost:8080/",
          "height": 206
        },
        "id": "Id3wnB69jHAx",
        "outputId": "9d1cbcaa-2d8e-49c1-e720-c31ab8e020c5"
      },
      "outputs": [
        {
          "data": {
            "text/html": [
              "\n",
              "  <div id=\"df-f1214d7f-c81b-46a2-b5d8-d70531f142eb\">\n",
              "    <div class=\"colab-df-container\">\n",
              "      <div>\n",
              "<style scoped>\n",
              "    .dataframe tbody tr th:only-of-type {\n",
              "        vertical-align: middle;\n",
              "    }\n",
              "\n",
              "    .dataframe tbody tr th {\n",
              "        vertical-align: top;\n",
              "    }\n",
              "\n",
              "    .dataframe thead th {\n",
              "        text-align: right;\n",
              "    }\n",
              "</style>\n",
              "<table border=\"1\" class=\"dataframe\">\n",
              "  <thead>\n",
              "    <tr style=\"text-align: right;\">\n",
              "      <th></th>\n",
              "      <th>feature</th>\n",
              "      <th>class</th>\n",
              "    </tr>\n",
              "  </thead>\n",
              "  <tbody>\n",
              "    <tr>\n",
              "      <th>0</th>\n",
              "      <td>[[-729.049, -721.04285, -734.43567, -747.6961,...</td>\n",
              "      <td>change language none</td>\n",
              "    </tr>\n",
              "    <tr>\n",
              "      <th>1</th>\n",
              "      <td>[[-775.2468, -773.01746, -749.923, -711.9694, ...</td>\n",
              "      <td>activate music</td>\n",
              "    </tr>\n",
              "    <tr>\n",
              "      <th>2</th>\n",
              "      <td>[[-814.97595, -806.9605, -812.215, -800.7104, ...</td>\n",
              "      <td>deactivate lights</td>\n",
              "    </tr>\n",
              "    <tr>\n",
              "      <th>3</th>\n",
              "      <td>[[-721.30536, -721.30536, -717.48987, -712.690...</td>\n",
              "      <td>increase volume</td>\n",
              "    </tr>\n",
              "    <tr>\n",
              "      <th>4</th>\n",
              "      <td>[[-772.1147, -776.286, -785.64465, -775.66644,...</td>\n",
              "      <td>increase volume</td>\n",
              "    </tr>\n",
              "  </tbody>\n",
              "</table>\n",
              "</div>\n",
              "      <button class=\"colab-df-convert\" onclick=\"convertToInteractive('df-f1214d7f-c81b-46a2-b5d8-d70531f142eb')\"\n",
              "              title=\"Convert this dataframe to an interactive table.\"\n",
              "              style=\"display:none;\">\n",
              "        \n",
              "  <svg xmlns=\"http://www.w3.org/2000/svg\" height=\"24px\"viewBox=\"0 0 24 24\"\n",
              "       width=\"24px\">\n",
              "    <path d=\"M0 0h24v24H0V0z\" fill=\"none\"/>\n",
              "    <path d=\"M18.56 5.44l.94 2.06.94-2.06 2.06-.94-2.06-.94-.94-2.06-.94 2.06-2.06.94zm-11 1L8.5 8.5l.94-2.06 2.06-.94-2.06-.94L8.5 2.5l-.94 2.06-2.06.94zm10 10l.94 2.06.94-2.06 2.06-.94-2.06-.94-.94-2.06-.94 2.06-2.06.94z\"/><path d=\"M17.41 7.96l-1.37-1.37c-.4-.4-.92-.59-1.43-.59-.52 0-1.04.2-1.43.59L10.3 9.45l-7.72 7.72c-.78.78-.78 2.05 0 2.83L4 21.41c.39.39.9.59 1.41.59.51 0 1.02-.2 1.41-.59l7.78-7.78 2.81-2.81c.8-.78.8-2.07 0-2.86zM5.41 20L4 18.59l7.72-7.72 1.47 1.35L5.41 20z\"/>\n",
              "  </svg>\n",
              "      </button>\n",
              "      \n",
              "  <style>\n",
              "    .colab-df-container {\n",
              "      display:flex;\n",
              "      flex-wrap:wrap;\n",
              "      gap: 12px;\n",
              "    }\n",
              "\n",
              "    .colab-df-convert {\n",
              "      background-color: #E8F0FE;\n",
              "      border: none;\n",
              "      border-radius: 50%;\n",
              "      cursor: pointer;\n",
              "      display: none;\n",
              "      fill: #1967D2;\n",
              "      height: 32px;\n",
              "      padding: 0 0 0 0;\n",
              "      width: 32px;\n",
              "    }\n",
              "\n",
              "    .colab-df-convert:hover {\n",
              "      background-color: #E2EBFA;\n",
              "      box-shadow: 0px 1px 2px rgba(60, 64, 67, 0.3), 0px 1px 3px 1px rgba(60, 64, 67, 0.15);\n",
              "      fill: #174EA6;\n",
              "    }\n",
              "\n",
              "    [theme=dark] .colab-df-convert {\n",
              "      background-color: #3B4455;\n",
              "      fill: #D2E3FC;\n",
              "    }\n",
              "\n",
              "    [theme=dark] .colab-df-convert:hover {\n",
              "      background-color: #434B5C;\n",
              "      box-shadow: 0px 1px 3px 1px rgba(0, 0, 0, 0.15);\n",
              "      filter: drop-shadow(0px 1px 2px rgba(0, 0, 0, 0.3));\n",
              "      fill: #FFFFFF;\n",
              "    }\n",
              "  </style>\n",
              "\n",
              "      <script>\n",
              "        const buttonEl =\n",
              "          document.querySelector('#df-f1214d7f-c81b-46a2-b5d8-d70531f142eb button.colab-df-convert');\n",
              "        buttonEl.style.display =\n",
              "          google.colab.kernel.accessAllowed ? 'block' : 'none';\n",
              "\n",
              "        async function convertToInteractive(key) {\n",
              "          const element = document.querySelector('#df-f1214d7f-c81b-46a2-b5d8-d70531f142eb');\n",
              "          const dataTable =\n",
              "            await google.colab.kernel.invokeFunction('convertToInteractive',\n",
              "                                                     [key], {});\n",
              "          if (!dataTable) return;\n",
              "\n",
              "          const docLinkHtml = 'Like what you see? Visit the ' +\n",
              "            '<a target=\"_blank\" href=https://colab.research.google.com/notebooks/data_table.ipynb>data table notebook</a>'\n",
              "            + ' to learn more about interactive tables.';\n",
              "          element.innerHTML = '';\n",
              "          dataTable['output_type'] = 'display_data';\n",
              "          await google.colab.output.renderOutput(dataTable, element);\n",
              "          const docLink = document.createElement('div');\n",
              "          docLink.innerHTML = docLinkHtml;\n",
              "          element.appendChild(docLink);\n",
              "        }\n",
              "      </script>\n",
              "    </div>\n",
              "  </div>\n",
              "  "
            ],
            "text/plain": [
              "                                             feature                 class\n",
              "0  [[-729.049, -721.04285, -734.43567, -747.6961,...  change language none\n",
              "1  [[-775.2468, -773.01746, -749.923, -711.9694, ...        activate music\n",
              "2  [[-814.97595, -806.9605, -812.215, -800.7104, ...     deactivate lights\n",
              "3  [[-721.30536, -721.30536, -717.48987, -712.690...       increase volume\n",
              "4  [[-772.1147, -776.286, -785.64465, -775.66644,...       increase volume"
            ]
          },
          "execution_count": 23,
          "metadata": {},
          "output_type": "execute_result"
        }
      ],
      "source": [
        "### converting extracted_features to Pandas dataframe\n",
        "extracted_features_df=pd.DataFrame(extracted_features,columns=['feature','class'])\n",
        "extracted_features_df.head()\n"
      ]
    },
    {
      "cell_type": "code",
      "execution_count": null,
      "metadata": {
        "colab": {
          "base_uri": "https://localhost:8080/",
          "height": 295
        },
        "id": "5XMPsWmvjHDp",
        "outputId": "03c2f85b-5592-4841-de4e-6105e42aa7d6"
      },
      "outputs": [
        {
          "data": {
            "image/png": "[encoded data removed]",
            "text/plain": [
              "<Figure size 432x288 with 1 Axes>"
            ]
          },
          "metadata": {},
          "output_type": "display_data"
        }
      ],
      "source": [
        "x = extracted_features_df[\"feature\"][5]\n",
        "import matplotlib.pyplot as plt\n",
        " \n",
        "# data to be plotted\n",
        "\n",
        " \n",
        "# plotting\n",
        "plt.title(\"Line graph\")\n",
        "plt.xlabel(\"X axis\")\n",
        "plt.ylabel(\"Y axis\")\n",
        "plt.plot(x, color =\"red\")\n",
        "plt.show()"
      ]
    },
    {
      "cell_type": "code",
      "execution_count": null,
      "metadata": {
        "colab": {
          "base_uri": "https://localhost:8080/"
        },
        "id": "v_7y62oYjHGa",
        "outputId": "63f25451-ab4a-4b16-f9e3-a2e7677f51bf"
      },
      "outputs": [
        {
          "data": {
            "text/plain": [
              "(40, 150)"
            ]
          },
          "execution_count": 25,
          "metadata": {},
          "output_type": "execute_result"
        }
      ],
      "source": [
        "extracted_features_df.iloc[100,0].shape"
      ]
    },
    {
      "cell_type": "code",
      "execution_count": null,
      "metadata": {
        "colab": {
          "base_uri": "https://localhost:8080/"
        },
        "id": "FBoUb7y9jHJC",
        "outputId": "d3569a3e-7138-493f-8122-faefdc7f3b26"
      },
      "outputs": [
        {
          "data": {
            "text/plain": [
              "(9295, 2)"
            ]
          },
          "execution_count": 26,
          "metadata": {},
          "output_type": "execute_result"
        }
      ],
      "source": [
        "extracted_features_df.shape"
      ]
    },
    {
      "cell_type": "code",
      "execution_count": null,
      "metadata": {
        "id": "l5xbpWKcjHLh"
      },
      "outputs": [],
      "source": [
        "### Split the dataset into independent and dependent dataset\n",
        "X=np.array(extracted_features_df['feature'].tolist())\n",
        "y=np.array(extracted_features_df['class'].tolist())"
      ]
    },
    {
      "cell_type": "code",
      "execution_count": null,
      "metadata": {
        "colab": {
          "base_uri": "https://localhost:8080/"
        },
        "id": "fpsjmCzqjHPG",
        "outputId": "ab356e1f-d16e-4f36-950b-9c368d566941"
      },
      "outputs": [
        {
          "data": {
            "text/plain": [
              "(9295, 40, 150)"
            ]
          },
          "execution_count": 28,
          "metadata": {},
          "output_type": "execute_result"
        }
      ],
      "source": [
        "X.shape"
      ]
    },
    {
      "cell_type": "code",
      "execution_count": null,
      "metadata": {
        "id": "jrbK4zj6jVIB"
      },
      "outputs": [],
      "source": [
        "X = X.reshape(9295,40,150,1)\n"
      ]
    },
    {
      "cell_type": "code",
      "execution_count": null,
      "metadata": {
        "colab": {
          "base_uri": "https://localhost:8080/"
        },
        "id": "JDaiYUBHjVKq",
        "outputId": "2aaf19a6-2a38-4285-9baf-eb8a428508dd"
      },
      "outputs": [
        {
          "data": {
            "text/plain": [
              "(9295,)"
            ]
          },
          "execution_count": 30,
          "metadata": {},
          "output_type": "execute_result"
        }
      ],
      "source": [
        "y.shape"
      ]
    },
    {
      "cell_type": "code",
      "execution_count": null,
      "metadata": {
        "id": "sPopK0xYjVNZ"
      },
      "outputs": [],
      "source": [
        "### Label Encoding\n",
        "###y=np.array(pd.get_dummies(y))\n",
        "### Label Encoder\n",
        "from tensorflow.keras.utils import to_categorical\n",
        "from sklearn.preprocessing import LabelEncoder\n",
        "labelencoder=LabelEncoder()\n",
        "y=to_categorical(labelencoder.fit_transform(y))"
      ]
    },
    {
      "cell_type": "code",
      "execution_count": null,
      "metadata": {
        "colab": {
          "base_uri": "https://localhost:8080/"
        },
        "id": "wruuJttBjVP6",
        "outputId": "52a2a17c-34b9-4025-daba-3ed72a54daad"
      },
      "outputs": [
        {
          "data": {
            "text/plain": [
              "array([[0., 1., 0., ..., 0., 0., 0.],\n",
              "       [1., 0., 0., ..., 0., 0., 0.],\n",
              "       [0., 0., 1., ..., 0., 0., 0.],\n",
              "       ...,\n",
              "       [0., 0., 1., ..., 0., 0., 0.],\n",
              "       [0., 0., 1., ..., 0., 0., 0.],\n",
              "       [0., 0., 0., ..., 0., 0., 1.]], dtype=float32)"
            ]
          },
          "execution_count": 32,
          "metadata": {},
          "output_type": "execute_result"
        }
      ],
      "source": [
        "y"
      ]
    },
    {
      "cell_type": "code",
      "execution_count": null,
      "metadata": {
        "colab": {
          "base_uri": "https://localhost:8080/"
        },
        "id": "BDerUBF_jVSy",
        "outputId": "04a0462e-3db9-4a11-e284-af5a494cbf2d"
      },
      "outputs": [
        {
          "data": {
            "text/plain": [
              "(9295, 7)"
            ]
          },
          "execution_count": 33,
          "metadata": {},
          "output_type": "execute_result"
        }
      ],
      "source": [
        "y.shape"
      ]
    },
    {
      "cell_type": "code",
      "execution_count": null,
      "metadata": {
        "id": "lKrwxvUKjeD5"
      },
      "outputs": [],
      "source": [
        "### Train Test Split\n",
        "from sklearn.model_selection import train_test_split\n",
        "X_train,X_test,y_train,y_test=train_test_split(X,y,test_size=0.2, random_state=10, shuffle = True )"
      ]
    },
    {
      "cell_type": "code",
      "execution_count": null,
      "metadata": {
        "colab": {
          "base_uri": "https://localhost:8080/"
        },
        "id": "eJTWcp4_jeGg",
        "outputId": "0dbae15e-39ae-4b22-8380-dbb41b3c1fc3"
      },
      "outputs": [
        {
          "data": {
            "text/plain": [
              "(7436, 40, 150, 1)"
            ]
          },
          "execution_count": 35,
          "metadata": {},
          "output_type": "execute_result"
        }
      ],
      "source": [
        "#X_train\n",
        "X_train.shape"
      ]
    },
    {
      "cell_type": "code",
      "execution_count": null,
      "metadata": {
        "colab": {
          "base_uri": "https://localhost:8080/"
        },
        "id": "8F6PY8RtjeJb",
        "outputId": "aa8d51e4-e544-4be6-b982-e265d13930c5"
      },
      "outputs": [
        {
          "data": {
            "text/plain": [
              "(1859, 40, 150, 1)"
            ]
          },
          "execution_count": 36,
          "metadata": {},
          "output_type": "execute_result"
        }
      ],
      "source": [
        "X_test.shape"
      ]
    },
    {
      "cell_type": "code",
      "execution_count": null,
      "metadata": {
        "colab": {
          "base_uri": "https://localhost:8080/"
        },
        "id": "CjN_TNXLjeL6",
        "outputId": "33de65e1-b6c2-42c7-ccec-f7ed0be43e0c"
      },
      "outputs": [
        {
          "data": {
            "text/plain": [
              "(7436, 7)"
            ]
          },
          "execution_count": 37,
          "metadata": {},
          "output_type": "execute_result"
        }
      ],
      "source": [
        "y_train.shape"
      ]
    },
    {
      "cell_type": "code",
      "execution_count": null,
      "metadata": {
        "id": "dbSg_azpjnM6"
      },
      "outputs": [],
      "source": [
        "import keras\n",
        "from keras.layers import Activation, Dense, Dropout, Conv2D,Flatten, MaxPooling2D\n",
        "from keras.models import Sequential"
      ]
    },
    {
      "cell_type": "code",
      "execution_count": null,
      "metadata": {
        "id": "luqAuHMEjnUR"
      },
      "outputs": [],
      "source": [
        "model = Sequential()\n",
        "input_shape=(40, 150, 1)\n",
        "\n",
        "model.add(Conv2D(24, (2, 2), strides=(1, 1), input_shape=input_shape))\n",
        "model.add(MaxPooling2D((2, 2), strides=(2, 2)))\n",
        "model.add(Activation('relu'))\n",
        "\n",
        "model.add(Conv2D(48, (2, 2), padding=\"valid\"))\n",
        "model.add(MaxPooling2D((2, 2), strides=(4, 2)))\n",
        "model.add(Activation('relu'))\n",
        "\n",
        "model.add(Conv2D(48, (2, 2), padding=\"valid\"))\n",
        "model.add(Activation('relu'))\n",
        "\n",
        "model.add(Flatten())\n",
        "model.add(Dropout(rate=0.5))\n",
        "\n",
        "model.add(Dense(64))\n",
        "model.add(Activation('relu'))\n",
        "model.add(Dropout(rate=0.2))\n",
        "\n",
        "#model.add(Dense(32))\n",
        "#model.add(Activation('relu'))\n",
        "#model.add(Dropout(rate=0.2))\n",
        "\n",
        "\n",
        "model.add(Dense(7))\n",
        "model.add(Activation(\"softmax\"))"
      ]
    },
    {
      "cell_type": "code",
      "execution_count": null,
      "metadata": {
        "colab": {
          "base_uri": "https://localhost:8080/"
        },
        "id": "vyNxwIgDjrH5",
        "outputId": "a6767b79-a565-43b3-fa80-e58861884673"
      },
      "outputs": [
        {
          "output_type": "stream",
          "name": "stdout",
          "text": [
            "Model: \"sequential_10\"\n",
            "_________________________________________________________________\n",
            " Layer (type)                Output Shape              Param #   \n",
            "=================================================================\n",
            " conv2d_30 (Conv2D)          (None, 39, 149, 24)       120       \n",
            "                                                                 \n",
            " max_pooling2d_20 (MaxPoolin  (None, 19, 74, 24)       0         \n",
            " g2D)                                                            \n",
            "                                                                 \n",
            " activation_51 (Activation)  (None, 19, 74, 24)        0         \n",
            "                                                                 \n",
            " conv2d_31 (Conv2D)          (None, 18, 73, 48)        4656      \n",
            "                                                                 \n",
            " max_pooling2d_21 (MaxPoolin  (None, 5, 36, 48)        0         \n",
            " g2D)                                                            \n",
            "                                                                 \n",
            " activation_52 (Activation)  (None, 5, 36, 48)         0         \n",
            "                                                                 \n",
            " conv2d_32 (Conv2D)          (None, 4, 35, 48)         9264      \n",
            "                                                                 \n",
            " activation_53 (Activation)  (None, 4, 35, 48)         0         \n",
            "                                                                 \n",
            " flatten_10 (Flatten)        (None, 6720)              0         \n",
            "                                                                 \n",
            " dropout_21 (Dropout)        (None, 6720)              0         \n",
            "                                                                 \n",
            " dense_21 (Dense)            (None, 64)                430144    \n",
            "                                                                 \n",
            " activation_54 (Activation)  (None, 64)                0         \n",
            "                                                                 \n",
            " dropout_22 (Dropout)        (None, 64)                0         \n",
            "                                                                 \n",
            " dense_22 (Dense)            (None, 7)                 455       \n",
            "                                                                 \n",
            " activation_55 (Activation)  (None, 7)                 0         \n",
            "                                                                 \n",
            "=================================================================\n",
            "Total params: 444,639\n",
            "Trainable params: 444,639\n",
            "Non-trainable params: 0\n",
            "_________________________________________________________________\n"
          ]
        }
      ],
      "source": [
        "model.summary()\n"
      ]
    },
    {
      "cell_type": "code",
      "execution_count": null,
      "metadata": {
        "id": "YoNlZjNcu21K"
      },
      "outputs": [],
      "source": [
        "from keras.callbacks import TensorBoard, ModelCheckpoint\n",
        "tensorboard = TensorBoard(log_dir='/content/drive/My Drive/DSL_Final_Project/Logs/logC24_C48-C48_D64_7_4')\n",
        "\n",
        "# Define the checkpointer\n",
        "checkpointer = ModelCheckpoint(filepath='/content/drive/My Drive/DSL_Final_Project/bestModels/Conv2D_24_48_48_Dense_64_model_4.h5', \n",
        "                               verbose=1, save_best_only=True)"
      ]
    },
    {
      "cell_type": "code",
      "execution_count": null,
      "metadata": {
        "colab": {
          "base_uri": "https://localhost:8080/"
        },
        "id": "zvoqXs43jrKq",
        "outputId": "3bcc9cc0-72d7-47c7-c70b-53ac5bf4e02d"
      },
      "outputs": [
        {
          "output_type": "stream",
          "name": "stdout",
          "text": [
            "Epoch 1/100\n",
            "929/930 [============================>.] - ETA: 0s - loss: 0.4353 - accuracy: 0.2746\n",
            "Epoch 1: val_loss improved from inf to 0.33904, saving model to /content/drive/My Drive/DSL_Final_Project/bestModels/Conv2D_24_48_48_Dense_64_model_4.h5\n",
            "930/930 [==============================] - 43s 45ms/step - loss: 0.4352 - accuracy: 0.2746 - val_loss: 0.3390 - val_accuracy: 0.3599\n",
            "Epoch 2/100\n",
            "930/930 [==============================] - ETA: 0s - loss: 0.3527 - accuracy: 0.3650\n",
            "Epoch 2: val_loss improved from 0.33904 to 0.33242, saving model to /content/drive/My Drive/DSL_Final_Project/bestModels/Conv2D_24_48_48_Dense_64_model_4.h5\n",
            "930/930 [==============================] - 42s 45ms/step - loss: 0.3527 - accuracy: 0.3650 - val_loss: 0.3324 - val_accuracy: 0.4034\n",
            "Epoch 3/100\n",
            "929/930 [============================>.] - ETA: 0s - loss: 0.3307 - accuracy: 0.4062\n",
            "Epoch 3: val_loss improved from 0.33242 to 0.30886, saving model to /content/drive/My Drive/DSL_Final_Project/bestModels/Conv2D_24_48_48_Dense_64_model_4.h5\n",
            "930/930 [==============================] - 42s 45ms/step - loss: 0.3308 - accuracy: 0.4061 - val_loss: 0.3089 - val_accuracy: 0.4519\n",
            "Epoch 4/100\n",
            "930/930 [==============================] - ETA: 0s - loss: 0.3154 - accuracy: 0.4420\n",
            "Epoch 4: val_loss improved from 0.30886 to 0.28385, saving model to /content/drive/My Drive/DSL_Final_Project/bestModels/Conv2D_24_48_48_Dense_64_model_4.h5\n",
            "930/930 [==============================] - 40s 43ms/step - loss: 0.3154 - accuracy: 0.4420 - val_loss: 0.2838 - val_accuracy: 0.4874\n",
            "Epoch 5/100\n",
            "930/930 [==============================] - ETA: 0s - loss: 0.2949 - accuracy: 0.4855\n",
            "Epoch 5: val_loss improved from 0.28385 to 0.27172, saving model to /content/drive/My Drive/DSL_Final_Project/bestModels/Conv2D_24_48_48_Dense_64_model_4.h5\n",
            "930/930 [==============================] - 46s 49ms/step - loss: 0.2949 - accuracy: 0.4855 - val_loss: 0.2717 - val_accuracy: 0.5180\n",
            "Epoch 6/100\n",
            "930/930 [==============================] - ETA: 0s - loss: 0.2804 - accuracy: 0.5098\n",
            "Epoch 6: val_loss improved from 0.27172 to 0.26588, saving model to /content/drive/My Drive/DSL_Final_Project/bestModels/Conv2D_24_48_48_Dense_64_model_4.h5\n",
            "930/930 [==============================] - 39s 42ms/step - loss: 0.2804 - accuracy: 0.5098 - val_loss: 0.2659 - val_accuracy: 0.5116\n",
            "Epoch 7/100\n",
            "929/930 [============================>.] - ETA: 0s - loss: 0.2650 - accuracy: 0.5427\n",
            "Epoch 7: val_loss improved from 0.26588 to 0.25435, saving model to /content/drive/My Drive/DSL_Final_Project/bestModels/Conv2D_24_48_48_Dense_64_model_4.h5\n",
            "930/930 [==============================] - 40s 43ms/step - loss: 0.2649 - accuracy: 0.5429 - val_loss: 0.2544 - val_accuracy: 0.5514\n",
            "Epoch 8/100\n",
            "929/930 [============================>.] - ETA: 0s - loss: 0.2513 - accuracy: 0.5767\n",
            "Epoch 8: val_loss improved from 0.25435 to 0.24331, saving model to /content/drive/My Drive/DSL_Final_Project/bestModels/Conv2D_24_48_48_Dense_64_model_4.h5\n",
            "930/930 [==============================] - 42s 45ms/step - loss: 0.2514 - accuracy: 0.5767 - val_loss: 0.2433 - val_accuracy: 0.5858\n",
            "Epoch 9/100\n",
            "929/930 [============================>.] - ETA: 0s - loss: 0.2371 - accuracy: 0.6056\n",
            "Epoch 9: val_loss improved from 0.24331 to 0.24130, saving model to /content/drive/My Drive/DSL_Final_Project/bestModels/Conv2D_24_48_48_Dense_64_model_4.h5\n",
            "930/930 [==============================] - 42s 45ms/step - loss: 0.2371 - accuracy: 0.6057 - val_loss: 0.2413 - val_accuracy: 0.5826\n",
            "Epoch 10/100\n",
            "930/930 [==============================] - ETA: 0s - loss: 0.2215 - accuracy: 0.6354\n",
            "Epoch 10: val_loss improved from 0.24130 to 0.23788, saving model to /content/drive/My Drive/DSL_Final_Project/bestModels/Conv2D_24_48_48_Dense_64_model_4.h5\n",
            "930/930 [==============================] - 42s 45ms/step - loss: 0.2215 - accuracy: 0.6354 - val_loss: 0.2379 - val_accuracy: 0.5917\n",
            "Epoch 11/100\n",
            "929/930 [============================>.] - ETA: 0s - loss: 0.2137 - accuracy: 0.6588\n",
            "Epoch 11: val_loss did not improve from 0.23788\n",
            "930/930 [==============================] - 43s 46ms/step - loss: 0.2137 - accuracy: 0.6587 - val_loss: 0.2509 - val_accuracy: 0.5793\n",
            "Epoch 12/100\n",
            "929/930 [============================>.] - ETA: 0s - loss: 0.2065 - accuracy: 0.6777\n",
            "Epoch 12: val_loss improved from 0.23788 to 0.23049, saving model to /content/drive/My Drive/DSL_Final_Project/bestModels/Conv2D_24_48_48_Dense_64_model_4.h5\n",
            "930/930 [==============================] - 42s 45ms/step - loss: 0.2064 - accuracy: 0.6778 - val_loss: 0.2305 - val_accuracy: 0.6003\n",
            "Epoch 13/100\n",
            "929/930 [============================>.] - ETA: 0s - loss: 0.1936 - accuracy: 0.6940\n",
            "Epoch 13: val_loss improved from 0.23049 to 0.22100, saving model to /content/drive/My Drive/DSL_Final_Project/bestModels/Conv2D_24_48_48_Dense_64_model_4.h5\n",
            "930/930 [==============================] - 40s 43ms/step - loss: 0.1936 - accuracy: 0.6939 - val_loss: 0.2210 - val_accuracy: 0.6251\n",
            "Epoch 14/100\n",
            "929/930 [============================>.] - ETA: 0s - loss: 0.1817 - accuracy: 0.7305\n",
            "Epoch 14: val_loss improved from 0.22100 to 0.21788, saving model to /content/drive/My Drive/DSL_Final_Project/bestModels/Conv2D_24_48_48_Dense_64_model_4.h5\n",
            "930/930 [==============================] - 42s 45ms/step - loss: 0.1817 - accuracy: 0.7306 - val_loss: 0.2179 - val_accuracy: 0.6450\n",
            "Epoch 15/100\n",
            "929/930 [============================>.] - ETA: 0s - loss: 0.1777 - accuracy: 0.7409\n",
            "Epoch 15: val_loss did not improve from 0.21788\n",
            "930/930 [==============================] - 42s 45ms/step - loss: 0.1777 - accuracy: 0.7410 - val_loss: 0.2199 - val_accuracy: 0.6444\n",
            "Epoch 16/100\n",
            "929/930 [============================>.] - ETA: 0s - loss: 0.1723 - accuracy: 0.7469\n",
            "Epoch 16: val_loss did not improve from 0.21788\n",
            "930/930 [==============================] - 42s 45ms/step - loss: 0.1723 - accuracy: 0.7469 - val_loss: 0.2236 - val_accuracy: 0.6428\n",
            "Epoch 17/100\n",
            "930/930 [==============================] - ETA: 0s - loss: 0.1605 - accuracy: 0.7694\n",
            "Epoch 17: val_loss improved from 0.21788 to 0.21315, saving model to /content/drive/My Drive/DSL_Final_Project/bestModels/Conv2D_24_48_48_Dense_64_model_4.h5\n",
            "930/930 [==============================] - 47s 50ms/step - loss: 0.1605 - accuracy: 0.7694 - val_loss: 0.2131 - val_accuracy: 0.6573\n",
            "Epoch 18/100\n",
            "929/930 [============================>.] - ETA: 0s - loss: 0.1580 - accuracy: 0.7765\n",
            "Epoch 18: val_loss improved from 0.21315 to 0.21013, saving model to /content/drive/My Drive/DSL_Final_Project/bestModels/Conv2D_24_48_48_Dense_64_model_4.h5\n",
            "930/930 [==============================] - 42s 45ms/step - loss: 0.1580 - accuracy: 0.7764 - val_loss: 0.2101 - val_accuracy: 0.6627\n",
            "Epoch 19/100\n",
            "929/930 [============================>.] - ETA: 0s - loss: 0.1500 - accuracy: 0.7914\n",
            "Epoch 19: val_loss did not improve from 0.21013\n",
            "930/930 [==============================] - 42s 45ms/step - loss: 0.1500 - accuracy: 0.7914 - val_loss: 0.2205 - val_accuracy: 0.6762\n",
            "Epoch 20/100\n",
            "929/930 [============================>.] - ETA: 0s - loss: 0.1463 - accuracy: 0.7943\n",
            "Epoch 20: val_loss did not improve from 0.21013\n",
            "930/930 [==============================] - 39s 42ms/step - loss: 0.1462 - accuracy: 0.7944 - val_loss: 0.2151 - val_accuracy: 0.6633\n",
            "Epoch 21/100\n",
            "929/930 [============================>.] - ETA: 0s - loss: 0.1409 - accuracy: 0.8019\n",
            "Epoch 21: val_loss did not improve from 0.21013\n",
            "930/930 [==============================] - 40s 43ms/step - loss: 0.1409 - accuracy: 0.8018 - val_loss: 0.2106 - val_accuracy: 0.6665\n",
            "Epoch 22/100\n",
            "929/930 [============================>.] - ETA: 0s - loss: 0.1378 - accuracy: 0.8119\n",
            "Epoch 22: val_loss did not improve from 0.21013\n",
            "930/930 [==============================] - 40s 43ms/step - loss: 0.1378 - accuracy: 0.8119 - val_loss: 0.2201 - val_accuracy: 0.6541\n",
            "Epoch 23/100\n",
            "929/930 [============================>.] - ETA: 0s - loss: 0.1316 - accuracy: 0.8184\n",
            "Epoch 23: val_loss did not improve from 0.21013\n",
            "930/930 [==============================] - 46s 49ms/step - loss: 0.1315 - accuracy: 0.8183 - val_loss: 0.2131 - val_accuracy: 0.6729\n",
            "Epoch 24/100\n",
            "929/930 [============================>.] - ETA: 0s - loss: 0.1248 - accuracy: 0.8307\n",
            "Epoch 24: val_loss did not improve from 0.21013\n",
            "930/930 [==============================] - 42s 45ms/step - loss: 0.1249 - accuracy: 0.8306 - val_loss: 0.2173 - val_accuracy: 0.6681\n",
            "Epoch 25/100\n",
            "930/930 [==============================] - ETA: 0s - loss: 0.1251 - accuracy: 0.8332\n",
            "Epoch 25: val_loss improved from 0.21013 to 0.20980, saving model to /content/drive/My Drive/DSL_Final_Project/bestModels/Conv2D_24_48_48_Dense_64_model_4.h5\n",
            "930/930 [==============================] - 42s 46ms/step - loss: 0.1251 - accuracy: 0.8332 - val_loss: 0.2098 - val_accuracy: 0.6891\n",
            "Epoch 26/100\n",
            "929/930 [============================>.] - ETA: 0s - loss: 0.1172 - accuracy: 0.8451\n",
            "Epoch 26: val_loss did not improve from 0.20980\n",
            "930/930 [==============================] - 40s 43ms/step - loss: 0.1172 - accuracy: 0.8452 - val_loss: 0.2230 - val_accuracy: 0.6633\n",
            "Epoch 27/100\n",
            "929/930 [============================>.] - ETA: 0s - loss: 0.1173 - accuracy: 0.8412\n",
            "Epoch 27: val_loss did not improve from 0.20980\n",
            "930/930 [==============================] - 40s 43ms/step - loss: 0.1172 - accuracy: 0.8413 - val_loss: 0.2219 - val_accuracy: 0.6627\n",
            "Epoch 28/100\n",
            "929/930 [============================>.] - ETA: 0s - loss: 0.1131 - accuracy: 0.8494\n",
            "Epoch 28: val_loss did not improve from 0.20980\n",
            "930/930 [==============================] - 45s 48ms/step - loss: 0.1131 - accuracy: 0.8495 - val_loss: 0.2250 - val_accuracy: 0.6719\n",
            "Epoch 29/100\n",
            "929/930 [============================>.] - ETA: 0s - loss: 0.1137 - accuracy: 0.8502\n",
            "Epoch 29: val_loss did not improve from 0.20980\n",
            "930/930 [==============================] - 42s 45ms/step - loss: 0.1136 - accuracy: 0.8503 - val_loss: 0.2191 - val_accuracy: 0.6799\n",
            "Epoch 30/100\n",
            "929/930 [============================>.] - ETA: 0s - loss: 0.1085 - accuracy: 0.8615\n",
            "Epoch 30: val_loss did not improve from 0.20980\n",
            "930/930 [==============================] - 40s 43ms/step - loss: 0.1084 - accuracy: 0.8616 - val_loss: 0.2222 - val_accuracy: 0.6676\n",
            "Epoch 31/100\n",
            "930/930 [==============================] - ETA: 0s - loss: 0.1115 - accuracy: 0.8580\n",
            "Epoch 31: val_loss did not improve from 0.20980\n",
            "930/930 [==============================] - 40s 43ms/step - loss: 0.1115 - accuracy: 0.8580 - val_loss: 0.2193 - val_accuracy: 0.6746\n",
            "Epoch 32/100\n",
            "929/930 [============================>.] - ETA: 0s - loss: 0.1043 - accuracy: 0.8687\n",
            "Epoch 32: val_loss did not improve from 0.20980\n",
            "930/930 [==============================] - 39s 42ms/step - loss: 0.1043 - accuracy: 0.8686 - val_loss: 0.2197 - val_accuracy: 0.6832\n",
            "Epoch 33/100\n",
            "929/930 [============================>.] - ETA: 0s - loss: 0.1051 - accuracy: 0.8603\n",
            "Epoch 33: val_loss did not improve from 0.20980\n",
            "930/930 [==============================] - 42s 45ms/step - loss: 0.1051 - accuracy: 0.8604 - val_loss: 0.2237 - val_accuracy: 0.6713\n",
            "Epoch 34/100\n",
            "929/930 [============================>.] - ETA: 0s - loss: 0.1022 - accuracy: 0.8687\n",
            "Epoch 34: val_loss did not improve from 0.20980\n",
            "930/930 [==============================] - 46s 49ms/step - loss: 0.1021 - accuracy: 0.8687 - val_loss: 0.2332 - val_accuracy: 0.6498\n",
            "Epoch 35/100\n",
            "930/930 [==============================] - ETA: 0s - loss: 0.1013 - accuracy: 0.8748\n",
            "Epoch 35: val_loss did not improve from 0.20980\n",
            "930/930 [==============================] - 39s 42ms/step - loss: 0.1013 - accuracy: 0.8748 - val_loss: 0.2303 - val_accuracy: 0.6810\n",
            "Epoch 36/100\n",
            "930/930 [==============================] - ETA: 0s - loss: 0.1014 - accuracy: 0.8760\n",
            "Epoch 36: val_loss did not improve from 0.20980\n",
            "930/930 [==============================] - 42s 45ms/step - loss: 0.1014 - accuracy: 0.8760 - val_loss: 0.2359 - val_accuracy: 0.6514\n",
            "Epoch 37/100\n",
            "929/930 [============================>.] - ETA: 0s - loss: 0.0967 - accuracy: 0.8763\n",
            "Epoch 37: val_loss did not improve from 0.20980\n",
            "930/930 [==============================] - 42s 45ms/step - loss: 0.0967 - accuracy: 0.8764 - val_loss: 0.2306 - val_accuracy: 0.6525\n",
            "Epoch 38/100\n",
            "930/930 [==============================] - ETA: 0s - loss: 0.0940 - accuracy: 0.8845\n",
            "Epoch 38: val_loss did not improve from 0.20980\n",
            "930/930 [==============================] - 40s 43ms/step - loss: 0.0940 - accuracy: 0.8845 - val_loss: 0.2219 - val_accuracy: 0.6918\n",
            "Epoch 39/100\n",
            "930/930 [==============================] - ETA: 0s - loss: 0.0939 - accuracy: 0.8819\n",
            "Epoch 39: val_loss did not improve from 0.20980\n",
            "930/930 [==============================] - 43s 46ms/step - loss: 0.0939 - accuracy: 0.8819 - val_loss: 0.2207 - val_accuracy: 0.6751\n",
            "Epoch 40/100\n",
            "929/930 [============================>.] - ETA: 0s - loss: 0.0929 - accuracy: 0.8836\n",
            "Epoch 40: val_loss did not improve from 0.20980\n",
            "930/930 [==============================] - 42s 45ms/step - loss: 0.0930 - accuracy: 0.8834 - val_loss: 0.2231 - val_accuracy: 0.7084\n",
            "Epoch 41/100\n",
            "929/930 [============================>.] - ETA: 0s - loss: 0.0905 - accuracy: 0.8889\n",
            "Epoch 41: val_loss did not improve from 0.20980\n",
            "930/930 [==============================] - 42s 45ms/step - loss: 0.0905 - accuracy: 0.8889 - val_loss: 0.2197 - val_accuracy: 0.6875\n",
            "Epoch 42/100\n",
            "930/930 [==============================] - ETA: 0s - loss: 0.0950 - accuracy: 0.8838\n",
            "Epoch 42: val_loss did not improve from 0.20980\n",
            "930/930 [==============================] - 42s 45ms/step - loss: 0.0950 - accuracy: 0.8838 - val_loss: 0.2182 - val_accuracy: 0.6859\n",
            "Epoch 43/100\n",
            "929/930 [============================>.] - ETA: 0s - loss: 0.0871 - accuracy: 0.8920\n",
            "Epoch 43: val_loss did not improve from 0.20980\n",
            "930/930 [==============================] - 40s 43ms/step - loss: 0.0871 - accuracy: 0.8919 - val_loss: 0.2276 - val_accuracy: 0.6805\n",
            "Epoch 44/100\n",
            "929/930 [============================>.] - ETA: 0s - loss: 0.0881 - accuracy: 0.8930\n",
            "Epoch 44: val_loss did not improve from 0.20980\n",
            "930/930 [==============================] - 42s 45ms/step - loss: 0.0881 - accuracy: 0.8931 - val_loss: 0.2312 - val_accuracy: 0.6783\n",
            "Epoch 45/100\n",
            "930/930 [==============================] - ETA: 0s - loss: 0.0877 - accuracy: 0.8964\n",
            "Epoch 45: val_loss did not improve from 0.20980\n",
            "930/930 [==============================] - 46s 50ms/step - loss: 0.0877 - accuracy: 0.8964 - val_loss: 0.2404 - val_accuracy: 0.6756\n",
            "Epoch 46/100\n",
            "929/930 [============================>.] - ETA: 0s - loss: 0.0922 - accuracy: 0.8898\n",
            "Epoch 46: val_loss did not improve from 0.20980\n",
            "930/930 [==============================] - 39s 42ms/step - loss: 0.0921 - accuracy: 0.8899 - val_loss: 0.2215 - val_accuracy: 0.6676\n",
            "Epoch 47/100\n",
            "930/930 [==============================] - ETA: 0s - loss: 0.0847 - accuracy: 0.8994\n",
            "Epoch 47: val_loss did not improve from 0.20980\n",
            "930/930 [==============================] - 42s 45ms/step - loss: 0.0847 - accuracy: 0.8994 - val_loss: 0.2289 - val_accuracy: 0.6859\n",
            "Epoch 48/100\n",
            "930/930 [==============================] - ETA: 0s - loss: 0.0806 - accuracy: 0.9049\n",
            "Epoch 48: val_loss did not improve from 0.20980\n",
            "930/930 [==============================] - 39s 42ms/step - loss: 0.0806 - accuracy: 0.9049 - val_loss: 0.2471 - val_accuracy: 0.6783\n",
            "Epoch 49/100\n",
            "930/930 [==============================] - ETA: 0s - loss: 0.0886 - accuracy: 0.8946\n",
            "Epoch 49: val_loss did not improve from 0.20980\n",
            "930/930 [==============================] - 40s 43ms/step - loss: 0.0886 - accuracy: 0.8946 - val_loss: 0.2436 - val_accuracy: 0.6729\n",
            "Epoch 50/100\n",
            "929/930 [============================>.] - ETA: 0s - loss: 0.0801 - accuracy: 0.9050\n",
            "Epoch 50: val_loss did not improve from 0.20980\n",
            "930/930 [==============================] - 42s 45ms/step - loss: 0.0801 - accuracy: 0.9051 - val_loss: 0.2342 - val_accuracy: 0.6832\n",
            "Epoch 51/100\n",
            "930/930 [==============================] - ETA: 0s - loss: 0.0802 - accuracy: 0.9003\n",
            "Epoch 51: val_loss did not improve from 0.20980\n",
            "930/930 [==============================] - 46s 49ms/step - loss: 0.0802 - accuracy: 0.9003 - val_loss: 0.2385 - val_accuracy: 0.6638\n",
            "Epoch 52/100\n",
            "930/930 [==============================] - ETA: 0s - loss: 0.0800 - accuracy: 0.8997\n",
            "Epoch 52: val_loss did not improve from 0.20980\n",
            "930/930 [==============================] - 42s 45ms/step - loss: 0.0800 - accuracy: 0.8997 - val_loss: 0.2329 - val_accuracy: 0.6676\n",
            "Epoch 53/100\n",
            "930/930 [==============================] - ETA: 0s - loss: 0.0769 - accuracy: 0.9137\n",
            "Epoch 53: val_loss did not improve from 0.20980\n",
            "930/930 [==============================] - 42s 45ms/step - loss: 0.0769 - accuracy: 0.9137 - val_loss: 0.2336 - val_accuracy: 0.7063\n",
            "Epoch 54/100\n",
            "929/930 [============================>.] - ETA: 0s - loss: 0.0801 - accuracy: 0.9072\n",
            "Epoch 54: val_loss did not improve from 0.20980\n",
            "930/930 [==============================] - 42s 45ms/step - loss: 0.0801 - accuracy: 0.9071 - val_loss: 0.2291 - val_accuracy: 0.7079\n",
            "Epoch 55/100\n",
            "929/930 [============================>.] - ETA: 0s - loss: 0.0824 - accuracy: 0.9033\n",
            "Epoch 55: val_loss did not improve from 0.20980\n",
            "930/930 [==============================] - 42s 45ms/step - loss: 0.0826 - accuracy: 0.9032 - val_loss: 0.2354 - val_accuracy: 0.6805\n",
            "Epoch 56/100\n",
            "929/930 [============================>.] - ETA: 0s - loss: 0.0774 - accuracy: 0.9109\n",
            "Epoch 56: val_loss did not improve from 0.20980\n",
            "930/930 [==============================] - 46s 49ms/step - loss: 0.0774 - accuracy: 0.9110 - val_loss: 0.2360 - val_accuracy: 0.6821\n",
            "Epoch 57/100\n",
            "930/930 [==============================] - ETA: 0s - loss: 0.0835 - accuracy: 0.9061\n",
            "Epoch 57: val_loss did not improve from 0.20980\n",
            "930/930 [==============================] - 42s 46ms/step - loss: 0.0835 - accuracy: 0.9061 - val_loss: 0.2228 - val_accuracy: 0.6934\n",
            "Epoch 58/100\n",
            "930/930 [==============================] - ETA: 0s - loss: 0.0756 - accuracy: 0.9096\n",
            "Epoch 58: val_loss did not improve from 0.20980\n",
            "930/930 [==============================] - 40s 43ms/step - loss: 0.0756 - accuracy: 0.9096 - val_loss: 0.2450 - val_accuracy: 0.6622\n",
            "Epoch 59/100\n",
            "930/930 [==============================] - ETA: 0s - loss: 0.0774 - accuracy: 0.9084\n",
            "Epoch 59: val_loss did not improve from 0.20980\n",
            "930/930 [==============================] - 42s 45ms/step - loss: 0.0774 - accuracy: 0.9084 - val_loss: 0.2520 - val_accuracy: 0.6708\n",
            "Epoch 60/100\n",
            "929/930 [============================>.] - ETA: 0s - loss: 0.0739 - accuracy: 0.9113\n",
            "Epoch 60: val_loss did not improve from 0.20980\n",
            "930/930 [==============================] - 40s 43ms/step - loss: 0.0739 - accuracy: 0.9114 - val_loss: 0.2260 - val_accuracy: 0.6778\n",
            "Epoch 61/100\n",
            "930/930 [==============================] - ETA: 0s - loss: 0.0718 - accuracy: 0.9162\n",
            "Epoch 61: val_loss did not improve from 0.20980\n",
            "930/930 [==============================] - 40s 43ms/step - loss: 0.0718 - accuracy: 0.9162 - val_loss: 0.2524 - val_accuracy: 0.6697\n",
            "Epoch 62/100\n",
            "929/930 [============================>.] - ETA: 0s - loss: 0.0766 - accuracy: 0.9093\n",
            "Epoch 62: val_loss did not improve from 0.20980\n",
            "930/930 [==============================] - 46s 50ms/step - loss: 0.0766 - accuracy: 0.9094 - val_loss: 0.2496 - val_accuracy: 0.6928\n",
            "Epoch 63/100\n",
            "929/930 [============================>.] - ETA: 0s - loss: 0.0724 - accuracy: 0.9205\n",
            "Epoch 63: val_loss did not improve from 0.20980\n",
            "930/930 [==============================] - 42s 46ms/step - loss: 0.0725 - accuracy: 0.9204 - val_loss: 0.2407 - val_accuracy: 0.6789\n",
            "Epoch 64/100\n",
            "929/930 [============================>.] - ETA: 0s - loss: 0.0740 - accuracy: 0.9125\n",
            "Epoch 64: val_loss did not improve from 0.20980\n",
            "930/930 [==============================] - 43s 46ms/step - loss: 0.0740 - accuracy: 0.9126 - val_loss: 0.2651 - val_accuracy: 0.6939\n",
            "Epoch 65/100\n",
            "929/930 [============================>.] - ETA: 0s - loss: 0.0737 - accuracy: 0.9156\n",
            "Epoch 65: val_loss did not improve from 0.20980\n",
            "930/930 [==============================] - 43s 46ms/step - loss: 0.0736 - accuracy: 0.9157 - val_loss: 0.2525 - val_accuracy: 0.6934\n",
            "Epoch 66/100\n",
            "929/930 [============================>.] - ETA: 0s - loss: 0.0744 - accuracy: 0.9143\n",
            "Epoch 66: val_loss did not improve from 0.20980\n",
            "930/930 [==============================] - 43s 46ms/step - loss: 0.0744 - accuracy: 0.9142 - val_loss: 0.2283 - val_accuracy: 0.6918\n",
            "Epoch 67/100\n",
            "929/930 [============================>.] - ETA: 0s - loss: 0.0675 - accuracy: 0.9236\n",
            "Epoch 67: val_loss did not improve from 0.20980\n",
            "930/930 [==============================] - 47s 51ms/step - loss: 0.0679 - accuracy: 0.9235 - val_loss: 0.2436 - val_accuracy: 0.6923\n",
            "Epoch 68/100\n",
            "930/930 [==============================] - ETA: 0s - loss: 0.0721 - accuracy: 0.9168\n",
            "Epoch 68: val_loss did not improve from 0.20980\n",
            "930/930 [==============================] - 43s 46ms/step - loss: 0.0721 - accuracy: 0.9168 - val_loss: 0.2318 - val_accuracy: 0.6859\n",
            "Epoch 69/100\n",
            "929/930 [============================>.] - ETA: 0s - loss: 0.0663 - accuracy: 0.9217\n",
            "Epoch 69: val_loss did not improve from 0.20980\n",
            "930/930 [==============================] - 42s 46ms/step - loss: 0.0664 - accuracy: 0.9216 - val_loss: 0.2336 - val_accuracy: 0.6934\n",
            "Epoch 70/100\n",
            "929/930 [============================>.] - ETA: 0s - loss: 0.0706 - accuracy: 0.9186\n",
            "Epoch 70: val_loss did not improve from 0.20980\n",
            "930/930 [==============================] - 43s 46ms/step - loss: 0.0706 - accuracy: 0.9185 - val_loss: 0.2315 - val_accuracy: 0.6934\n",
            "Epoch 71/100\n",
            "929/930 [============================>.] - ETA: 0s - loss: 0.0668 - accuracy: 0.9271\n",
            "Epoch 71: val_loss did not improve from 0.20980\n",
            "930/930 [==============================] - 42s 46ms/step - loss: 0.0668 - accuracy: 0.9271 - val_loss: 0.2406 - val_accuracy: 0.6939\n",
            "Epoch 72/100\n",
            "929/930 [============================>.] - ETA: 0s - loss: 0.0709 - accuracy: 0.9194\n",
            "Epoch 72: val_loss did not improve from 0.20980\n",
            "930/930 [==============================] - 40s 43ms/step - loss: 0.0709 - accuracy: 0.9194 - val_loss: 0.2600 - val_accuracy: 0.6848\n",
            "Epoch 73/100\n",
            "929/930 [============================>.] - ETA: 0s - loss: 0.0695 - accuracy: 0.9205\n",
            "Epoch 73: val_loss did not improve from 0.20980\n",
            "930/930 [==============================] - 44s 47ms/step - loss: 0.0695 - accuracy: 0.9204 - val_loss: 0.2384 - val_accuracy: 0.6805\n",
            "Epoch 74/100\n",
            "930/930 [==============================] - ETA: 0s - loss: 0.0704 - accuracy: 0.9158\n",
            "Epoch 74: val_loss did not improve from 0.20980\n",
            "930/930 [==============================] - 40s 43ms/step - loss: 0.0704 - accuracy: 0.9158 - val_loss: 0.2333 - val_accuracy: 0.6799\n",
            "Epoch 75/100\n",
            "930/930 [==============================] - ETA: 0s - loss: 0.0735 - accuracy: 0.9188\n",
            "Epoch 75: val_loss did not improve from 0.20980\n",
            "930/930 [==============================] - 43s 46ms/step - loss: 0.0735 - accuracy: 0.9188 - val_loss: 0.2305 - val_accuracy: 0.6880\n",
            "Epoch 76/100\n",
            "930/930 [==============================] - ETA: 0s - loss: 0.0693 - accuracy: 0.9200\n",
            "Epoch 76: val_loss did not improve from 0.20980\n",
            "930/930 [==============================] - 40s 43ms/step - loss: 0.0693 - accuracy: 0.9200 - val_loss: 0.2388 - val_accuracy: 0.6799\n",
            "Epoch 77/100\n",
            "930/930 [==============================] - ETA: 0s - loss: 0.0716 - accuracy: 0.9197\n",
            "Epoch 77: val_loss did not improve from 0.20980\n",
            "930/930 [==============================] - 43s 46ms/step - loss: 0.0716 - accuracy: 0.9197 - val_loss: 0.2521 - val_accuracy: 0.6842\n",
            "Epoch 78/100\n",
            "930/930 [==============================] - ETA: 0s - loss: 0.0655 - accuracy: 0.9255\n",
            "Epoch 78: val_loss did not improve from 0.20980\n",
            "930/930 [==============================] - 46s 50ms/step - loss: 0.0655 - accuracy: 0.9255 - val_loss: 0.2437 - val_accuracy: 0.7079\n",
            "Epoch 79/100\n",
            "930/930 [==============================] - ETA: 0s - loss: 0.0655 - accuracy: 0.9259\n",
            "Epoch 79: val_loss did not improve from 0.20980\n",
            "930/930 [==============================] - 43s 46ms/step - loss: 0.0655 - accuracy: 0.9259 - val_loss: 0.2600 - val_accuracy: 0.6832\n",
            "Epoch 80/100\n",
            "929/930 [============================>.] - ETA: 0s - loss: 0.0676 - accuracy: 0.9237\n",
            "Epoch 80: val_loss did not improve from 0.20980\n",
            "930/930 [==============================] - 43s 47ms/step - loss: 0.0676 - accuracy: 0.9237 - val_loss: 0.2316 - val_accuracy: 0.7063\n",
            "Epoch 81/100\n",
            "929/930 [============================>.] - ETA: 0s - loss: 0.0666 - accuracy: 0.9269\n",
            "Epoch 81: val_loss did not improve from 0.20980\n",
            "930/930 [==============================] - 43s 46ms/step - loss: 0.0666 - accuracy: 0.9270 - val_loss: 0.2453 - val_accuracy: 0.6859\n",
            "Epoch 82/100\n",
            "929/930 [============================>.] - ETA: 0s - loss: 0.0656 - accuracy: 0.9276\n",
            "Epoch 82: val_loss did not improve from 0.20980\n",
            "930/930 [==============================] - 43s 46ms/step - loss: 0.0656 - accuracy: 0.9275 - val_loss: 0.2410 - val_accuracy: 0.6977\n",
            "Epoch 83/100\n",
            "930/930 [==============================] - ETA: 0s - loss: 0.0681 - accuracy: 0.9240\n",
            "Epoch 83: val_loss did not improve from 0.20980\n",
            "930/930 [==============================] - 43s 46ms/step - loss: 0.0681 - accuracy: 0.9240 - val_loss: 0.2492 - val_accuracy: 0.6875\n",
            "Epoch 84/100\n",
            "929/930 [============================>.] - ETA: 0s - loss: 0.0651 - accuracy: 0.9233\n",
            "Epoch 84: val_loss did not improve from 0.20980\n",
            "930/930 [==============================] - 46s 50ms/step - loss: 0.0651 - accuracy: 0.9232 - val_loss: 0.2295 - val_accuracy: 0.6842\n",
            "Epoch 85/100\n",
            "930/930 [==============================] - ETA: 0s - loss: 0.0641 - accuracy: 0.9283\n",
            "Epoch 85: val_loss did not improve from 0.20980\n",
            "930/930 [==============================] - 40s 43ms/step - loss: 0.0641 - accuracy: 0.9283 - val_loss: 0.2412 - val_accuracy: 0.6842\n",
            "Epoch 86/100\n",
            "930/930 [==============================] - ETA: 0s - loss: 0.0670 - accuracy: 0.9255\n",
            "Epoch 86: val_loss did not improve from 0.20980\n",
            "930/930 [==============================] - 40s 44ms/step - loss: 0.0670 - accuracy: 0.9255 - val_loss: 0.2426 - val_accuracy: 0.6848\n",
            "Epoch 87/100\n",
            "929/930 [============================>.] - ETA: 0s - loss: 0.0685 - accuracy: 0.9232\n",
            "Epoch 87: val_loss did not improve from 0.20980\n",
            "930/930 [==============================] - 43s 46ms/step - loss: 0.0685 - accuracy: 0.9232 - val_loss: 0.2410 - val_accuracy: 0.6815\n",
            "Epoch 88/100\n",
            "929/930 [============================>.] - ETA: 0s - loss: 0.0675 - accuracy: 0.9228\n",
            "Epoch 88: val_loss did not improve from 0.20980\n",
            "930/930 [==============================] - 43s 46ms/step - loss: 0.0675 - accuracy: 0.9227 - val_loss: 0.2417 - val_accuracy: 0.6767\n",
            "Epoch 89/100\n",
            "929/930 [============================>.] - ETA: 0s - loss: 0.0636 - accuracy: 0.9298\n",
            "Epoch 89: val_loss did not improve from 0.20980\n",
            "930/930 [==============================] - 44s 47ms/step - loss: 0.0636 - accuracy: 0.9297 - val_loss: 0.2591 - val_accuracy: 0.6756\n",
            "Epoch 90/100\n",
            "929/930 [============================>.] - ETA: 0s - loss: 0.0636 - accuracy: 0.9287\n",
            "Epoch 90: val_loss did not improve from 0.20980\n",
            "930/930 [==============================] - 43s 46ms/step - loss: 0.0636 - accuracy: 0.9286 - val_loss: 0.2488 - val_accuracy: 0.6837\n",
            "Epoch 91/100\n",
            "930/930 [==============================] - ETA: 0s - loss: 0.0639 - accuracy: 0.9315\n",
            "Epoch 91: val_loss did not improve from 0.20980\n",
            "930/930 [==============================] - 43s 46ms/step - loss: 0.0639 - accuracy: 0.9315 - val_loss: 0.2519 - val_accuracy: 0.6923\n",
            "Epoch 92/100\n",
            "929/930 [============================>.] - ETA: 0s - loss: 0.0632 - accuracy: 0.9303\n",
            "Epoch 92: val_loss did not improve from 0.20980\n",
            "930/930 [==============================] - 43s 46ms/step - loss: 0.0632 - accuracy: 0.9302 - val_loss: 0.2348 - val_accuracy: 0.7079\n",
            "Epoch 93/100\n",
            "930/930 [==============================] - ETA: 0s - loss: 0.0662 - accuracy: 0.9254\n",
            "Epoch 93: val_loss did not improve from 0.20980\n",
            "930/930 [==============================] - 43s 46ms/step - loss: 0.0662 - accuracy: 0.9254 - val_loss: 0.2396 - val_accuracy: 0.7090\n",
            "Epoch 94/100\n",
            "929/930 [============================>.] - ETA: 0s - loss: 0.0626 - accuracy: 0.9325\n",
            "Epoch 94: val_loss did not improve from 0.20980\n",
            "930/930 [==============================] - 46s 50ms/step - loss: 0.0626 - accuracy: 0.9324 - val_loss: 0.2529 - val_accuracy: 0.6966\n",
            "Epoch 95/100\n",
            "929/930 [============================>.] - ETA: 0s - loss: 0.0654 - accuracy: 0.9263\n",
            "Epoch 95: val_loss did not improve from 0.20980\n",
            "930/930 [==============================] - 43s 46ms/step - loss: 0.0654 - accuracy: 0.9263 - val_loss: 0.2512 - val_accuracy: 0.6842\n",
            "Epoch 96/100\n",
            "929/930 [============================>.] - ETA: 0s - loss: 0.0634 - accuracy: 0.9261\n",
            "Epoch 96: val_loss did not improve from 0.20980\n",
            "930/930 [==============================] - 40s 43ms/step - loss: 0.0633 - accuracy: 0.9262 - val_loss: 0.2534 - val_accuracy: 0.6982\n",
            "Epoch 97/100\n",
            "930/930 [==============================] - ETA: 0s - loss: 0.0613 - accuracy: 0.9334\n",
            "Epoch 97: val_loss did not improve from 0.20980\n",
            "930/930 [==============================] - 41s 44ms/step - loss: 0.0613 - accuracy: 0.9334 - val_loss: 0.2572 - val_accuracy: 0.6875\n",
            "Epoch 98/100\n",
            "929/930 [============================>.] - ETA: 0s - loss: 0.0627 - accuracy: 0.9337\n",
            "Epoch 98: val_loss did not improve from 0.20980\n",
            "930/930 [==============================] - 43s 46ms/step - loss: 0.0627 - accuracy: 0.9337 - val_loss: 0.2518 - val_accuracy: 0.6923\n",
            "Epoch 99/100\n",
            "930/930 [==============================] - ETA: 0s - loss: 0.0675 - accuracy: 0.9282\n",
            "Epoch 99: val_loss did not improve from 0.20980\n",
            "930/930 [==============================] - 43s 46ms/step - loss: 0.0675 - accuracy: 0.9282 - val_loss: 0.2498 - val_accuracy: 0.6810\n",
            "Epoch 100/100\n",
            "929/930 [============================>.] - ETA: 0s - loss: 0.0649 - accuracy: 0.9257\n",
            "Epoch 100: val_loss did not improve from 0.20980\n",
            "930/930 [==============================] - 41s 44ms/step - loss: 0.0649 - accuracy: 0.9258 - val_loss: 0.2575 - val_accuracy: 0.6966\n",
            "59/59 [==============================] - 2s 41ms/step - loss: 0.2575 - accuracy: 0.6966\n",
            "Test loss: 0.2574974000453949\n",
            "Test accuracy: 0.6966111063957214\n"
          ]
        }
      ],
      "source": [
        "model.compile(\n",
        "\toptimizer=\"Adam\",\n",
        "\tloss=\"binary_crossentropy\",\n",
        "\tmetrics=['accuracy'])\n",
        "\n",
        "history = model.fit(\n",
        "\tx=X_train, \n",
        "\ty=y_train,\n",
        "    epochs=100,\n",
        "    batch_size=8,\n",
        "    validation_data= (X_test, y_test),\n",
        "    callbacks=[tensorboard, checkpointer])\n",
        "\n",
        "score = model.evaluate(\n",
        "\tx=X_test,\n",
        "\ty=y_test)\n",
        "\n",
        "print('Test loss:', score[0])\n",
        "print('Test accuracy:', score[1])\n",
        "\n",
        "# Save the model\n",
        "model.save('/content/drive/My Drive/DSL_Final_Project/savedModels/Conv2D_32_48_48_Dense_64_3model.h5')"
      ]
    },
    {
      "cell_type": "code",
      "execution_count": null,
      "metadata": {
        "colab": {
          "base_uri": "https://localhost:8080/",
          "height": 590
        },
        "id": "WEg-K9sSj1va",
        "outputId": "c8e68d98-3b3f-4ccc-8987-76cbff8675a5"
      },
      "outputs": [
        {
          "output_type": "stream",
          "name": "stdout",
          "text": [
            "dict_keys(['loss', 'accuracy', 'val_loss', 'val_accuracy'])\n"
          ]
        },
        {
          "output_type": "display_data",
          "data": {
            "text/plain": [
              "<Figure size 432x288 with 1 Axes>"
            ],
            "image/png": "[encoded data removed]"
          },
          "metadata": {
            "needs_background": "light"
          }
        },
        {
          "output_type": "display_data",
          "data": {
            "text/plain": [
              "<Figure size 432x288 with 1 Axes>"
            ],
            "image/png": "[encoded data removed]"
          },
          "metadata": {
            "needs_background": "light"
          }
        }
      ],
      "source": [
        "# list all data in history\n",
        "print(history.history.keys())\n",
        "# summarize history for accuracy\n",
        "plt.plot(history.history['accuracy'])\n",
        "plt.plot(history.history['val_accuracy'])\n",
        "plt.title('model accuracy')\n",
        "plt.ylabel('accuracy')\n",
        "plt.xlabel('epoch')\n",
        "plt.legend(['train', 'test'], loc='upper left')\n",
        "plt.show()\n",
        "# summarize history for loss\n",
        "plt.plot(history.history['loss'])\n",
        "plt.plot(history.history['val_loss'])\n",
        "plt.title('model loss')\n",
        "plt.ylabel('loss')\n",
        "plt.xlabel('epoch')\n",
        "plt.legend(['train', 'test'], loc='upper left')\n",
        "plt.show()"
      ]
    },
    {
      "cell_type": "code",
      "source": [
        "# remove this later\n",
        "def predict(name):\n",
        "    b, fs = librosa.core.load(name)\n",
        "    ps = librosa.feature.melspectrogram(b, sr=fs)\n",
        "    S_DB = librosa.power_to_db(ps, ref=np.max)\n",
        "    test = S_DB.reshape(1,128,217,1)\n",
        "    return model.predict(test)"
      ],
      "metadata": {
        "id": "RMyueTsn_ZSF"
      },
      "execution_count": null,
      "outputs": []
    },
    {
      "cell_type": "code",
      "source": [
        "file_path = '/content/drive/My Drive/DSL_Final_Project/evaluation.csv'\n",
        "evaluation = pd.read_csv(file_path)\n",
        "evaluation.head()"
      ],
      "metadata": {
        "colab": {
          "base_uri": "https://localhost:8080/",
          "height": 371
        },
        "id": "n45nq5FH6wzx",
        "outputId": "3ec3d005-3f78-4319-c9d2-c9c7414bc9cb"
      },
      "execution_count": null,
      "outputs": [
        {
          "output_type": "execute_result",
          "data": {
            "text/plain": [
              "   Id                                               path          speakerId  \\\n",
              "0   0  dsl_data/audio/speakers/NgQEvO2x7Vh3xy2xz/f53c...  NgQEvO2x7Vh3xy2xz   \n",
              "1   1  dsl_data/audio/speakers/k5bqyxx2lzIbrlg9/1d5f8...   k5bqyxx2lzIbrlg9   \n",
              "2   2  dsl_data/audio/speakers/7B4XmNppyrCK977p/1c0d5...   7B4XmNppyrCK977p   \n",
              "3   3  dsl_data/audio/speakers/k5bqyxx2lzIbrlg9/275c3...   k5bqyxx2lzIbrlg9   \n",
              "4   4  dsl_data/audio/speakers/V4ZbwLm9G5irobWn/b7c7a...   V4ZbwLm9G5irobWn   \n",
              "\n",
              "  Self-reported fluency level     First Language spoken  \\\n",
              "0                       native  English (United States)   \n",
              "1                       native  English (United States)   \n",
              "2                       native  English (United States)   \n",
              "3                       native  English (United States)   \n",
              "4                       native  English (United States)   \n",
              "\n",
              "  Current language used for work/school  gender ageRange  \n",
              "0               English (United States)    male    22-40  \n",
              "1               English (United States)    male    22-40  \n",
              "2               English (United States)    male    41-65  \n",
              "3               English (United States)    male    22-40  \n",
              "4               English (United States)  female    41-65  "
            ],
            "text/html": [
              "\n",
              "  <div id=\"df-c1aae2fa-32e5-40d4-8a25-957271db0ecc\">\n",
              "    <div class=\"colab-df-container\">\n",
              "      <div>\n",
              "<style scoped>\n",
              "    .dataframe tbody tr th:only-of-type {\n",
              "        vertical-align: middle;\n",
              "    }\n",
              "\n",
              "    .dataframe tbody tr th {\n",
              "        vertical-align: top;\n",
              "    }\n",
              "\n",
              "    .dataframe thead th {\n",
              "        text-align: right;\n",
              "    }\n",
              "</style>\n",
              "<table border=\"1\" class=\"dataframe\">\n",
              "  <thead>\n",
              "    <tr style=\"text-align: right;\">\n",
              "      <th></th>\n",
              "      <th>Id</th>\n",
              "      <th>path</th>\n",
              "      <th>speakerId</th>\n",
              "      <th>Self-reported fluency level</th>\n",
              "      <th>First Language spoken</th>\n",
              "      <th>Current language used for work/school</th>\n",
              "      <th>gender</th>\n",
              "      <th>ageRange</th>\n",
              "    </tr>\n",
              "  </thead>\n",
              "  <tbody>\n",
              "    <tr>\n",
              "      <th>0</th>\n",
              "      <td>0</td>\n",
              "      <td>dsl_data/audio/speakers/NgQEvO2x7Vh3xy2xz/f53c...</td>\n",
              "      <td>NgQEvO2x7Vh3xy2xz</td>\n",
              "      <td>native</td>\n",
              "      <td>English (United States)</td>\n",
              "      <td>English (United States)</td>\n",
              "      <td>male</td>\n",
              "      <td>22-40</td>\n",
              "    </tr>\n",
              "    <tr>\n",
              "      <th>1</th>\n",
              "      <td>1</td>\n",
              "      <td>dsl_data/audio/speakers/k5bqyxx2lzIbrlg9/1d5f8...</td>\n",
              "      <td>k5bqyxx2lzIbrlg9</td>\n",
              "      <td>native</td>\n",
              "      <td>English (United States)</td>\n",
              "      <td>English (United States)</td>\n",
              "      <td>male</td>\n",
              "      <td>22-40</td>\n",
              "    </tr>\n",
              "    <tr>\n",
              "      <th>2</th>\n",
              "      <td>2</td>\n",
              "      <td>dsl_data/audio/speakers/7B4XmNppyrCK977p/1c0d5...</td>\n",
              "      <td>7B4XmNppyrCK977p</td>\n",
              "      <td>native</td>\n",
              "      <td>English (United States)</td>\n",
              "      <td>English (United States)</td>\n",
              "      <td>male</td>\n",
              "      <td>41-65</td>\n",
              "    </tr>\n",
              "    <tr>\n",
              "      <th>3</th>\n",
              "      <td>3</td>\n",
              "      <td>dsl_data/audio/speakers/k5bqyxx2lzIbrlg9/275c3...</td>\n",
              "      <td>k5bqyxx2lzIbrlg9</td>\n",
              "      <td>native</td>\n",
              "      <td>English (United States)</td>\n",
              "      <td>English (United States)</td>\n",
              "      <td>male</td>\n",
              "      <td>22-40</td>\n",
              "    </tr>\n",
              "    <tr>\n",
              "      <th>4</th>\n",
              "      <td>4</td>\n",
              "      <td>dsl_data/audio/speakers/V4ZbwLm9G5irobWn/b7c7a...</td>\n",
              "      <td>V4ZbwLm9G5irobWn</td>\n",
              "      <td>native</td>\n",
              "      <td>English (United States)</td>\n",
              "      <td>English (United States)</td>\n",
              "      <td>female</td>\n",
              "      <td>41-65</td>\n",
              "    </tr>\n",
              "  </tbody>\n",
              "</table>\n",
              "</div>\n",
              "      <button class=\"colab-df-convert\" onclick=\"convertToInteractive('df-c1aae2fa-32e5-40d4-8a25-957271db0ecc')\"\n",
              "              title=\"Convert this dataframe to an interactive table.\"\n",
              "              style=\"display:none;\">\n",
              "        \n",
              "  <svg xmlns=\"http://www.w3.org/2000/svg\" height=\"24px\"viewBox=\"0 0 24 24\"\n",
              "       width=\"24px\">\n",
              "    <path d=\"M0 0h24v24H0V0z\" fill=\"none\"/>\n",
              "    <path d=\"M18.56 5.44l.94 2.06.94-2.06 2.06-.94-2.06-.94-.94-2.06-.94 2.06-2.06.94zm-11 1L8.5 8.5l.94-2.06 2.06-.94-2.06-.94L8.5 2.5l-.94 2.06-2.06.94zm10 10l.94 2.06.94-2.06 2.06-.94-2.06-.94-.94-2.06-.94 2.06-2.06.94z\"/><path d=\"M17.41 7.96l-1.37-1.37c-.4-.4-.92-.59-1.43-.59-.52 0-1.04.2-1.43.59L10.3 9.45l-7.72 7.72c-.78.78-.78 2.05 0 2.83L4 21.41c.39.39.9.59 1.41.59.51 0 1.02-.2 1.41-.59l7.78-7.78 2.81-2.81c.8-.78.8-2.07 0-2.86zM5.41 20L4 18.59l7.72-7.72 1.47 1.35L5.41 20z\"/>\n",
              "  </svg>\n",
              "      </button>\n",
              "      \n",
              "  <style>\n",
              "    .colab-df-container {\n",
              "      display:flex;\n",
              "      flex-wrap:wrap;\n",
              "      gap: 12px;\n",
              "    }\n",
              "\n",
              "    .colab-df-convert {\n",
              "      background-color: #E8F0FE;\n",
              "      border: none;\n",
              "      border-radius: 50%;\n",
              "      cursor: pointer;\n",
              "      display: none;\n",
              "      fill: #1967D2;\n",
              "      height: 32px;\n",
              "      padding: 0 0 0 0;\n",
              "      width: 32px;\n",
              "    }\n",
              "\n",
              "    .colab-df-convert:hover {\n",
              "      background-color: #E2EBFA;\n",
              "      box-shadow: 0px 1px 2px rgba(60, 64, 67, 0.3), 0px 1px 3px 1px rgba(60, 64, 67, 0.15);\n",
              "      fill: #174EA6;\n",
              "    }\n",
              "\n",
              "    [theme=dark] .colab-df-convert {\n",
              "      background-color: #3B4455;\n",
              "      fill: #D2E3FC;\n",
              "    }\n",
              "\n",
              "    [theme=dark] .colab-df-convert:hover {\n",
              "      background-color: #434B5C;\n",
              "      box-shadow: 0px 1px 3px 1px rgba(0, 0, 0, 0.15);\n",
              "      filter: drop-shadow(0px 1px 2px rgba(0, 0, 0, 0.3));\n",
              "      fill: #FFFFFF;\n",
              "    }\n",
              "  </style>\n",
              "\n",
              "      <script>\n",
              "        const buttonEl =\n",
              "          document.querySelector('#df-c1aae2fa-32e5-40d4-8a25-957271db0ecc button.colab-df-convert');\n",
              "        buttonEl.style.display =\n",
              "          google.colab.kernel.accessAllowed ? 'block' : 'none';\n",
              "\n",
              "        async function convertToInteractive(key) {\n",
              "          const element = document.querySelector('#df-c1aae2fa-32e5-40d4-8a25-957271db0ecc');\n",
              "          const dataTable =\n",
              "            await google.colab.kernel.invokeFunction('convertToInteractive',\n",
              "                                                     [key], {});\n",
              "          if (!dataTable) return;\n",
              "\n",
              "          const docLinkHtml = 'Like what you see? Visit the ' +\n",
              "            '<a target=\"_blank\" href=https://colab.research.google.com/notebooks/data_table.ipynb>data table notebook</a>'\n",
              "            + ' to learn more about interactive tables.';\n",
              "          element.innerHTML = '';\n",
              "          dataTable['output_type'] = 'display_data';\n",
              "          await google.colab.output.renderOutput(dataTable, element);\n",
              "          const docLink = document.createElement('div');\n",
              "          docLink.innerHTML = docLinkHtml;\n",
              "          element.appendChild(docLink);\n",
              "        }\n",
              "      </script>\n",
              "    </div>\n",
              "  </div>\n",
              "  "
            ]
          },
          "metadata": {},
          "execution_count": 81
        }
      ]
    },
    {
      "cell_type": "code",
      "execution_count": null,
      "metadata": {
        "id": "uoMZ-C_bj2gS"
      },
      "outputs": [],
      "source": [
        "def features_extractor(file):\n",
        "    audio, sample_rate = librosa.load(file_name, res_type='kaiser_fast') \n",
        "    audio = audio[:76670]\n",
        "    zero_padding = tf.zeros([76670] - tf.shape(audio), dtype=tf.float32)\n",
        "    audio = tf.concat([audio, zero_padding ],0)\n",
        "    audio = np.array(audio)\n",
        "    mfccs_features = librosa.feature.mfcc(y=audio, sr=sample_rate, n_mfcc=40)\n",
        "       \n",
        "    return mfccs_features"
      ]
    },
    {
      "cell_type": "code",
      "execution_count": null,
      "metadata": {
        "id": "e1Hw_n8mj8FS",
        "colab": {
          "base_uri": "https://localhost:8080/"
        },
        "outputId": "10ee09ee-666b-4d5e-a3c3-17ba6a1cd78c"
      },
      "outputs": [
        {
          "output_type": "stream",
          "name": "stderr",
          "text": [
            "1455it [01:05, 22.29it/s]\n"
          ]
        }
      ],
      "source": [
        "import numpy as np\n",
        "from tqdm import tqdm\n",
        "### Now we iterate through every audio file and extract features \n",
        "### using Mel-Frequency Cepstral Coefficients\n",
        "extracted_features=[]\n",
        "\n",
        "for index_num,row in tqdm(evaluation.iterrows()):\n",
        "    file_name = os.path.join('/content/drive/My Drive/DSL_Final_Project',str(row[\"path\"]))\n",
        "    data=features_extractor(file_name)\n",
        "    extracted_features.append([data])\n"
      ]
    },
    {
      "cell_type": "code",
      "execution_count": null,
      "metadata": {
        "id": "oTuRfXl8j9oZ",
        "colab": {
          "base_uri": "https://localhost:8080/",
          "height": 206
        },
        "outputId": "d2d04a94-ff81-4267-de0e-d5bbfc1b2ba5"
      },
      "outputs": [
        {
          "output_type": "execute_result",
          "data": {
            "text/plain": [
              "                                             feature\n",
              "0  [[-617.2023, -617.2023, -617.2023, -617.2023, ...\n",
              "1  [[-549.2558, -528.61554, -531.20276, -543.3042...\n",
              "2  [[-701.62256, -701.41895, -701.2874, -701.6225...\n",
              "3  [[-603.5141, -571.7804, -526.16187, -506.65253...\n",
              "4  [[-567.13184, -505.84366, -481.97388, -484.483..."
            ],
            "text/html": [
              "\n",
              "  <div id=\"df-e5eca76d-d2cc-4f1f-af75-df99b690b2a9\">\n",
              "    <div class=\"colab-df-container\">\n",
              "      <div>\n",
              "<style scoped>\n",
              "    .dataframe tbody tr th:only-of-type {\n",
              "        vertical-align: middle;\n",
              "    }\n",
              "\n",
              "    .dataframe tbody tr th {\n",
              "        vertical-align: top;\n",
              "    }\n",
              "\n",
              "    .dataframe thead th {\n",
              "        text-align: right;\n",
              "    }\n",
              "</style>\n",
              "<table border=\"1\" class=\"dataframe\">\n",
              "  <thead>\n",
              "    <tr style=\"text-align: right;\">\n",
              "      <th></th>\n",
              "      <th>feature</th>\n",
              "    </tr>\n",
              "  </thead>\n",
              "  <tbody>\n",
              "    <tr>\n",
              "      <th>0</th>\n",
              "      <td>[[-617.2023, -617.2023, -617.2023, -617.2023, ...</td>\n",
              "    </tr>\n",
              "    <tr>\n",
              "      <th>1</th>\n",
              "      <td>[[-549.2558, -528.61554, -531.20276, -543.3042...</td>\n",
              "    </tr>\n",
              "    <tr>\n",
              "      <th>2</th>\n",
              "      <td>[[-701.62256, -701.41895, -701.2874, -701.6225...</td>\n",
              "    </tr>\n",
              "    <tr>\n",
              "      <th>3</th>\n",
              "      <td>[[-603.5141, -571.7804, -526.16187, -506.65253...</td>\n",
              "    </tr>\n",
              "    <tr>\n",
              "      <th>4</th>\n",
              "      <td>[[-567.13184, -505.84366, -481.97388, -484.483...</td>\n",
              "    </tr>\n",
              "  </tbody>\n",
              "</table>\n",
              "</div>\n",
              "      <button class=\"colab-df-convert\" onclick=\"convertToInteractive('df-e5eca76d-d2cc-4f1f-af75-df99b690b2a9')\"\n",
              "              title=\"Convert this dataframe to an interactive table.\"\n",
              "              style=\"display:none;\">\n",
              "        \n",
              "  <svg xmlns=\"http://www.w3.org/2000/svg\" height=\"24px\"viewBox=\"0 0 24 24\"\n",
              "       width=\"24px\">\n",
              "    <path d=\"M0 0h24v24H0V0z\" fill=\"none\"/>\n",
              "    <path d=\"M18.56 5.44l.94 2.06.94-2.06 2.06-.94-2.06-.94-.94-2.06-.94 2.06-2.06.94zm-11 1L8.5 8.5l.94-2.06 2.06-.94-2.06-.94L8.5 2.5l-.94 2.06-2.06.94zm10 10l.94 2.06.94-2.06 2.06-.94-2.06-.94-.94-2.06-.94 2.06-2.06.94z\"/><path d=\"M17.41 7.96l-1.37-1.37c-.4-.4-.92-.59-1.43-.59-.52 0-1.04.2-1.43.59L10.3 9.45l-7.72 7.72c-.78.78-.78 2.05 0 2.83L4 21.41c.39.39.9.59 1.41.59.51 0 1.02-.2 1.41-.59l7.78-7.78 2.81-2.81c.8-.78.8-2.07 0-2.86zM5.41 20L4 18.59l7.72-7.72 1.47 1.35L5.41 20z\"/>\n",
              "  </svg>\n",
              "      </button>\n",
              "      \n",
              "  <style>\n",
              "    .colab-df-container {\n",
              "      display:flex;\n",
              "      flex-wrap:wrap;\n",
              "      gap: 12px;\n",
              "    }\n",
              "\n",
              "    .colab-df-convert {\n",
              "      background-color: #E8F0FE;\n",
              "      border: none;\n",
              "      border-radius: 50%;\n",
              "      cursor: pointer;\n",
              "      display: none;\n",
              "      fill: #1967D2;\n",
              "      height: 32px;\n",
              "      padding: 0 0 0 0;\n",
              "      width: 32px;\n",
              "    }\n",
              "\n",
              "    .colab-df-convert:hover {\n",
              "      background-color: #E2EBFA;\n",
              "      box-shadow: 0px 1px 2px rgba(60, 64, 67, 0.3), 0px 1px 3px 1px rgba(60, 64, 67, 0.15);\n",
              "      fill: #174EA6;\n",
              "    }\n",
              "\n",
              "    [theme=dark] .colab-df-convert {\n",
              "      background-color: #3B4455;\n",
              "      fill: #D2E3FC;\n",
              "    }\n",
              "\n",
              "    [theme=dark] .colab-df-convert:hover {\n",
              "      background-color: #434B5C;\n",
              "      box-shadow: 0px 1px 3px 1px rgba(0, 0, 0, 0.15);\n",
              "      filter: drop-shadow(0px 1px 2px rgba(0, 0, 0, 0.3));\n",
              "      fill: #FFFFFF;\n",
              "    }\n",
              "  </style>\n",
              "\n",
              "      <script>\n",
              "        const buttonEl =\n",
              "          document.querySelector('#df-e5eca76d-d2cc-4f1f-af75-df99b690b2a9 button.colab-df-convert');\n",
              "        buttonEl.style.display =\n",
              "          google.colab.kernel.accessAllowed ? 'block' : 'none';\n",
              "\n",
              "        async function convertToInteractive(key) {\n",
              "          const element = document.querySelector('#df-e5eca76d-d2cc-4f1f-af75-df99b690b2a9');\n",
              "          const dataTable =\n",
              "            await google.colab.kernel.invokeFunction('convertToInteractive',\n",
              "                                                     [key], {});\n",
              "          if (!dataTable) return;\n",
              "\n",
              "          const docLinkHtml = 'Like what you see? Visit the ' +\n",
              "            '<a target=\"_blank\" href=https://colab.research.google.com/notebooks/data_table.ipynb>data table notebook</a>'\n",
              "            + ' to learn more about interactive tables.';\n",
              "          element.innerHTML = '';\n",
              "          dataTable['output_type'] = 'display_data';\n",
              "          await google.colab.output.renderOutput(dataTable, element);\n",
              "          const docLink = document.createElement('div');\n",
              "          docLink.innerHTML = docLinkHtml;\n",
              "          element.appendChild(docLink);\n",
              "        }\n",
              "      </script>\n",
              "    </div>\n",
              "  </div>\n",
              "  "
            ]
          },
          "metadata": {},
          "execution_count": 87
        }
      ],
      "source": [
        "extracted_features_df=pd.DataFrame(extracted_features,columns=['feature'])\n",
        "extracted_features_df.head()\n"
      ]
    },
    {
      "cell_type": "code",
      "source": [
        "X=np.array(extracted_features_df['feature'].tolist())\n"
      ],
      "metadata": {
        "id": "c7kvQumWChzV"
      },
      "execution_count": null,
      "outputs": []
    },
    {
      "cell_type": "code",
      "source": [
        "X.shape"
      ],
      "metadata": {
        "colab": {
          "base_uri": "https://localhost:8080/"
        },
        "id": "fdqNIvLBClEE",
        "outputId": "a52e1723-224a-48d5-b030-4070edf82148"
      },
      "execution_count": null,
      "outputs": [
        {
          "output_type": "execute_result",
          "data": {
            "text/plain": [
              "(1455, 40, 150)"
            ]
          },
          "metadata": {},
          "execution_count": 89
        }
      ]
    },
    {
      "cell_type": "code",
      "source": [
        "X = X.reshape(1455,40,150,1)"
      ],
      "metadata": {
        "id": "7qD7B1_KCr8s"
      },
      "execution_count": null,
      "outputs": []
    },
    {
      "cell_type": "code",
      "source": [
        "predictions = model.predict(X)"
      ],
      "metadata": {
        "colab": {
          "base_uri": "https://localhost:8080/"
        },
        "id": "HGlpBzniCvVc",
        "outputId": "2fcc5d28-91db-4943-ccaf-b8693dd65d85"
      },
      "execution_count": null,
      "outputs": [
        {
          "output_type": "stream",
          "name": "stdout",
          "text": [
            "46/46 [==============================] - 2s 39ms/step\n"
          ]
        }
      ]
    },
    {
      "cell_type": "code",
      "source": [
        "\n",
        "keeper[:5]"
      ],
      "metadata": {
        "colab": {
          "base_uri": "https://localhost:8080/"
        },
        "id": "pQ25-mYUC3Af",
        "outputId": "174bba11-d47d-4230-e81f-1178dc761c05"
      },
      "execution_count": null,
      "outputs": [
        {
          "output_type": "execute_result",
          "data": {
            "text/plain": [
              "array([[1.3777605e-01, 1.0802567e-03, 1.7808184e-02, 2.5666850e-03,\n",
              "        8.2379222e-01, 3.9539309e-03, 1.3022625e-02],\n",
              "       [5.7830317e-11, 8.2350217e-11, 4.8076248e-15, 7.1415633e-01,\n",
              "        2.3007053e-10, 2.8584364e-01, 1.2221391e-08],\n",
              "       [1.2644914e-06, 2.1883264e-09, 1.3596197e-05, 6.0382355e-03,\n",
              "        3.2835435e-06, 9.9200737e-01, 1.9362353e-03],\n",
              "       [3.7030749e-02, 6.5080345e-02, 1.5073991e-01, 2.7981726e-02,\n",
              "        3.4908926e-01, 1.6337080e-02, 3.5374099e-01],\n",
              "       [1.0561818e-05, 4.2278715e-03, 2.3700539e-05, 1.4527120e-04,\n",
              "        9.9397588e-01, 1.1466024e-05, 1.6052715e-03]], dtype=float32)"
            ]
          },
          "metadata": {},
          "execution_count": 108
        }
      ]
    },
    {
      "cell_type": "code",
      "source": [
        "predictions = np.argmax(keeper, axis=-1)\n",
        "predictions[:25]"
      ],
      "metadata": {
        "colab": {
          "base_uri": "https://localhost:8080/"
        },
        "id": "1SjbDfebILoc",
        "outputId": "e1df9ad8-ccce-40cb-e13b-84313d06aa02"
      },
      "execution_count": null,
      "outputs": [
        {
          "output_type": "execute_result",
          "data": {
            "text/plain": [
              "array([4, 3, 5, 6, 4, 5, 6, 2, 3, 2, 3, 3, 2, 4, 3, 2, 1, 3, 4, 1, 1, 4,\n",
              "       6, 4, 4])"
            ]
          },
          "metadata": {},
          "execution_count": 109
        }
      ]
    },
    {
      "cell_type": "code",
      "source": [
        "\n",
        "predicted_classes = labelencoder.inverse_transform(predictions)\n"
      ],
      "metadata": {
        "id": "MkzwAtvCE3xP"
      },
      "execution_count": null,
      "outputs": []
    },
    {
      "cell_type": "code",
      "source": [
        "predicted_classes"
      ],
      "metadata": {
        "colab": {
          "base_uri": "https://localhost:8080/"
        },
        "id": "8TlBnmptJhvD",
        "outputId": "96e487b2-b01a-46f2-cb49-e6c87a360008"
      },
      "execution_count": null,
      "outputs": [
        {
          "output_type": "execute_result",
          "data": {
            "text/plain": [
              "array(['decrease volume', 'decrease heat', 'increase heat', ...,\n",
              "       'increase heat', 'decrease heat', 'activate music'], dtype='<U20')"
            ]
          },
          "metadata": {},
          "execution_count": 113
        }
      ]
    },
    {
      "cell_type": "code",
      "source": [
        " id = np.arange(0, len(finalEval)-1)"
      ],
      "metadata": {
        "id": "9zbYrjZ9MBXj"
      },
      "execution_count": null,
      "outputs": []
    },
    {
      "cell_type": "code",
      "source": [
        "finalEval= pd.DataFrame(predicted_classes)\n"
      ],
      "metadata": {
        "id": "vR8fF3NTK7yd"
      },
      "execution_count": null,
      "outputs": []
    },
    {
      "cell_type": "code",
      "source": [],
      "metadata": {
        "colab": {
          "base_uri": "https://localhost:8080/"
        },
        "id": "xjb0t0p0LqPU",
        "outputId": "4d7add5a-2089-4c47-a5d7-0b25c15fe97e"
      },
      "execution_count": null,
      "outputs": [
        {
          "output_type": "execute_result",
          "data": {
            "text/plain": [
              "array([   0,    1,    2, ..., 1452, 1453, 1454])"
            ]
          },
          "metadata": {},
          "execution_count": 117
        }
      ]
    },
    {
      "cell_type": "code",
      "source": [
        "finalEval.to_csv(\"finalEval.csv\", columns = [\"Id\", \"Predicted\"])"
      ],
      "metadata": {
        "colab": {
          "base_uri": "https://localhost:8080/",
          "height": 311
        },
        "id": "67gbRsMZLU2O",
        "outputId": "ab81a672-75e4-4674-db37-e54abecd7a79"
      },
      "execution_count": null,
      "outputs": [
        {
          "output_type": "error",
          "ename": "KeyError",
          "evalue": "ignored",
          "traceback": [
            "\u001b[0;31m---------------------------------------------------------------------------\u001b[0m",
            "\u001b[0;31mKeyError\u001b[0m                                  Traceback (most recent call last)",
            "\u001b[0;32m<ipython-input-116-81704bd52a44>\u001b[0m in \u001b[0;36m<module>\u001b[0;34m\u001b[0m\n\u001b[0;32m----> 1\u001b[0;31m \u001b[0mfinalEval\u001b[0m\u001b[0;34m.\u001b[0m\u001b[0mto_csv\u001b[0m\u001b[0;34m(\u001b[0m\u001b[0;34m\"finalEval.csv\"\u001b[0m\u001b[0;34m,\u001b[0m \u001b[0mcolumns\u001b[0m \u001b[0;34m=\u001b[0m \u001b[0;34m[\u001b[0m\u001b[0;34m\"Id\"\u001b[0m\u001b[0;34m,\u001b[0m \u001b[0;34m\"Predicted\"\u001b[0m\u001b[0;34m]\u001b[0m\u001b[0;34m)\u001b[0m\u001b[0;34m\u001b[0m\u001b[0;34m\u001b[0m\u001b[0m\n\u001b[0m",
            "\u001b[0;32m/usr/local/lib/python3.8/dist-packages/pandas/core/generic.py\u001b[0m in \u001b[0;36mto_csv\u001b[0;34m(self, path_or_buf, sep, na_rep, float_format, columns, header, index, index_label, mode, encoding, compression, quoting, quotechar, line_terminator, chunksize, date_format, doublequote, escapechar, decimal, errors, storage_options)\u001b[0m\n\u001b[1;32m   3464\u001b[0m         )\n\u001b[1;32m   3465\u001b[0m \u001b[0;34m\u001b[0m\u001b[0m\n\u001b[0;32m-> 3466\u001b[0;31m         return DataFrameRenderer(formatter).to_csv(\n\u001b[0m\u001b[1;32m   3467\u001b[0m             \u001b[0mpath_or_buf\u001b[0m\u001b[0;34m,\u001b[0m\u001b[0;34m\u001b[0m\u001b[0;34m\u001b[0m\u001b[0m\n\u001b[1;32m   3468\u001b[0m             \u001b[0mline_terminator\u001b[0m\u001b[0;34m=\u001b[0m\u001b[0mline_terminator\u001b[0m\u001b[0;34m,\u001b[0m\u001b[0;34m\u001b[0m\u001b[0;34m\u001b[0m\u001b[0m\n",
            "\u001b[0;32m/usr/local/lib/python3.8/dist-packages/pandas/io/formats/format.py\u001b[0m in \u001b[0;36mto_csv\u001b[0;34m(self, path_or_buf, encoding, sep, columns, index_label, mode, compression, quoting, quotechar, line_terminator, chunksize, date_format, doublequote, escapechar, errors, storage_options)\u001b[0m\n\u001b[1;32m   1084\u001b[0m             \u001b[0mcreated_buffer\u001b[0m \u001b[0;34m=\u001b[0m \u001b[0;32mFalse\u001b[0m\u001b[0;34m\u001b[0m\u001b[0;34m\u001b[0m\u001b[0m\n\u001b[1;32m   1085\u001b[0m \u001b[0;34m\u001b[0m\u001b[0m\n\u001b[0;32m-> 1086\u001b[0;31m         csv_formatter = CSVFormatter(\n\u001b[0m\u001b[1;32m   1087\u001b[0m             \u001b[0mpath_or_buf\u001b[0m\u001b[0;34m=\u001b[0m\u001b[0mpath_or_buf\u001b[0m\u001b[0;34m,\u001b[0m\u001b[0;34m\u001b[0m\u001b[0;34m\u001b[0m\u001b[0m\n\u001b[1;32m   1088\u001b[0m             \u001b[0mline_terminator\u001b[0m\u001b[0;34m=\u001b[0m\u001b[0mline_terminator\u001b[0m\u001b[0;34m,\u001b[0m\u001b[0;34m\u001b[0m\u001b[0;34m\u001b[0m\u001b[0m\n",
            "\u001b[0;32m/usr/local/lib/python3.8/dist-packages/pandas/io/formats/csvs.py\u001b[0m in \u001b[0;36m__init__\u001b[0;34m(self, formatter, path_or_buf, sep, cols, index_label, mode, encoding, errors, compression, quoting, line_terminator, chunksize, quotechar, date_format, doublequote, escapechar, storage_options)\u001b[0m\n\u001b[1;32m     85\u001b[0m         \u001b[0mself\u001b[0m\u001b[0;34m.\u001b[0m\u001b[0mline_terminator\u001b[0m \u001b[0;34m=\u001b[0m \u001b[0mline_terminator\u001b[0m \u001b[0;32mor\u001b[0m \u001b[0mos\u001b[0m\u001b[0;34m.\u001b[0m\u001b[0mlinesep\u001b[0m\u001b[0;34m\u001b[0m\u001b[0;34m\u001b[0m\u001b[0m\n\u001b[1;32m     86\u001b[0m         \u001b[0mself\u001b[0m\u001b[0;34m.\u001b[0m\u001b[0mdate_format\u001b[0m \u001b[0;34m=\u001b[0m \u001b[0mdate_format\u001b[0m\u001b[0;34m\u001b[0m\u001b[0;34m\u001b[0m\u001b[0m\n\u001b[0;32m---> 87\u001b[0;31m         \u001b[0mself\u001b[0m\u001b[0;34m.\u001b[0m\u001b[0mcols\u001b[0m \u001b[0;34m=\u001b[0m \u001b[0mself\u001b[0m\u001b[0;34m.\u001b[0m\u001b[0m_initialize_columns\u001b[0m\u001b[0;34m(\u001b[0m\u001b[0mcols\u001b[0m\u001b[0;34m)\u001b[0m\u001b[0;34m\u001b[0m\u001b[0;34m\u001b[0m\u001b[0m\n\u001b[0m\u001b[1;32m     88\u001b[0m         \u001b[0mself\u001b[0m\u001b[0;34m.\u001b[0m\u001b[0mchunksize\u001b[0m \u001b[0;34m=\u001b[0m \u001b[0mself\u001b[0m\u001b[0;34m.\u001b[0m\u001b[0m_initialize_chunksize\u001b[0m\u001b[0;34m(\u001b[0m\u001b[0mchunksize\u001b[0m\u001b[0;34m)\u001b[0m\u001b[0;34m\u001b[0m\u001b[0;34m\u001b[0m\u001b[0m\n\u001b[1;32m     89\u001b[0m \u001b[0;34m\u001b[0m\u001b[0m\n",
            "\u001b[0;32m/usr/local/lib/python3.8/dist-packages/pandas/io/formats/csvs.py\u001b[0m in \u001b[0;36m_initialize_columns\u001b[0;34m(self, cols)\u001b[0m\n\u001b[1;32m    152\u001b[0m             \u001b[0;32melse\u001b[0m\u001b[0;34m:\u001b[0m\u001b[0;34m\u001b[0m\u001b[0;34m\u001b[0m\u001b[0m\n\u001b[1;32m    153\u001b[0m                 \u001b[0mcols\u001b[0m \u001b[0;34m=\u001b[0m \u001b[0mlist\u001b[0m\u001b[0;34m(\u001b[0m\u001b[0mcols\u001b[0m\u001b[0;34m)\u001b[0m\u001b[0;34m\u001b[0m\u001b[0;34m\u001b[0m\u001b[0m\n\u001b[0;32m--> 154\u001b[0;31m             \u001b[0mself\u001b[0m\u001b[0;34m.\u001b[0m\u001b[0mobj\u001b[0m \u001b[0;34m=\u001b[0m \u001b[0mself\u001b[0m\u001b[0;34m.\u001b[0m\u001b[0mobj\u001b[0m\u001b[0;34m.\u001b[0m\u001b[0mloc\u001b[0m\u001b[0;34m[\u001b[0m\u001b[0;34m:\u001b[0m\u001b[0;34m,\u001b[0m \u001b[0mcols\u001b[0m\u001b[0;34m]\u001b[0m\u001b[0;34m\u001b[0m\u001b[0;34m\u001b[0m\u001b[0m\n\u001b[0m\u001b[1;32m    155\u001b[0m \u001b[0;34m\u001b[0m\u001b[0m\n\u001b[1;32m    156\u001b[0m         \u001b[0;31m# update columns to include possible multiplicity of dupes\u001b[0m\u001b[0;34m\u001b[0m\u001b[0;34m\u001b[0m\u001b[0;34m\u001b[0m\u001b[0m\n",
            "\u001b[0;32m/usr/local/lib/python3.8/dist-packages/pandas/core/indexing.py\u001b[0m in \u001b[0;36m__getitem__\u001b[0;34m(self, key)\u001b[0m\n\u001b[1;32m    923\u001b[0m                 \u001b[0;32mwith\u001b[0m \u001b[0msuppress\u001b[0m\u001b[0;34m(\u001b[0m\u001b[0mKeyError\u001b[0m\u001b[0;34m,\u001b[0m \u001b[0mIndexError\u001b[0m\u001b[0;34m)\u001b[0m\u001b[0;34m:\u001b[0m\u001b[0;34m\u001b[0m\u001b[0;34m\u001b[0m\u001b[0m\n\u001b[1;32m    924\u001b[0m                     \u001b[0;32mreturn\u001b[0m \u001b[0mself\u001b[0m\u001b[0;34m.\u001b[0m\u001b[0mobj\u001b[0m\u001b[0;34m.\u001b[0m\u001b[0m_get_value\u001b[0m\u001b[0;34m(\u001b[0m\u001b[0;34m*\u001b[0m\u001b[0mkey\u001b[0m\u001b[0;34m,\u001b[0m \u001b[0mtakeable\u001b[0m\u001b[0;34m=\u001b[0m\u001b[0mself\u001b[0m\u001b[0;34m.\u001b[0m\u001b[0m_takeable\u001b[0m\u001b[0;34m)\u001b[0m\u001b[0;34m\u001b[0m\u001b[0;34m\u001b[0m\u001b[0m\n\u001b[0;32m--> 925\u001b[0;31m             \u001b[0;32mreturn\u001b[0m \u001b[0mself\u001b[0m\u001b[0;34m.\u001b[0m\u001b[0m_getitem_tuple\u001b[0m\u001b[0;34m(\u001b[0m\u001b[0mkey\u001b[0m\u001b[0;34m)\u001b[0m\u001b[0;34m\u001b[0m\u001b[0;34m\u001b[0m\u001b[0m\n\u001b[0m\u001b[1;32m    926\u001b[0m         \u001b[0;32melse\u001b[0m\u001b[0;34m:\u001b[0m\u001b[0;34m\u001b[0m\u001b[0;34m\u001b[0m\u001b[0m\n\u001b[1;32m    927\u001b[0m             \u001b[0;31m# we by definition only have the 0th axis\u001b[0m\u001b[0;34m\u001b[0m\u001b[0;34m\u001b[0m\u001b[0;34m\u001b[0m\u001b[0m\n",
            "\u001b[0;32m/usr/local/lib/python3.8/dist-packages/pandas/core/indexing.py\u001b[0m in \u001b[0;36m_getitem_tuple\u001b[0;34m(self, tup)\u001b[0m\n\u001b[1;32m   1107\u001b[0m             \u001b[0;32mreturn\u001b[0m \u001b[0mself\u001b[0m\u001b[0;34m.\u001b[0m\u001b[0m_multi_take\u001b[0m\u001b[0;34m(\u001b[0m\u001b[0mtup\u001b[0m\u001b[0;34m)\u001b[0m\u001b[0;34m\u001b[0m\u001b[0;34m\u001b[0m\u001b[0m\n\u001b[1;32m   1108\u001b[0m \u001b[0;34m\u001b[0m\u001b[0m\n\u001b[0;32m-> 1109\u001b[0;31m         \u001b[0;32mreturn\u001b[0m \u001b[0mself\u001b[0m\u001b[0;34m.\u001b[0m\u001b[0m_getitem_tuple_same_dim\u001b[0m\u001b[0;34m(\u001b[0m\u001b[0mtup\u001b[0m\u001b[0;34m)\u001b[0m\u001b[0;34m\u001b[0m\u001b[0;34m\u001b[0m\u001b[0m\n\u001b[0m\u001b[1;32m   1110\u001b[0m \u001b[0;34m\u001b[0m\u001b[0m\n\u001b[1;32m   1111\u001b[0m     \u001b[0;32mdef\u001b[0m \u001b[0m_get_label\u001b[0m\u001b[0;34m(\u001b[0m\u001b[0mself\u001b[0m\u001b[0;34m,\u001b[0m \u001b[0mlabel\u001b[0m\u001b[0;34m,\u001b[0m \u001b[0maxis\u001b[0m\u001b[0;34m:\u001b[0m \u001b[0mint\u001b[0m\u001b[0;34m)\u001b[0m\u001b[0;34m:\u001b[0m\u001b[0;34m\u001b[0m\u001b[0;34m\u001b[0m\u001b[0m\n",
            "\u001b[0;32m/usr/local/lib/python3.8/dist-packages/pandas/core/indexing.py\u001b[0m in \u001b[0;36m_getitem_tuple_same_dim\u001b[0;34m(self, tup)\u001b[0m\n\u001b[1;32m    804\u001b[0m                 \u001b[0;32mcontinue\u001b[0m\u001b[0;34m\u001b[0m\u001b[0;34m\u001b[0m\u001b[0m\n\u001b[1;32m    805\u001b[0m \u001b[0;34m\u001b[0m\u001b[0m\n\u001b[0;32m--> 806\u001b[0;31m             \u001b[0mretval\u001b[0m \u001b[0;34m=\u001b[0m \u001b[0mgetattr\u001b[0m\u001b[0;34m(\u001b[0m\u001b[0mretval\u001b[0m\u001b[0;34m,\u001b[0m \u001b[0mself\u001b[0m\u001b[0;34m.\u001b[0m\u001b[0mname\u001b[0m\u001b[0;34m)\u001b[0m\u001b[0;34m.\u001b[0m\u001b[0m_getitem_axis\u001b[0m\u001b[0;34m(\u001b[0m\u001b[0mkey\u001b[0m\u001b[0;34m,\u001b[0m \u001b[0maxis\u001b[0m\u001b[0;34m=\u001b[0m\u001b[0mi\u001b[0m\u001b[0;34m)\u001b[0m\u001b[0;34m\u001b[0m\u001b[0;34m\u001b[0m\u001b[0m\n\u001b[0m\u001b[1;32m    807\u001b[0m             \u001b[0;31m# We should never have retval.ndim < self.ndim, as that should\u001b[0m\u001b[0;34m\u001b[0m\u001b[0;34m\u001b[0m\u001b[0;34m\u001b[0m\u001b[0m\n\u001b[1;32m    808\u001b[0m             \u001b[0;31m#  be handled by the _getitem_lowerdim call above.\u001b[0m\u001b[0;34m\u001b[0m\u001b[0;34m\u001b[0m\u001b[0;34m\u001b[0m\u001b[0m\n",
            "\u001b[0;32m/usr/local/lib/python3.8/dist-packages/pandas/core/indexing.py\u001b[0m in \u001b[0;36m_getitem_axis\u001b[0;34m(self, key, axis)\u001b[0m\n\u001b[1;32m   1151\u001b[0m                     \u001b[0;32mraise\u001b[0m \u001b[0mValueError\u001b[0m\u001b[0;34m(\u001b[0m\u001b[0;34m\"Cannot index with multidimensional key\"\u001b[0m\u001b[0;34m)\u001b[0m\u001b[0;34m\u001b[0m\u001b[0;34m\u001b[0m\u001b[0m\n\u001b[1;32m   1152\u001b[0m \u001b[0;34m\u001b[0m\u001b[0m\n\u001b[0;32m-> 1153\u001b[0;31m                 \u001b[0;32mreturn\u001b[0m \u001b[0mself\u001b[0m\u001b[0;34m.\u001b[0m\u001b[0m_getitem_iterable\u001b[0m\u001b[0;34m(\u001b[0m\u001b[0mkey\u001b[0m\u001b[0;34m,\u001b[0m \u001b[0maxis\u001b[0m\u001b[0;34m=\u001b[0m\u001b[0maxis\u001b[0m\u001b[0;34m)\u001b[0m\u001b[0;34m\u001b[0m\u001b[0;34m\u001b[0m\u001b[0m\n\u001b[0m\u001b[1;32m   1154\u001b[0m \u001b[0;34m\u001b[0m\u001b[0m\n\u001b[1;32m   1155\u001b[0m             \u001b[0;31m# nested tuple slicing\u001b[0m\u001b[0;34m\u001b[0m\u001b[0;34m\u001b[0m\u001b[0;34m\u001b[0m\u001b[0m\n",
            "\u001b[0;32m/usr/local/lib/python3.8/dist-packages/pandas/core/indexing.py\u001b[0m in \u001b[0;36m_getitem_iterable\u001b[0;34m(self, key, axis)\u001b[0m\n\u001b[1;32m   1091\u001b[0m \u001b[0;34m\u001b[0m\u001b[0m\n\u001b[1;32m   1092\u001b[0m         \u001b[0;31m# A collection of keys\u001b[0m\u001b[0;34m\u001b[0m\u001b[0;34m\u001b[0m\u001b[0;34m\u001b[0m\u001b[0m\n\u001b[0;32m-> 1093\u001b[0;31m         \u001b[0mkeyarr\u001b[0m\u001b[0;34m,\u001b[0m \u001b[0mindexer\u001b[0m \u001b[0;34m=\u001b[0m \u001b[0mself\u001b[0m\u001b[0;34m.\u001b[0m\u001b[0m_get_listlike_indexer\u001b[0m\u001b[0;34m(\u001b[0m\u001b[0mkey\u001b[0m\u001b[0;34m,\u001b[0m \u001b[0maxis\u001b[0m\u001b[0;34m)\u001b[0m\u001b[0;34m\u001b[0m\u001b[0;34m\u001b[0m\u001b[0m\n\u001b[0m\u001b[1;32m   1094\u001b[0m         return self.obj._reindex_with_indexers(\n\u001b[1;32m   1095\u001b[0m             \u001b[0;34m{\u001b[0m\u001b[0maxis\u001b[0m\u001b[0;34m:\u001b[0m \u001b[0;34m[\u001b[0m\u001b[0mkeyarr\u001b[0m\u001b[0;34m,\u001b[0m \u001b[0mindexer\u001b[0m\u001b[0;34m]\u001b[0m\u001b[0;34m}\u001b[0m\u001b[0;34m,\u001b[0m \u001b[0mcopy\u001b[0m\u001b[0;34m=\u001b[0m\u001b[0;32mTrue\u001b[0m\u001b[0;34m,\u001b[0m \u001b[0mallow_dups\u001b[0m\u001b[0;34m=\u001b[0m\u001b[0;32mTrue\u001b[0m\u001b[0;34m\u001b[0m\u001b[0;34m\u001b[0m\u001b[0m\n",
            "\u001b[0;32m/usr/local/lib/python3.8/dist-packages/pandas/core/indexing.py\u001b[0m in \u001b[0;36m_get_listlike_indexer\u001b[0;34m(self, key, axis)\u001b[0m\n\u001b[1;32m   1312\u001b[0m             \u001b[0mkeyarr\u001b[0m\u001b[0;34m,\u001b[0m \u001b[0mindexer\u001b[0m\u001b[0;34m,\u001b[0m \u001b[0mnew_indexer\u001b[0m \u001b[0;34m=\u001b[0m \u001b[0max\u001b[0m\u001b[0;34m.\u001b[0m\u001b[0m_reindex_non_unique\u001b[0m\u001b[0;34m(\u001b[0m\u001b[0mkeyarr\u001b[0m\u001b[0;34m)\u001b[0m\u001b[0;34m\u001b[0m\u001b[0;34m\u001b[0m\u001b[0m\n\u001b[1;32m   1313\u001b[0m \u001b[0;34m\u001b[0m\u001b[0m\n\u001b[0;32m-> 1314\u001b[0;31m         \u001b[0mself\u001b[0m\u001b[0;34m.\u001b[0m\u001b[0m_validate_read_indexer\u001b[0m\u001b[0;34m(\u001b[0m\u001b[0mkeyarr\u001b[0m\u001b[0;34m,\u001b[0m \u001b[0mindexer\u001b[0m\u001b[0;34m,\u001b[0m \u001b[0maxis\u001b[0m\u001b[0;34m)\u001b[0m\u001b[0;34m\u001b[0m\u001b[0;34m\u001b[0m\u001b[0m\n\u001b[0m\u001b[1;32m   1315\u001b[0m \u001b[0;34m\u001b[0m\u001b[0m\n\u001b[1;32m   1316\u001b[0m         if needs_i8_conversion(ax.dtype) or isinstance(\n",
            "\u001b[0;32m/usr/local/lib/python3.8/dist-packages/pandas/core/indexing.py\u001b[0m in \u001b[0;36m_validate_read_indexer\u001b[0;34m(self, key, indexer, axis)\u001b[0m\n\u001b[1;32m   1372\u001b[0m                 \u001b[0;32mif\u001b[0m \u001b[0muse_interval_msg\u001b[0m\u001b[0;34m:\u001b[0m\u001b[0;34m\u001b[0m\u001b[0;34m\u001b[0m\u001b[0m\n\u001b[1;32m   1373\u001b[0m                     \u001b[0mkey\u001b[0m \u001b[0;34m=\u001b[0m \u001b[0mlist\u001b[0m\u001b[0;34m(\u001b[0m\u001b[0mkey\u001b[0m\u001b[0;34m)\u001b[0m\u001b[0;34m\u001b[0m\u001b[0;34m\u001b[0m\u001b[0m\n\u001b[0;32m-> 1374\u001b[0;31m                 \u001b[0;32mraise\u001b[0m \u001b[0mKeyError\u001b[0m\u001b[0;34m(\u001b[0m\u001b[0;34mf\"None of [{key}] are in the [{axis_name}]\"\u001b[0m\u001b[0;34m)\u001b[0m\u001b[0;34m\u001b[0m\u001b[0;34m\u001b[0m\u001b[0m\n\u001b[0m\u001b[1;32m   1375\u001b[0m \u001b[0;34m\u001b[0m\u001b[0m\n\u001b[1;32m   1376\u001b[0m             \u001b[0mnot_found\u001b[0m \u001b[0;34m=\u001b[0m \u001b[0mlist\u001b[0m\u001b[0;34m(\u001b[0m\u001b[0mensure_index\u001b[0m\u001b[0;34m(\u001b[0m\u001b[0mkey\u001b[0m\u001b[0;34m)\u001b[0m\u001b[0;34m[\u001b[0m\u001b[0mmissing_mask\u001b[0m\u001b[0;34m.\u001b[0m\u001b[0mnonzero\u001b[0m\u001b[0;34m(\u001b[0m\u001b[0;34m)\u001b[0m\u001b[0;34m[\u001b[0m\u001b[0;36m0\u001b[0m\u001b[0;34m]\u001b[0m\u001b[0;34m]\u001b[0m\u001b[0;34m.\u001b[0m\u001b[0munique\u001b[0m\u001b[0;34m(\u001b[0m\u001b[0;34m)\u001b[0m\u001b[0;34m)\u001b[0m\u001b[0;34m\u001b[0m\u001b[0;34m\u001b[0m\u001b[0m\n",
            "\u001b[0;31mKeyError\u001b[0m: \"None of [Index(['Id', 'Predicted'], dtype='object')] are in the [columns]\""
          ]
        }
      ]
    },
    {
      "cell_type": "code",
      "source": [],
      "metadata": {
        "id": "0ZkhZpnTMObK"
      },
      "execution_count": null,
      "outputs": []
    },
    {
      "cell_type": "code",
      "source": [
        "df = pd.DataFrame([x for x in range(len(predicted_classes))], columns=['Id'])\n",
        "df.head()"
      ],
      "metadata": {
        "colab": {
          "base_uri": "https://localhost:8080/",
          "height": 206
        },
        "id": "ej0zRAwRMOeB",
        "outputId": "73e6d0df-4518-434c-855a-5b426978540e"
      },
      "execution_count": null,
      "outputs": [
        {
          "output_type": "execute_result",
          "data": {
            "text/plain": [
              "   Id\n",
              "0   0\n",
              "1   1\n",
              "2   2\n",
              "3   3\n",
              "4   4"
            ],
            "text/html": [
              "\n",
              "  <div id=\"df-b11aa75e-4799-4ab7-8157-059bf39f6fcd\">\n",
              "    <div class=\"colab-df-container\">\n",
              "      <div>\n",
              "<style scoped>\n",
              "    .dataframe tbody tr th:only-of-type {\n",
              "        vertical-align: middle;\n",
              "    }\n",
              "\n",
              "    .dataframe tbody tr th {\n",
              "        vertical-align: top;\n",
              "    }\n",
              "\n",
              "    .dataframe thead th {\n",
              "        text-align: right;\n",
              "    }\n",
              "</style>\n",
              "<table border=\"1\" class=\"dataframe\">\n",
              "  <thead>\n",
              "    <tr style=\"text-align: right;\">\n",
              "      <th></th>\n",
              "      <th>Id</th>\n",
              "    </tr>\n",
              "  </thead>\n",
              "  <tbody>\n",
              "    <tr>\n",
              "      <th>0</th>\n",
              "      <td>0</td>\n",
              "    </tr>\n",
              "    <tr>\n",
              "      <th>1</th>\n",
              "      <td>1</td>\n",
              "    </tr>\n",
              "    <tr>\n",
              "      <th>2</th>\n",
              "      <td>2</td>\n",
              "    </tr>\n",
              "    <tr>\n",
              "      <th>3</th>\n",
              "      <td>3</td>\n",
              "    </tr>\n",
              "    <tr>\n",
              "      <th>4</th>\n",
              "      <td>4</td>\n",
              "    </tr>\n",
              "  </tbody>\n",
              "</table>\n",
              "</div>\n",
              "      <button class=\"colab-df-convert\" onclick=\"convertToInteractive('df-b11aa75e-4799-4ab7-8157-059bf39f6fcd')\"\n",
              "              title=\"Convert this dataframe to an interactive table.\"\n",
              "              style=\"display:none;\">\n",
              "        \n",
              "  <svg xmlns=\"http://www.w3.org/2000/svg\" height=\"24px\"viewBox=\"0 0 24 24\"\n",
              "       width=\"24px\">\n",
              "    <path d=\"M0 0h24v24H0V0z\" fill=\"none\"/>\n",
              "    <path d=\"M18.56 5.44l.94 2.06.94-2.06 2.06-.94-2.06-.94-.94-2.06-.94 2.06-2.06.94zm-11 1L8.5 8.5l.94-2.06 2.06-.94-2.06-.94L8.5 2.5l-.94 2.06-2.06.94zm10 10l.94 2.06.94-2.06 2.06-.94-2.06-.94-.94-2.06-.94 2.06-2.06.94z\"/><path d=\"M17.41 7.96l-1.37-1.37c-.4-.4-.92-.59-1.43-.59-.52 0-1.04.2-1.43.59L10.3 9.45l-7.72 7.72c-.78.78-.78 2.05 0 2.83L4 21.41c.39.39.9.59 1.41.59.51 0 1.02-.2 1.41-.59l7.78-7.78 2.81-2.81c.8-.78.8-2.07 0-2.86zM5.41 20L4 18.59l7.72-7.72 1.47 1.35L5.41 20z\"/>\n",
              "  </svg>\n",
              "      </button>\n",
              "      \n",
              "  <style>\n",
              "    .colab-df-container {\n",
              "      display:flex;\n",
              "      flex-wrap:wrap;\n",
              "      gap: 12px;\n",
              "    }\n",
              "\n",
              "    .colab-df-convert {\n",
              "      background-color: #E8F0FE;\n",
              "      border: none;\n",
              "      border-radius: 50%;\n",
              "      cursor: pointer;\n",
              "      display: none;\n",
              "      fill: #1967D2;\n",
              "      height: 32px;\n",
              "      padding: 0 0 0 0;\n",
              "      width: 32px;\n",
              "    }\n",
              "\n",
              "    .colab-df-convert:hover {\n",
              "      background-color: #E2EBFA;\n",
              "      box-shadow: 0px 1px 2px rgba(60, 64, 67, 0.3), 0px 1px 3px 1px rgba(60, 64, 67, 0.15);\n",
              "      fill: #174EA6;\n",
              "    }\n",
              "\n",
              "    [theme=dark] .colab-df-convert {\n",
              "      background-color: #3B4455;\n",
              "      fill: #D2E3FC;\n",
              "    }\n",
              "\n",
              "    [theme=dark] .colab-df-convert:hover {\n",
              "      background-color: #434B5C;\n",
              "      box-shadow: 0px 1px 3px 1px rgba(0, 0, 0, 0.15);\n",
              "      filter: drop-shadow(0px 1px 2px rgba(0, 0, 0, 0.3));\n",
              "      fill: #FFFFFF;\n",
              "    }\n",
              "  </style>\n",
              "\n",
              "      <script>\n",
              "        const buttonEl =\n",
              "          document.querySelector('#df-b11aa75e-4799-4ab7-8157-059bf39f6fcd button.colab-df-convert');\n",
              "        buttonEl.style.display =\n",
              "          google.colab.kernel.accessAllowed ? 'block' : 'none';\n",
              "\n",
              "        async function convertToInteractive(key) {\n",
              "          const element = document.querySelector('#df-b11aa75e-4799-4ab7-8157-059bf39f6fcd');\n",
              "          const dataTable =\n",
              "            await google.colab.kernel.invokeFunction('convertToInteractive',\n",
              "                                                     [key], {});\n",
              "          if (!dataTable) return;\n",
              "\n",
              "          const docLinkHtml = 'Like what you see? Visit the ' +\n",
              "            '<a target=\"_blank\" href=https://colab.research.google.com/notebooks/data_table.ipynb>data table notebook</a>'\n",
              "            + ' to learn more about interactive tables.';\n",
              "          element.innerHTML = '';\n",
              "          dataTable['output_type'] = 'display_data';\n",
              "          await google.colab.output.renderOutput(dataTable, element);\n",
              "          const docLink = document.createElement('div');\n",
              "          docLink.innerHTML = docLinkHtml;\n",
              "          element.appendChild(docLink);\n",
              "        }\n",
              "      </script>\n",
              "    </div>\n",
              "  </div>\n",
              "  "
            ]
          },
          "metadata": {},
          "execution_count": 119
        }
      ]
    },
    {
      "cell_type": "code",
      "source": [
        "df['Predicted'] = predicted_classes\n",
        "df.head()"
      ],
      "metadata": {
        "colab": {
          "base_uri": "https://localhost:8080/",
          "height": 206
        },
        "id": "HOjKLYwpMcL8",
        "outputId": "29174d16-8aac-4e5a-8389-1c4784270829"
      },
      "execution_count": null,
      "outputs": [
        {
          "output_type": "execute_result",
          "data": {
            "text/plain": [
              "   Id        Predicted\n",
              "0   0  decrease volume\n",
              "1   1    decrease heat\n",
              "2   2    increase heat\n",
              "3   3  increase volume\n",
              "4   4  decrease volume"
            ],
            "text/html": [
              "\n",
              "  <div id=\"df-7c7a0147-766b-4f2d-84b4-a6e54c2578d2\">\n",
              "    <div class=\"colab-df-container\">\n",
              "      <div>\n",
              "<style scoped>\n",
              "    .dataframe tbody tr th:only-of-type {\n",
              "        vertical-align: middle;\n",
              "    }\n",
              "\n",
              "    .dataframe tbody tr th {\n",
              "        vertical-align: top;\n",
              "    }\n",
              "\n",
              "    .dataframe thead th {\n",
              "        text-align: right;\n",
              "    }\n",
              "</style>\n",
              "<table border=\"1\" class=\"dataframe\">\n",
              "  <thead>\n",
              "    <tr style=\"text-align: right;\">\n",
              "      <th></th>\n",
              "      <th>Id</th>\n",
              "      <th>Predicted</th>\n",
              "    </tr>\n",
              "  </thead>\n",
              "  <tbody>\n",
              "    <tr>\n",
              "      <th>0</th>\n",
              "      <td>0</td>\n",
              "      <td>decrease volume</td>\n",
              "    </tr>\n",
              "    <tr>\n",
              "      <th>1</th>\n",
              "      <td>1</td>\n",
              "      <td>decrease heat</td>\n",
              "    </tr>\n",
              "    <tr>\n",
              "      <th>2</th>\n",
              "      <td>2</td>\n",
              "      <td>increase heat</td>\n",
              "    </tr>\n",
              "    <tr>\n",
              "      <th>3</th>\n",
              "      <td>3</td>\n",
              "      <td>increase volume</td>\n",
              "    </tr>\n",
              "    <tr>\n",
              "      <th>4</th>\n",
              "      <td>4</td>\n",
              "      <td>decrease volume</td>\n",
              "    </tr>\n",
              "  </tbody>\n",
              "</table>\n",
              "</div>\n",
              "      <button class=\"colab-df-convert\" onclick=\"convertToInteractive('df-7c7a0147-766b-4f2d-84b4-a6e54c2578d2')\"\n",
              "              title=\"Convert this dataframe to an interactive table.\"\n",
              "              style=\"display:none;\">\n",
              "        \n",
              "  <svg xmlns=\"http://www.w3.org/2000/svg\" height=\"24px\"viewBox=\"0 0 24 24\"\n",
              "       width=\"24px\">\n",
              "    <path d=\"M0 0h24v24H0V0z\" fill=\"none\"/>\n",
              "    <path d=\"M18.56 5.44l.94 2.06.94-2.06 2.06-.94-2.06-.94-.94-2.06-.94 2.06-2.06.94zm-11 1L8.5 8.5l.94-2.06 2.06-.94-2.06-.94L8.5 2.5l-.94 2.06-2.06.94zm10 10l.94 2.06.94-2.06 2.06-.94-2.06-.94-.94-2.06-.94 2.06-2.06.94z\"/><path d=\"M17.41 7.96l-1.37-1.37c-.4-.4-.92-.59-1.43-.59-.52 0-1.04.2-1.43.59L10.3 9.45l-7.72 7.72c-.78.78-.78 2.05 0 2.83L4 21.41c.39.39.9.59 1.41.59.51 0 1.02-.2 1.41-.59l7.78-7.78 2.81-2.81c.8-.78.8-2.07 0-2.86zM5.41 20L4 18.59l7.72-7.72 1.47 1.35L5.41 20z\"/>\n",
              "  </svg>\n",
              "      </button>\n",
              "      \n",
              "  <style>\n",
              "    .colab-df-container {\n",
              "      display:flex;\n",
              "      flex-wrap:wrap;\n",
              "      gap: 12px;\n",
              "    }\n",
              "\n",
              "    .colab-df-convert {\n",
              "      background-color: #E8F0FE;\n",
              "      border: none;\n",
              "      border-radius: 50%;\n",
              "      cursor: pointer;\n",
              "      display: none;\n",
              "      fill: #1967D2;\n",
              "      height: 32px;\n",
              "      padding: 0 0 0 0;\n",
              "      width: 32px;\n",
              "    }\n",
              "\n",
              "    .colab-df-convert:hover {\n",
              "      background-color: #E2EBFA;\n",
              "      box-shadow: 0px 1px 2px rgba(60, 64, 67, 0.3), 0px 1px 3px 1px rgba(60, 64, 67, 0.15);\n",
              "      fill: #174EA6;\n",
              "    }\n",
              "\n",
              "    [theme=dark] .colab-df-convert {\n",
              "      background-color: #3B4455;\n",
              "      fill: #D2E3FC;\n",
              "    }\n",
              "\n",
              "    [theme=dark] .colab-df-convert:hover {\n",
              "      background-color: #434B5C;\n",
              "      box-shadow: 0px 1px 3px 1px rgba(0, 0, 0, 0.15);\n",
              "      filter: drop-shadow(0px 1px 2px rgba(0, 0, 0, 0.3));\n",
              "      fill: #FFFFFF;\n",
              "    }\n",
              "  </style>\n",
              "\n",
              "      <script>\n",
              "        const buttonEl =\n",
              "          document.querySelector('#df-7c7a0147-766b-4f2d-84b4-a6e54c2578d2 button.colab-df-convert');\n",
              "        buttonEl.style.display =\n",
              "          google.colab.kernel.accessAllowed ? 'block' : 'none';\n",
              "\n",
              "        async function convertToInteractive(key) {\n",
              "          const element = document.querySelector('#df-7c7a0147-766b-4f2d-84b4-a6e54c2578d2');\n",
              "          const dataTable =\n",
              "            await google.colab.kernel.invokeFunction('convertToInteractive',\n",
              "                                                     [key], {});\n",
              "          if (!dataTable) return;\n",
              "\n",
              "          const docLinkHtml = 'Like what you see? Visit the ' +\n",
              "            '<a target=\"_blank\" href=https://colab.research.google.com/notebooks/data_table.ipynb>data table notebook</a>'\n",
              "            + ' to learn more about interactive tables.';\n",
              "          element.innerHTML = '';\n",
              "          dataTable['output_type'] = 'display_data';\n",
              "          await google.colab.output.renderOutput(dataTable, element);\n",
              "          const docLink = document.createElement('div');\n",
              "          docLink.innerHTML = docLinkHtml;\n",
              "          element.appendChild(docLink);\n",
              "        }\n",
              "      </script>\n",
              "    </div>\n",
              "  </div>\n",
              "  "
            ]
          },
          "metadata": {},
          "execution_count": 120
        }
      ]
    },
    {
      "cell_type": "code",
      "source": [
        "# Python3 code to remove whitespace\n",
        "def remove(string):\n",
        "    return string.replace(\" \", \"\")\n",
        "     \n",
        "# Driver Program\n",
        "string = ' g e e k '\n",
        "print(remove(string))"
      ],
      "metadata": {
        "colab": {
          "base_uri": "https://localhost:8080/"
        },
        "id": "WT3QDjA4Mmcs",
        "outputId": "3247e67f-2a30-43ca-cfd3-1d74a7ae260d"
      },
      "execution_count": null,
      "outputs": [
        {
          "output_type": "stream",
          "name": "stdout",
          "text": [
            "geek\n"
          ]
        }
      ]
    },
    {
      "cell_type": "code",
      "source": [
        "def replace_space(string):\n",
        "\n",
        "  if string != 'changelanguagenone':\n",
        "    return string.replace(' ', '')\n",
        "  else:\n",
        "    return 'change languagenone'"
      ],
      "metadata": {
        "id": "4gJ_WzznOp_n"
      },
      "execution_count": null,
      "outputs": []
    },
    {
      "cell_type": "code",
      "source": [
        "df['Predicted'] = df.apply(lambda r: replace_space(r['Predicted']), axis=1)"
      ],
      "metadata": {
        "id": "qOQlZh4xPNcA"
      },
      "execution_count": null,
      "outputs": []
    },
    {
      "cell_type": "code",
      "source": [
        "df"
      ],
      "metadata": {
        "colab": {
          "base_uri": "https://localhost:8080/",
          "height": 423
        },
        "id": "b_n28-hdPkng",
        "outputId": "f73fab8d-828d-46cb-c269-1044b3bac74c"
      },
      "execution_count": null,
      "outputs": [
        {
          "output_type": "execute_result",
          "data": {
            "text/plain": [
              "        Id            Predicted\n",
              "0        0       decreasevolume\n",
              "1        1         decreaseheat\n",
              "2        2         increaseheat\n",
              "3        3       increasevolume\n",
              "4        4       decreasevolume\n",
              "...    ...                  ...\n",
              "1450  1450  change languagenone\n",
              "1451  1451       increasevolume\n",
              "1452  1452         increaseheat\n",
              "1453  1453         decreaseheat\n",
              "1454  1454        activatemusic\n",
              "\n",
              "[1455 rows x 2 columns]"
            ],
            "text/html": [
              "\n",
              "  <div id=\"df-f45bc0f0-70af-4edb-bc75-414acfb9523d\">\n",
              "    <div class=\"colab-df-container\">\n",
              "      <div>\n",
              "<style scoped>\n",
              "    .dataframe tbody tr th:only-of-type {\n",
              "        vertical-align: middle;\n",
              "    }\n",
              "\n",
              "    .dataframe tbody tr th {\n",
              "        vertical-align: top;\n",
              "    }\n",
              "\n",
              "    .dataframe thead th {\n",
              "        text-align: right;\n",
              "    }\n",
              "</style>\n",
              "<table border=\"1\" class=\"dataframe\">\n",
              "  <thead>\n",
              "    <tr style=\"text-align: right;\">\n",
              "      <th></th>\n",
              "      <th>Id</th>\n",
              "      <th>Predicted</th>\n",
              "    </tr>\n",
              "  </thead>\n",
              "  <tbody>\n",
              "    <tr>\n",
              "      <th>0</th>\n",
              "      <td>0</td>\n",
              "      <td>decreasevolume</td>\n",
              "    </tr>\n",
              "    <tr>\n",
              "      <th>1</th>\n",
              "      <td>1</td>\n",
              "      <td>decreaseheat</td>\n",
              "    </tr>\n",
              "    <tr>\n",
              "      <th>2</th>\n",
              "      <td>2</td>\n",
              "      <td>increaseheat</td>\n",
              "    </tr>\n",
              "    <tr>\n",
              "      <th>3</th>\n",
              "      <td>3</td>\n",
              "      <td>increasevolume</td>\n",
              "    </tr>\n",
              "    <tr>\n",
              "      <th>4</th>\n",
              "      <td>4</td>\n",
              "      <td>decreasevolume</td>\n",
              "    </tr>\n",
              "    <tr>\n",
              "      <th>...</th>\n",
              "      <td>...</td>\n",
              "      <td>...</td>\n",
              "    </tr>\n",
              "    <tr>\n",
              "      <th>1450</th>\n",
              "      <td>1450</td>\n",
              "      <td>change languagenone</td>\n",
              "    </tr>\n",
              "    <tr>\n",
              "      <th>1451</th>\n",
              "      <td>1451</td>\n",
              "      <td>increasevolume</td>\n",
              "    </tr>\n",
              "    <tr>\n",
              "      <th>1452</th>\n",
              "      <td>1452</td>\n",
              "      <td>increaseheat</td>\n",
              "    </tr>\n",
              "    <tr>\n",
              "      <th>1453</th>\n",
              "      <td>1453</td>\n",
              "      <td>decreaseheat</td>\n",
              "    </tr>\n",
              "    <tr>\n",
              "      <th>1454</th>\n",
              "      <td>1454</td>\n",
              "      <td>activatemusic</td>\n",
              "    </tr>\n",
              "  </tbody>\n",
              "</table>\n",
              "<p>1455 rows × 2 columns</p>\n",
              "</div>\n",
              "      <button class=\"colab-df-convert\" onclick=\"convertToInteractive('df-f45bc0f0-70af-4edb-bc75-414acfb9523d')\"\n",
              "              title=\"Convert this dataframe to an interactive table.\"\n",
              "              style=\"display:none;\">\n",
              "        \n",
              "  <svg xmlns=\"http://www.w3.org/2000/svg\" height=\"24px\"viewBox=\"0 0 24 24\"\n",
              "       width=\"24px\">\n",
              "    <path d=\"M0 0h24v24H0V0z\" fill=\"none\"/>\n",
              "    <path d=\"M18.56 5.44l.94 2.06.94-2.06 2.06-.94-2.06-.94-.94-2.06-.94 2.06-2.06.94zm-11 1L8.5 8.5l.94-2.06 2.06-.94-2.06-.94L8.5 2.5l-.94 2.06-2.06.94zm10 10l.94 2.06.94-2.06 2.06-.94-2.06-.94-.94-2.06-.94 2.06-2.06.94z\"/><path d=\"M17.41 7.96l-1.37-1.37c-.4-.4-.92-.59-1.43-.59-.52 0-1.04.2-1.43.59L10.3 9.45l-7.72 7.72c-.78.78-.78 2.05 0 2.83L4 21.41c.39.39.9.59 1.41.59.51 0 1.02-.2 1.41-.59l7.78-7.78 2.81-2.81c.8-.78.8-2.07 0-2.86zM5.41 20L4 18.59l7.72-7.72 1.47 1.35L5.41 20z\"/>\n",
              "  </svg>\n",
              "      </button>\n",
              "      \n",
              "  <style>\n",
              "    .colab-df-container {\n",
              "      display:flex;\n",
              "      flex-wrap:wrap;\n",
              "      gap: 12px;\n",
              "    }\n",
              "\n",
              "    .colab-df-convert {\n",
              "      background-color: #E8F0FE;\n",
              "      border: none;\n",
              "      border-radius: 50%;\n",
              "      cursor: pointer;\n",
              "      display: none;\n",
              "      fill: #1967D2;\n",
              "      height: 32px;\n",
              "      padding: 0 0 0 0;\n",
              "      width: 32px;\n",
              "    }\n",
              "\n",
              "    .colab-df-convert:hover {\n",
              "      background-color: #E2EBFA;\n",
              "      box-shadow: 0px 1px 2px rgba(60, 64, 67, 0.3), 0px 1px 3px 1px rgba(60, 64, 67, 0.15);\n",
              "      fill: #174EA6;\n",
              "    }\n",
              "\n",
              "    [theme=dark] .colab-df-convert {\n",
              "      background-color: #3B4455;\n",
              "      fill: #D2E3FC;\n",
              "    }\n",
              "\n",
              "    [theme=dark] .colab-df-convert:hover {\n",
              "      background-color: #434B5C;\n",
              "      box-shadow: 0px 1px 3px 1px rgba(0, 0, 0, 0.15);\n",
              "      filter: drop-shadow(0px 1px 2px rgba(0, 0, 0, 0.3));\n",
              "      fill: #FFFFFF;\n",
              "    }\n",
              "  </style>\n",
              "\n",
              "      <script>\n",
              "        const buttonEl =\n",
              "          document.querySelector('#df-f45bc0f0-70af-4edb-bc75-414acfb9523d button.colab-df-convert');\n",
              "        buttonEl.style.display =\n",
              "          google.colab.kernel.accessAllowed ? 'block' : 'none';\n",
              "\n",
              "        async function convertToInteractive(key) {\n",
              "          const element = document.querySelector('#df-f45bc0f0-70af-4edb-bc75-414acfb9523d');\n",
              "          const dataTable =\n",
              "            await google.colab.kernel.invokeFunction('convertToInteractive',\n",
              "                                                     [key], {});\n",
              "          if (!dataTable) return;\n",
              "\n",
              "          const docLinkHtml = 'Like what you see? Visit the ' +\n",
              "            '<a target=\"_blank\" href=https://colab.research.google.com/notebooks/data_table.ipynb>data table notebook</a>'\n",
              "            + ' to learn more about interactive tables.';\n",
              "          element.innerHTML = '';\n",
              "          dataTable['output_type'] = 'display_data';\n",
              "          await google.colab.output.renderOutput(dataTable, element);\n",
              "          const docLink = document.createElement('div');\n",
              "          docLink.innerHTML = docLinkHtml;\n",
              "          element.appendChild(docLink);\n",
              "        }\n",
              "      </script>\n",
              "    </div>\n",
              "  </div>\n",
              "  "
            ]
          },
          "metadata": {},
          "execution_count": 132
        }
      ]
    },
    {
      "cell_type": "code",
      "source": [
        "df.to_csv('final.csv', index=False)"
      ],
      "metadata": {
        "id": "FJVOToU3PxY0"
      },
      "execution_count": null,
      "outputs": []
    },
    {
      "cell_type": "code",
      "source": [],
      "metadata": {
        "id": "HF02Opl6QJjU"
      },
      "execution_count": null,
      "outputs": []
    }
  ],
  "metadata": {
    "accelerator": "TPU",
    "colab": {
      "provenance": [],
      "authorship_tag": "ABX9TyNEXO4gaOJdWWr56X4gkzSg",
      "include_colab_link": true
    },
    "gpuClass": "standard",
    "kernelspec": {
      "display_name": "Python 3",
      "name": "python3"
    },
    "language_info": {
      "name": "python"
    }
  },
  "nbformat": 4,
  "nbformat_minor": 0
}