{
  "nbformat": 4,
  "nbformat_minor": 0,
  "metadata": {
    "colab": {
      "provenance": [],
      "authorship_tag": "ABX9TyPf5G6SfdcziBlRg4/fJFYX",
      "include_colab_link": true
    },
    "kernelspec": {
      "name": "python3",
      "display_name": "Python 3"
    },
    "language_info": {
      "name": "python"
    }
  },
  "cells": [
    {
      "cell_type": "markdown",
      "metadata": {
        "id": "view-in-github",
        "colab_type": "text"
      },
      "source": [
        "<a href=\"https://colab.research.google.com/github/HOSSENkhodadadi/Data_Science_Labs_Process_Methods/blob/main/Exercises/Matplotlib_C.ipynb\" target=\"_parent\"><img src=\"https://colab.research.google.com/assets/colab-badge.svg\" alt=\"Open In Colab\"/></a>"
      ]
    },
    {
      "cell_type": "code",
      "execution_count": 1,
      "metadata": {
        "colab": {
          "base_uri": "https://localhost:8080/",
          "height": 215
        },
        "id": "TG9e-6he9KdH",
        "outputId": "12c43761-7432-459f-c02f-6217878a1440"
      },
      "outputs": [
        {
          "output_type": "display_data",
          "data": {
            "text/plain": [
              "<Figure size 360x216 with 1 Axes>"
            ],
            "image/png": "[encoded data removed]"
          },
          "metadata": {
            "needs_background": "light"
          }
        }
      ],
      "source": [
        "# figsize specifies the width and height of the plot in inches\n",
        "import matplotlib.pyplot as plt\n",
        "fig, ax = plt.subplots(figsize = (5,3))\n",
        "plt.show()"
      ]
    },
    {
      "cell_type": "code",
      "source": [
        "fig, ax = plt.subplots(figsize = (3,2))\n",
        "ax.plot([0,1,2],[2,4,6])\n",
        "ax.plot([0,1,2],[3,6,9])\n",
        "plt.show()\n"
      ],
      "metadata": {
        "colab": {
          "base_uri": "https://localhost:8080/",
          "height": 157
        },
        "id": "KznVU5LY97BS",
        "outputId": "5e92cecd-0e17-4480-835b-36e12c401fe0"
      },
      "execution_count": 9,
      "outputs": [
        {
          "output_type": "display_data",
          "data": {
            "text/plain": [
              "<Figure size 216x144 with 1 Axes>"
            ],
            "image/png": "[encoded data removed]"
          },
          "metadata": {
            "needs_background": "light"
          }
        }
      ]
    },
    {
      "cell_type": "code",
      "source": [
        "fig, ax = plt.subplots(2,3, figsize = (5,3))\n",
        "plt.tight_layout()\n",
        "plt.show()\n"
      ],
      "metadata": {
        "colab": {
          "base_uri": "https://localhost:8080/",
          "height": 225
        },
        "id": "UH1_NKlb--ba",
        "outputId": "780dd24b-959f-484a-e150-765b9e225c73"
      },
      "execution_count": 11,
      "outputs": [
        {
          "output_type": "display_data",
          "data": {
            "text/plain": [
              "<Figure size 360x216 with 6 Axes>"
            ],
            "image/png": "[encoded data removed]"
          },
          "metadata": {
            "needs_background": "light"
          }
        }
      ]
    },
    {
      "cell_type": "code",
      "source": [
        "fig, ax = plt.subplots(1,2, figsize = (3,2))\n",
        "ax[0].plot([0,1,2],[2,4,6])\n",
        "ax[1].plot([0,1,2],[3,15,9])\n",
        "plt.tight_layout()\n",
        "plt.show()\n",
        "\n"
      ],
      "metadata": {
        "colab": {
          "base_uri": "https://localhost:8080/",
          "height": 153
        },
        "id": "MOJXbaNU_VXb",
        "outputId": "cbd5d127-443f-4699-d132-2fffa864abcb"
      },
      "execution_count": 22,
      "outputs": [
        {
          "output_type": "display_data",
          "data": {
            "text/plain": [
              "<Figure size 216x144 with 2 Axes>"
            ],
            "image/png": "[encoded data removed]"
          },
          "metadata": {
            "needs_background": "light"
          }
        }
      ]
    },
    {
      "cell_type": "code",
      "source": [
        "fig, ax = plt.subplots(2,2, figsize = (2,2))\n",
        "ax[0,0].plot([0,1,2], [2,4,6])\n",
        "ax[1,1].plot([0,1,2], [3,2,9])\n",
        "plt.tight_layout()\n",
        "plt.show()"
      ],
      "metadata": {
        "colab": {
          "base_uri": "https://localhost:8080/",
          "height": 153
        },
        "id": "BFmOWh75GLmH",
        "outputId": "05774905-54fa-443e-abd9-7c7ef23318a6"
      },
      "execution_count": 30,
      "outputs": [
        {
          "output_type": "display_data",
          "data": {
            "text/plain": [
              "<Figure size 144x144 with 4 Axes>"
            ],
            "image/png": "[encoded data removed]"
          },
          "metadata": {
            "needs_background": "light"
          }
        }
      ]
    },
    {
      "cell_type": "code",
      "source": [
        "#The ax object is a Numpy array with the created Axes objects\n",
        "#It has shape = (n, ) if the figure has 1 row and n columns"
      ],
      "metadata": {
        "id": "quTo2XIgFtOY"
      },
      "execution_count": null,
      "outputs": []
    },
    {
      "cell_type": "code",
      "source": [
        "# Line plot: sequnce sharing the same propery\n",
        "import numpy as np\n",
        "x = np.linspace (0,5,20)\n",
        "y = np.exp(x)\n",
        "z = np.log(x)\n",
        "fig, ax = plt.subplots(figsize = (5,5))\n",
        "ax.plot(x, y, c = 'red', linestyle = '', marker = \"*\")\n",
        "ax.plot(x, 2*y, c = \"green\", linestyle = '--')\n",
        "ax.plot(x,100*z, c=\"blue\", linestyle=\"\", marker= '*')\n",
        "plt.show()"
      ],
      "metadata": {
        "colab": {
          "base_uri": "https://localhost:8080/",
          "height": 355
        },
        "id": "ZRC0q6QJH-oA",
        "outputId": "4c68a2f6-262d-4e7e-f001-905f77ee9683"
      },
      "execution_count": 50,
      "outputs": [
        {
          "output_type": "stream",
          "name": "stderr",
          "text": [
            "<ipython-input-50-1f9dfb9d5a73>:5: RuntimeWarning: divide by zero encountered in log\n",
            "  z = np.log(x)\n"
          ]
        },
        {
          "output_type": "display_data",
          "data": {
            "text/plain": [
              "<Figure size 360x360 with 1 Axes>"
            ],
            "image/png": "[encoded data removed]"
          },
          "metadata": {
            "needs_background": "light"
          }
        }
      ]
    },
    {
      "cell_type": "code",
      "source": [
        "# linestyle: Examples: ‘-’, ‘--’ (or ‘dashed’), ‘:’ (or ‘dotted’)\n",
        "# marker:  Examples: ‘o’, ‘*’, ‘+’, ‘^’\n",
        "# c: (0.5, 1, 0.8, 0.8) (RGBA tuple) OR  ‘#0F0F6B’ (RGB) OR ‘red’, ‘orange’, ‘grey’\n",
        "x = np.linspace(0,5,20)\n",
        "y = np.exp(x)\n",
        "\n",
        "fig, ax = plt.subplots(figsize=(3,2))\n",
        "ax.plot(x,y, c = \"blue\", linestyle = '', marker = \"^\", label = \"curve 1\")\n",
        "ax.plot(x,2*y, c = (.5,1,.8,1), linestyle = \"--\", label = \"curve 2\")\n",
        "ax.legend(loc = (1.1,.5))\n",
        "plt.show()"
      ],
      "metadata": {
        "colab": {
          "base_uri": "https://localhost:8080/",
          "height": 157
        },
        "id": "BKiEOZBYKbbY",
        "outputId": "eedf79ec-e744-457e-e227-e2315a1beef0"
      },
      "execution_count": 72,
      "outputs": [
        {
          "output_type": "display_data",
          "data": {
            "text/plain": [
              "<Figure size 216x144 with 1 Axes>"
            ],
            "image/png": "[encoded data removed]"
          },
          "metadata": {
            "needs_background": "light"
          }
        }
      ]
    },
    {
      "cell_type": "code",
      "source": [
        "#scatter plot\n",
        "x = np.random.rand(20)\n",
        "y = np.random.rand(20)\n",
        "colors = x + y\n",
        "fig, ax = plt.subplots (figsize = (3,2))\n",
        "ax.scatter(x,y, c = colors)"
      ],
      "metadata": {
        "colab": {
          "base_uri": "https://localhost:8080/",
          "height": 175
        },
        "id": "y1zV2WXsVucB",
        "outputId": "c3e96fdf-19da-4b48-ebc5-8bc2fcd2b9cc"
      },
      "execution_count": 80,
      "outputs": [
        {
          "output_type": "execute_result",
          "data": {
            "text/plain": [
              "<matplotlib.collections.PathCollection at 0x7f23c83ce970>"
            ]
          },
          "metadata": {},
          "execution_count": 80
        },
        {
          "output_type": "display_data",
          "data": {
            "text/plain": [
              "<Figure size 216x144 with 1 Axes>"
            ],
            "image/png": "[encoded data removed]"
          },
          "metadata": {
            "needs_background": "light"
          }
        }
      ]
    },
    {
      "cell_type": "code",
      "source": [
        "colors = x + y\n",
        "fig, ax = plt.subplots(figsize = (3,2))\n",
        "ax.scatter(x, y, c = colors, cmap = \"spring\")\n",
        "plt.show()\n",
        "\n",
        "# c = [101,120,50,60] range is between 50 to 120"
      ],
      "metadata": {
        "colab": {
          "base_uri": "https://localhost:8080/",
          "height": 158
        },
        "id": "54FjmGe6WqwB",
        "outputId": "f7c35fdb-bae6-4ef9-9cba-deeecedcad0b"
      },
      "execution_count": 83,
      "outputs": [
        {
          "output_type": "display_data",
          "data": {
            "text/plain": [
              "<Figure size 216x144 with 1 Axes>"
            ],
            "image/png": "[encoded data removed]"
          },
          "metadata": {
            "needs_background": "light"
          }
        }
      ]
    },
    {
      "cell_type": "code",
      "source": [
        "x = np.random.rand(20)\n",
        "y = np.random.rand(20)\n",
        "colors = x + y\n",
        "area = 100*(x + y)\n",
        "fig, ax = plt.subplots(figsize = (3,2))\n",
        "ax.scatter(x,y , c = colors, s = area)\n",
        "plt.show()"
      ],
      "metadata": {
        "colab": {
          "base_uri": "https://localhost:8080/",
          "height": 160
        },
        "id": "FXFYvvRxXcEx",
        "outputId": "06abbea9-b80f-44f2-a34c-57e461aa0dfc"
      },
      "execution_count": 77,
      "outputs": [
        {
          "output_type": "display_data",
          "data": {
            "text/plain": [
              "<Figure size 216x144 with 1 Axes>"
            ],
            "image/png": "[encoded data removed]"
          },
          "metadata": {
            "needs_background": "light"
          }
        }
      ]
    },
    {
      "cell_type": "code",
      "source": [
        "height = [10, 2 ,8]\n",
        "x = [1, 2, 3] #position of the bar on x_axis\n",
        "\n",
        "fig, ax = plt.subplots(figsize = (3,2))\n",
        "ax.bar(x, height)\n",
        "plt.show()"
      ],
      "metadata": {
        "colab": {
          "base_uri": "https://localhost:8080/",
          "height": 157
        },
        "id": "zxaK1jDWYAMp",
        "outputId": "9031d6db-25bd-4492-a552-2a60ddff6f06"
      },
      "execution_count": 84,
      "outputs": [
        {
          "output_type": "display_data",
          "data": {
            "text/plain": [
              "<Figure size 216x144 with 1 Axes>"
            ],
            "image/png": "[encoded data removed]"
          },
          "metadata": {
            "needs_background": "light"
          }
        }
      ]
    },
    {
      "cell_type": "code",
      "source": [
        "height = [10, 2, 8]\n",
        "x = [1, 2, 3]\n",
        "labels = ['sensor 1', 'sensor 2','sensor 3']\n",
        "\n",
        "fig, ax = plt.subplots(figsize = (3, 2))\n",
        "ax.bar(x, height, tick_label = labels)\n",
        "plt.show()"
      ],
      "metadata": {
        "colab": {
          "base_uri": "https://localhost:8080/",
          "height": 157
        },
        "id": "fMdAKJ0sZu7Y",
        "outputId": "0fe6aa92-49b5-4dc5-b03f-ac64950d27ea"
      },
      "execution_count": 85,
      "outputs": [
        {
          "output_type": "display_data",
          "data": {
            "text/plain": [
              "<Figure size 216x144 with 1 Axes>"
            ],
            "image/png": "[encoded data removed]"
          },
          "metadata": {
            "needs_background": "light"
          }
        }
      ]
    },
    {
      "cell_type": "code",
      "source": [
        "height_min = [10, 2, 8]\n",
        "height_max = [8, 6, 5]\n",
        "x = np.arange(3)\n",
        "width = 0.4\n",
        "labels = ['sensor 1', 'sensor 2','sensor 3']\n",
        "fig, ax = plt.subplots(figsize = (3, 2))\n",
        "ax.bar(x + width/2, height_min, width = width, label = \"min\")\n",
        "ax.bar(x - width/2, height_max, width = width, label = \"max\")\n",
        "ax.set_xticks(x)\n",
        "ax.set_xticklabels(labels)\n",
        "ax.legend(loc = (1.1, 0.5))\n",
        "plt.show()\n",
        "\n",
        "# here we can save the figure (plot)\n",
        "fig.savefig(\"./test.pdf\")\n",
        "\n",
        "# it can be done easier\n",
        "import pandas as pd\n",
        "df = pd.DataFrame({\"min\": height_min, \"max\": height_max}, index = labels)\n",
        "df.plot.bar()"
      ],
      "metadata": {
        "colab": {
          "base_uri": "https://localhost:8080/",
          "height": 455
        },
        "id": "i57dlVERaN3R",
        "outputId": "a99e434e-10ba-4bcb-a724-ed88888056fe"
      },
      "execution_count": 95,
      "outputs": [
        {
          "output_type": "display_data",
          "data": {
            "text/plain": [
              "<Figure size 216x144 with 1 Axes>"
            ],
            "image/png": "[encoded data removed]"
          },
          "metadata": {
            "needs_background": "light"
          }
        },
        {
          "output_type": "execute_result",
          "data": {
            "text/plain": [
              "<matplotlib.axes._subplots.AxesSubplot at 0x7f23c5495880>"
            ]
          },
          "metadata": {},
          "execution_count": 95
        },
        {
          "output_type": "display_data",
          "data": {
            "text/plain": [
              "<Figure size 432x288 with 1 Axes>"
            ],
            "image/png": "[encoded data removed]"
          },
          "metadata": {
            "needs_background": "light"
          }
        }
      ]
    },
    {
      "cell_type": "code",
      "source": [
        "# https://seaborn.pydata.org/tutorial.html\n",
        "# https://matplotlib.org/stable/plot_types/index.html"
      ],
      "metadata": {
        "id": "AUJVit6rdL3w"
      },
      "execution_count": null,
      "outputs": []
    },
    {
      "cell_type": "code",
      "source": [],
      "metadata": {
        "id": "77Ng3xhtbyo_"
      },
      "execution_count": null,
      "outputs": []
    }
  ]
}