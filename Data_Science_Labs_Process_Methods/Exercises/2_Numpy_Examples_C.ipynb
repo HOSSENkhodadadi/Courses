{
  "cells": [
    {
      "cell_type": "markdown",
      "metadata": {
        "id": "view-in-github",
        "colab_type": "text"
      },
      "source": [
        "<a href=\"https://colab.research.google.com/github/HOSSENkhodadadi/Data_Science_Labs_Process_Methods/blob/main/Exercises/2_Numpy_Examples_C.ipynb\" target=\"_parent\"><img src=\"https://colab.research.google.com/assets/colab-badge.svg\" alt=\"Open In Colab\"/></a>"
      ]
    },
    {
      "cell_type": "code",
      "source": [
        "list3 = [[1, 2, 3 ],[4,5,6],[7,8,9]]\n",
        "\n",
        "import numpy as np\n",
        "arr3 = np.array(list3)\n",
        "\n",
        "rowVec = np.array([1,2,3])\n",
        "print(np.shape(rowVec))\n",
        "\n",
        "columnVec = np.array([[0,1],[0,2],[0,3]])\n",
        "print(np.shape(columnVec))\n",
        "\n",
        "\n"
      ],
      "metadata": {
        "colab": {
          "base_uri": "https://localhost:8080/"
        },
        "id": "WVHITPfZOENh",
        "outputId": "bd0ebd56-f0c6-4e4a-ac4f-882edc85b652"
      },
      "execution_count": null,
      "outputs": [
        {
          "output_type": "stream",
          "name": "stdout",
          "text": [
            "(3,)\n",
            "(3, 2)\n"
          ]
        },
        {
          "output_type": "stream",
          "name": "stderr",
          "text": [
            "<ipython-input-18-e6852bd1b20a>:12: DeprecationWarning: `np.float` is a deprecated alias for the builtin `float`. To silence this warning, use `float` by itself. Doing this will not modify any behavior and is safe. If you specifically wanted the numpy scalar type, use `np.float64` here.\n",
            "Deprecated in NumPy 1.20; for more details and guidance: https://numpy.org/devdocs/release/1.20.0-notes.html#deprecations\n",
            "  np.array(list3,dtype = np.float)\n"
          ]
        },
        {
          "output_type": "execute_result",
          "data": {
            "text/plain": [
              "array([[1., 2., 3.],\n",
              "       [4., 5., 6.],\n",
              "       [7., 8., 9.]])"
            ]
          },
          "metadata": {},
          "execution_count": 18
        }
      ]
    },
    {
      "cell_type": "code",
      "source": [
        "list3 = [[1, 2, 3 ],[4,5,6],[7,8,9]]\n",
        "list3Array= np.array(list3,dtype = np.float16)\n",
        "print(x)\n",
        "a = np.ones((2,3))\n",
        "print(a+300)\n",
        "print(a + np.array([300], dtype = np.int16))\n",
        "np.full((2,1),2.2)\n"
      ],
      "metadata": {
        "colab": {
          "base_uri": "https://localhost:8080/"
        },
        "id": "RhXJRYM1ODtY",
        "outputId": "a0dd0798-b991-437b-e0cc-1fcd9ed90e30"
      },
      "execution_count": null,
      "outputs": [
        {
          "output_type": "stream",
          "name": "stdout",
          "text": [
            "[[[ 1  2  3]\n",
            "  [ 4  5  6]]\n",
            "\n",
            " [[ 7  8  9]\n",
            "  [10 11 12]]\n",
            "\n",
            " [[13 14 15]\n",
            "  [16 17 18]]]\n",
            "[[301. 301. 301.]\n",
            " [301. 301. 301.]]\n",
            "[[301. 301. 301.]\n",
            " [301. 301. 301.]]\n"
          ]
        },
        {
          "output_type": "execute_result",
          "data": {
            "text/plain": [
              "array([[2.2],\n",
              "       [2.2]])"
            ]
          },
          "metadata": {},
          "execution_count": 50
        }
      ]
    },
    {
      "cell_type": "code",
      "source": [
        "print(np.linspace(2,9,8)) # (n-m+1)/p\n",
        "print(np.arange(1,10,1)) #last excluded\n",
        "\n",
        "print(np.random.normal(0,1,(5,))) #?\n",
        "print(np.random.normal(0,1,5))\n",
        "print(np.random.normal(0,1,(1,5)))\n",
        "\n",
        "print(np.random.random((5,3)))\n",
        "print(np.random.random((5,)))"
      ],
      "metadata": {
        "colab": {
          "base_uri": "https://localhost:8080/"
        },
        "id": "z6OPat9pODaQ",
        "outputId": "29b14870-f259-457b-9a81-84bc7f23f15b"
      },
      "execution_count": null,
      "outputs": [
        {
          "output_type": "stream",
          "name": "stdout",
          "text": [
            "[2. 3. 4. 5. 6. 7. 8. 9.]\n",
            "[1 2 3 4 5 6 7 8 9]\n",
            "[ 1.66868816  0.98583703 -0.1926939   1.14515065  0.75425738]\n",
            "[ 0.40578276 -1.32456058 -0.75955167  1.01681941  0.96499965]\n",
            "[[ 0.30409806 -2.11982834  0.24910188  0.27746988  0.10682013]]\n",
            "[[0.84251121 0.80549879 0.86782087]\n",
            " [0.03420239 0.1310062  0.49337468]\n",
            " [0.6073058  0.64069341 0.32889645]\n",
            " [0.91936305 0.19867326 0.63108288]\n",
            " [0.57056055 0.08744568 0.07083303]]\n",
            "[0.87022185 0.59857723 0.59523171 0.50280957 0.92860644]\n"
          ]
        }
      ]
    },
    {
      "cell_type": "code",
      "source": [
        "x = np.array([[2,3,4],[5,6,7]])\n",
        "\n",
        "print(x.ndim)\n",
        "print(x.shape)\n",
        "print(x.size) # product of the shape values"
      ],
      "metadata": {
        "colab": {
          "base_uri": "https://localhost:8080/"
        },
        "id": "dNMziG7ihmyu",
        "outputId": "34ba096b-54c6-4d86-af5a-f5ae5e9e3e13"
      },
      "execution_count": null,
      "outputs": [
        {
          "output_type": "stream",
          "name": "stdout",
          "text": [
            "2\n",
            "(2, 3)\n",
            "6\n"
          ]
        }
      ]
    },
    {
      "cell_type": "code",
      "source": [
        "x = np.array([[1,1],[2,2]])\n",
        "y = np.array([[3,4],[6,5]])\n",
        "print(x)\n",
        "print(y)\n",
        "print(\"\\n\")\n",
        "\n",
        "#element-wise operation\n",
        "print(x*y)\n",
        "print(\"\\n\")\n",
        "\n",
        "print(x/y)\n",
        "print(\"\\n\")\n",
        "\n",
        "#what is this\n",
        "print(x,y)"
      ],
      "metadata": {
        "colab": {
          "base_uri": "https://localhost:8080/"
        },
        "id": "vmYDGQzHimlD",
        "outputId": "7e0fa85d-2648-417b-c96c-3b4f7f89db7c"
      },
      "execution_count": null,
      "outputs": [
        {
          "output_type": "stream",
          "name": "stdout",
          "text": [
            "[[1 1]\n",
            " [2 2]]\n",
            "[[3 4]\n",
            " [6 5]]\n",
            "\n",
            "\n",
            "[[ 3  4]\n",
            " [12 10]]\n",
            "\n",
            "\n",
            "[[0 0]\n",
            " [0 0]]\n",
            "\n",
            "\n",
            "[[1 1]\n",
            " [2 2]] [[3 4]\n",
            " [6 5]]\n"
          ]
        }
      ]
    },
    {
      "cell_type": "code",
      "source": [
        "#unary functions\n",
        "#operation separately to each element of the array\n",
        "#original array is not modified\n",
        "\n",
        "x = np.array([[1,1],[2,-2]])\n",
        "print(np.abs(x))\n",
        "\n",
        "print(np.log(x))\n",
        "\n",
        "print(np.sin(x))\n",
        "\n",
        "print(np.exp(x))\n"
      ],
      "metadata": {
        "colab": {
          "base_uri": "https://localhost:8080/"
        },
        "id": "LTAbh6RpjnU3",
        "outputId": "3c22a636-7d9b-4967-d3eb-526a98e1c478"
      },
      "execution_count": null,
      "outputs": [
        {
          "output_type": "stream",
          "name": "stdout",
          "text": [
            "[[1 1]\n",
            " [2 2]]\n",
            "[[0.         0.        ]\n",
            " [0.69314718        nan]]\n",
            "[[ 0.84147098  0.84147098]\n",
            " [ 0.90929743 -0.90929743]]\n",
            "[[2.71828183 2.71828183]\n",
            " [7.3890561  0.13533528]]\n"
          ]
        },
        {
          "output_type": "stream",
          "name": "stderr",
          "text": [
            "<ipython-input-78-7c27f3e05994>:5: RuntimeWarning: invalid value encountered in log\n",
            "  print(np.log(x))\n"
          ]
        }
      ]
    },
    {
      "cell_type": "code",
      "source": [
        "#Aggregate functions\n",
        "import numpy as np\n",
        "#argmax without value flattens all the arrays and counts from zero\n",
        "x = np.array([[14,71],[210,430],[810,1]])\n",
        "print(x)\n",
        "print(x.sum(axis = 0))\n",
        "print(x.argmax())\n"
      ],
      "metadata": {
        "colab": {
          "base_uri": "https://localhost:8080/"
        },
        "id": "ZT5aBSAFluMG",
        "outputId": "40fe8fe8-a02c-4680-98a6-4d09435cbe5b"
      },
      "execution_count": null,
      "outputs": [
        {
          "output_type": "stream",
          "name": "stdout",
          "text": [
            "[[ 14  71]\n",
            " [210 430]\n",
            " [810   1]]\n",
            "[1034  502]\n",
            "4\n"
          ]
        }
      ]
    },
    {
      "cell_type": "code",
      "source": [
        "x = np.array([[14,71],[210,430],[810,1]])\n",
        "x = np.arange(36).reshape(3,4,3)\n",
        "print(x)\n",
        "\n",
        "y = [  \n",
        "[[1,2,3]],\n",
        "[[1,2,3]],\n",
        "[[1,2,3]]\n",
        "]\n",
        "\n",
        "arr = np.array(y)\n",
        "print(arr)"
      ],
      "metadata": {
        "colab": {
          "base_uri": "https://localhost:8080/"
        },
        "id": "wb2VgI2ovfOa",
        "outputId": "cdf190e8-cc7d-4d82-860f-eb7f5ecf7506"
      },
      "execution_count": null,
      "outputs": [
        {
          "output_type": "stream",
          "name": "stdout",
          "text": [
            "[[[ 0  1  2]\n",
            "  [ 3  4  5]\n",
            "  [ 6  7  8]\n",
            "  [ 9 10 11]]\n",
            "\n",
            " [[12 13 14]\n",
            "  [15 16 17]\n",
            "  [18 19 20]\n",
            "  [21 22 23]]\n",
            "\n",
            " [[24 25 26]\n",
            "  [27 28 29]\n",
            "  [30 31 32]\n",
            "  [33 34 35]]]\n",
            "[[[1 2 3]]\n",
            "\n",
            " [[1 2 3]]\n",
            "\n",
            " [[1 2 3]]]\n"
          ]
        }
      ]
    },
    {
      "cell_type": "code",
      "source": [
        "# negative axis\n",
        "# calcultes axis = axis %2 for negative numbers range between 0,-ndim\n",
        "t = np.arange(1,11).reshape(2,5)\n",
        "print(t)\n",
        "t.sum(axis = -1)"
      ],
      "metadata": {
        "colab": {
          "base_uri": "https://localhost:8080/"
        },
        "id": "qexT5eyhxD1z",
        "outputId": "071ee28e-33d6-4f35-d924-d58f0968f0ab"
      },
      "execution_count": null,
      "outputs": [
        {
          "output_type": "stream",
          "name": "stdout",
          "text": [
            "[[ 1  2  3  4  5]\n",
            " [ 6  7  8  9 10]]\n"
          ]
        },
        {
          "output_type": "execute_result",
          "data": {
            "text/plain": [
              "array([15, 40])"
            ]
          },
          "metadata": {},
          "execution_count": 9
        }
      ]
    },
    {
      "cell_type": "code",
      "source": [
        "x = np.arange(1,19).reshape(3,2,3)\n",
        "print(np.shape(x))\n",
        "y = np.array([[14,71],[210,430],[810,1]])\n",
        "y.shape\n"
      ],
      "metadata": {
        "id": "SW40NTY26lLI"
      },
      "execution_count": null,
      "outputs": []
    },
    {
      "cell_type": "code",
      "source": [
        "#the aggregation dimension is removed from the \n",
        "# depth height width\n",
        "x = np.arange(1,19).reshape(3,2,3)\n",
        "print(x)\n",
        "np.sort(x, axis = 0)\n",
        "x.min(axis = 1)\n",
        "\n"
      ],
      "metadata": {
        "colab": {
          "base_uri": "https://localhost:8080/"
        },
        "id": "Y9eEUh454qJt",
        "outputId": "ed4a7f01-377f-4604-ae33-99ee6974f609"
      },
      "execution_count": null,
      "outputs": [
        {
          "output_type": "stream",
          "name": "stdout",
          "text": [
            "[[[ 1  2  3]\n",
            "  [ 4  5  6]]\n",
            "\n",
            " [[ 7  8  9]\n",
            "  [10 11 12]]\n",
            "\n",
            " [[13 14 15]\n",
            "  [16 17 18]]]\n"
          ]
        },
        {
          "output_type": "execute_result",
          "data": {
            "text/plain": [
              "array([[ 1,  2,  3],\n",
              "       [ 7,  8,  9],\n",
              "       [13, 14, 15]])"
            ]
          },
          "metadata": {},
          "execution_count": 46
        }
      ]
    },
    {
      "cell_type": "code",
      "source": [
        "# difference between .sort() and np.sort(x)\n",
        "x = np.array([[14,71,5],[210,430,16],[810,1,46]])\n",
        "np.sort(x, axis = -1)\n",
        "np.argsort(x)\n"
      ],
      "metadata": {
        "colab": {
          "base_uri": "https://localhost:8080/"
        },
        "id": "qaaxfPB8ZxNK",
        "outputId": "d5369b3c-7416-4183-ccc1-7b44742ab876"
      },
      "execution_count": null,
      "outputs": [
        {
          "output_type": "execute_result",
          "data": {
            "text/plain": [
              "array([[2, 0, 1],\n",
              "       [2, 0, 1],\n",
              "       [1, 2, 0]])"
            ]
          },
          "metadata": {},
          "execution_count": 66
        }
      ]
    },
    {
      "cell_type": "code",
      "source": [
        "from sklearn.datasets import load_iris\n",
        "X,y = load_iris(return_X_y = True)\n",
        "#print(X)\n",
        "X.shape\n",
        "X.mean(axis = 1)\n",
        "X.std(axis = 0)\n",
        "print(x) #???"
      ],
      "metadata": {
        "colab": {
          "base_uri": "https://localhost:8080/"
        },
        "id": "dPrUIktFaWYR",
        "outputId": "199f0891-6248-45b8-dafd-59e309839111"
      },
      "execution_count": null,
      "outputs": [
        {
          "output_type": "stream",
          "name": "stdout",
          "text": [
            "[[[ 1  2  3]\n",
            "  [ 4  5  6]]\n",
            "\n",
            " [[ 7  8  9]\n",
            "  [10 11 12]]\n",
            "\n",
            " [[13 14 15]\n",
            "  [16 17 18]]]\n"
          ]
        }
      ]
    },
    {
      "cell_type": "code",
      "source": [
        "x = np.arange(1,10).reshape(3,3)\n",
        "y = np.arange(10,19).reshape(3,3)\n",
        "print(x)\n",
        "print(y)\n",
        "np.dot(x,y)\n"
      ],
      "metadata": {
        "colab": {
          "base_uri": "https://localhost:8080/"
        },
        "id": "7x9CltytnZ1X",
        "outputId": "040c4818-b8f8-493f-a167-8d80492b7cca"
      },
      "execution_count": null,
      "outputs": [
        {
          "output_type": "stream",
          "name": "stdout",
          "text": [
            "[[1 2 3]\n",
            " [4 5 6]\n",
            " [7 8 9]]\n",
            "[[10 11 12]\n",
            " [13 14 15]\n",
            " [16 17 18]]\n"
          ]
        },
        {
          "output_type": "execute_result",
          "data": {
            "text/plain": [
              "array([[ 84,  90,  96],\n",
              "       [201, 216, 231],\n",
              "       [318, 342, 366]])"
            ]
          },
          "metadata": {},
          "execution_count": 76
        }
      ]
    },
    {
      "cell_type": "code",
      "source": [
        "x = np.arange(1,10).reshape(3,3,1)\n",
        "print(x)"
      ],
      "metadata": {
        "colab": {
          "base_uri": "https://localhost:8080/"
        },
        "id": "3xCX6rtxsmmw",
        "outputId": "55c62cd2-c3dd-4f34-90c2-b1f465f5a9f4"
      },
      "execution_count": null,
      "outputs": [
        {
          "output_type": "stream",
          "name": "stdout",
          "text": [
            "[[[1]\n",
            "  [2]\n",
            "  [3]]\n",
            "\n",
            " [[4]\n",
            "  [5]\n",
            "  [6]]\n",
            "\n",
            " [[7]\n",
            "  [8]\n",
            "  [9]]]\n"
          ]
        }
      ]
    },
    {
      "cell_type": "code",
      "source": [
        "x = np.random.random ((5,4,3))\n",
        "print(x)\n",
        "x [0,2,1]\n",
        "x[0,2] #???\n",
        "x [0,2,-1]\n",
        "x[0,-2]"
      ],
      "metadata": {
        "colab": {
          "base_uri": "https://localhost:8080/"
        },
        "id": "0pJUvF5JghoN",
        "outputId": "7718e8d0-ec67-4a80-f509-6075553cb7d8"
      },
      "execution_count": null,
      "outputs": [
        {
          "output_type": "stream",
          "name": "stdout",
          "text": [
            "[[[0.49839292 0.43654151 0.05758376]\n",
            "  [0.50787545 0.03710702 0.28183806]\n",
            "  [0.52380096 0.58426149 0.21448375]\n",
            "  [0.59503738 0.23376216 0.19298728]]\n",
            "\n",
            " [[0.78186582 0.26684149 0.54279811]\n",
            "  [0.61818537 0.15727067 0.7205094 ]\n",
            "  [0.745341   0.20333285 0.02694419]\n",
            "  [0.28225235 0.97458637 0.64157097]]\n",
            "\n",
            " [[0.27051907 0.06361642 0.0313956 ]\n",
            "  [0.98641757 0.91268992 0.64920814]\n",
            "  [0.03143974 0.76618959 0.10897299]\n",
            "  [0.8729383  0.79014281 0.27141584]]\n",
            "\n",
            " [[0.70404149 0.93042364 0.11685273]\n",
            "  [0.28380193 0.45830349 0.43752581]\n",
            "  [0.38174639 0.87280669 0.86177445]\n",
            "  [0.84452553 0.1057951  0.7136519 ]]\n",
            "\n",
            " [[0.23186103 0.53044103 0.98945699]\n",
            "  [0.1106622  0.00566483 0.70657366]\n",
            "  [0.50324711 0.66960279 0.05143606]\n",
            "  [0.08681412 0.59973345 0.30762414]]]\n"
          ]
        },
        {
          "output_type": "execute_result",
          "data": {
            "text/plain": [
              "array([0.52380096, 0.58426149, 0.21448375])"
            ]
          },
          "metadata": {},
          "execution_count": 42
        }
      ]
    },
    {
      "cell_type": "code",
      "source": [
        "import numpy as np\n",
        "x = np.random.random((3,3,3))\n",
        "print(x)\n",
        "x[1:, 1:,1:]"
      ],
      "metadata": {
        "id": "QWUWXPN3XzPN",
        "colab": {
          "base_uri": "https://localhost:8080/"
        },
        "outputId": "e2ec3e3f-0b5e-4e5f-c379-cc2550f114fc"
      },
      "execution_count": null,
      "outputs": [
        {
          "output_type": "stream",
          "name": "stdout",
          "text": [
            "[[[0.87886409 0.84759655 0.7698614 ]\n",
            "  [0.09012808 0.71968277 0.92622905]\n",
            "  [0.66754131 0.50834763 0.90794651]]\n",
            "\n",
            " [[0.75484945 0.98245849 0.42376296]\n",
            "  [0.53439358 0.73643706 0.24717548]\n",
            "  [0.89237703 0.64570156 0.19292652]]\n",
            "\n",
            " [[0.28377617 0.15317876 0.81381998]\n",
            "  [0.88528162 0.99623782 0.01748771]\n",
            "  [0.63129261 0.40070099 0.31783545]]]\n"
          ]
        },
        {
          "output_type": "execute_result",
          "data": {
            "text/plain": [
              "array([[[0.73643706, 0.24717548],\n",
              "        [0.64570156, 0.19292652]],\n",
              "\n",
              "       [[0.99623782, 0.01748771],\n",
              "        [0.40070099, 0.31783545]]])"
            ]
          },
          "metadata": {},
          "execution_count": 2
        }
      ]
    },
    {
      "cell_type": "code",
      "source": [
        "#update a sliced array\n",
        "x = np.array([[1,2,3],[4,5,6],[7,8,9]])\n",
        "\n",
        "x[:,1:] = 1111\n",
        "print(x)"
      ],
      "metadata": {
        "colab": {
          "base_uri": "https://localhost:8080/"
        },
        "id": "-yVhJrDAbOTc",
        "outputId": "08998a47-f616-4aea-84e5-ff7a66a6d140"
      },
      "execution_count": null,
      "outputs": [
        {
          "output_type": "stream",
          "name": "stdout",
          "text": [
            "[[   1 1111 1111]\n",
            " [   4 1111 1111]\n",
            " [   7 1111 1111]]\n"
          ]
        }
      ]
    },
    {
      "cell_type": "code",
      "source": [
        "#update a view\n",
        "# its effect remains in the original variable\n",
        "x = np.arange(1,10).reshape(3,3)\n",
        "\n",
        "view = x[:, 1:]\n",
        "view[:,:] = 0\n",
        "print(x)\n"
      ],
      "metadata": {
        "colab": {
          "base_uri": "https://localhost:8080/"
        },
        "id": "ky5qPoJKcSyA",
        "outputId": "321d496c-32cb-45bd-c90a-8b4a365460ff"
      },
      "execution_count": null,
      "outputs": [
        {
          "output_type": "stream",
          "name": "stdout",
          "text": [
            "[[1 0 0]\n",
            " [4 0 0]\n",
            " [7 0 0]]\n"
          ]
        }
      ]
    },
    {
      "cell_type": "code",
      "source": [
        "# to avoid updating orginal array\n",
        "x = np.arange(1,10).reshape(3,3)\n",
        "view = x[:,1:].copy()\n",
        "x"
      ],
      "metadata": {
        "colab": {
          "base_uri": "https://localhost:8080/"
        },
        "id": "670326vXdLaq",
        "outputId": "d9ae93ed-dab7-44f2-abd2-6866bd64b464"
      },
      "execution_count": null,
      "outputs": [
        {
          "output_type": "stream",
          "name": "stdout",
          "text": [
            "[[2 3]\n",
            " [5 6]\n",
            " [8 9]]\n"
          ]
        }
      ]
    },
    {
      "cell_type": "code",
      "source": [
        "x = np.array([1.2,4.1,1.5,4.5])\n",
        "#x < 2.5\n",
        "\n",
        "x2 = np.array([[1.2, 4.1], [1.5, 4.5]])\n",
        "# this one returns the position with true and false\n",
        "~((x2<1)|(x2>5))\n",
        "\n",
        "# this one returns the values but eliminates the dimensions\n",
        "x2[x2 > 1]\n"
      ],
      "metadata": {
        "colab": {
          "base_uri": "https://localhost:8080/"
        },
        "id": "bnIT_Si0d-gw",
        "outputId": "40fdb8b3-f2ce-4787-d22d-25a570c8bdaf"
      },
      "execution_count": null,
      "outputs": [
        {
          "output_type": "execute_result",
          "data": {
            "text/plain": [
              "array([1.2, 4.1, 1.5, 4.5])"
            ]
          },
          "metadata": {},
          "execution_count": 59
        }
      ]
    },
    {
      "cell_type": "code",
      "source": [
        "# upadate a masked array\n",
        "x2 = np.array([[1.2, 4.1], [1.5, 4.5]])\n",
        "x2[x2 > 4] = 0\n",
        "print(x2)"
      ],
      "metadata": {
        "colab": {
          "base_uri": "https://localhost:8080/"
        },
        "id": "mGemmxIDdz8I",
        "outputId": "accbf311-960f-4dfc-ef0f-f1e6652b0b1c"
      },
      "execution_count": null,
      "outputs": [
        {
          "output_type": "stream",
          "name": "stdout",
          "text": [
            "[[1.2 0. ]\n",
            " [1.5 0. ]]\n"
          ]
        }
      ]
    },
    {
      "cell_type": "code",
      "source": [
        "# mask does not create views, but copies\n",
        "x2 = np.array([[1.2, 4.1], [1.5, 4.5]])\n",
        "masked = x2[x2 > 4]\n",
        "masked[:] = 0\n",
        "print(x)"
      ],
      "metadata": {
        "colab": {
          "base_uri": "https://localhost:8080/"
        },
        "id": "V2Y2PCfkkHg0",
        "outputId": "6d7dd320-e76f-4509-c704-e438f3c24391"
      },
      "execution_count": null,
      "outputs": [
        {
          "output_type": "stream",
          "name": "stdout",
          "text": [
            "[1.2 4.1 1.5 4.5]\n"
          ]
        }
      ]
    },
    {
      "cell_type": "code",
      "source": [
        "# Fancy indexing\n",
        "x = np.array([7.0, 9.0, 6.0, 5.0])\n",
        "x[[1,2,3]]"
      ],
      "metadata": {
        "colab": {
          "base_uri": "https://localhost:8080/"
        },
        "id": "K3mxOB5lknyc",
        "outputId": "596964cd-e9d0-476c-c680-f57fe6431727"
      },
      "execution_count": null,
      "outputs": [
        {
          "output_type": "execute_result",
          "data": {
            "text/plain": [
              "array([9., 6., 5.])"
            ]
          },
          "metadata": {},
          "execution_count": 79
        }
      ]
    },
    {
      "cell_type": "code",
      "source": [
        "# just select rows form a 2D array\n",
        "x = np.array([[0.0, 1.0, 2.0], [3.0, 4.0, 5.0], \n",
        "[6.0, 7.0, 8.0]])\n",
        "\n",
        "x[[0,1,2]]"
      ],
      "metadata": {
        "colab": {
          "base_uri": "https://localhost:8080/"
        },
        "id": "XDnw0S0ImEqO",
        "outputId": "2817dfe5-e624-415d-8301-f75098a1543d"
      },
      "execution_count": null,
      "outputs": [
        {
          "output_type": "execute_result",
          "data": {
            "text/plain": [
              "array([[0., 1., 2.],\n",
              "       [3., 4., 5.],\n",
              "       [6., 7., 8.]])"
            ]
          },
          "metadata": {},
          "execution_count": 86
        }
      ]
    },
    {
      "cell_type": "code",
      "source": [
        "x = np.array([[0.0, 1.0, 2.0], [3.0, 4.0, 5.0], \n",
        "[6.0, 7.0, 8.0]])\n",
        "print(x)\n",
        "x[[1,2],[0,2]] # creates  [1,0],[2,2]\n",
        "x[[1,2],[2,1]]"
      ],
      "metadata": {
        "colab": {
          "base_uri": "https://localhost:8080/"
        },
        "id": "ugOqGXPXpDk_",
        "outputId": "75a5cba3-b3cb-4026-eecf-867c5301ea5b"
      },
      "execution_count": null,
      "outputs": [
        {
          "output_type": "stream",
          "name": "stdout",
          "text": [
            "[[0. 1. 2.]\n",
            " [3. 4. 5.]\n",
            " [6. 7. 8.]]\n"
          ]
        },
        {
          "output_type": "execute_result",
          "data": {
            "text/plain": [
              "array([5., 7.])"
            ]
          },
          "metadata": {},
          "execution_count": 92
        }
      ]
    },
    {
      "cell_type": "code",
      "source": [
        "x = np.arange(1,28).reshape(3,3,3)\n",
        "print(x)\n",
        "x[[1,2],[1,2]] # creates  [1,1],[2,2] which is depth = 1 and height = 1 _depth = 2 and height = 2"
      ],
      "metadata": {
        "id": "6duHC-8lq4lW",
        "colab": {
          "base_uri": "https://localhost:8080/"
        },
        "outputId": "2aa432ac-9087-4a45-f217-5ed1c9654705"
      },
      "execution_count": null,
      "outputs": [
        {
          "output_type": "stream",
          "name": "stdout",
          "text": [
            "[[[ 1  2  3]\n",
            "  [ 4  5  6]\n",
            "  [ 7  8  9]]\n",
            "\n",
            " [[10 11 12]\n",
            "  [13 14 15]\n",
            "  [16 17 18]]\n",
            "\n",
            " [[19 20 21]\n",
            "  [22 23 24]\n",
            "  [25 26 27]]]\n"
          ]
        },
        {
          "output_type": "execute_result",
          "data": {
            "text/plain": [
              "array([[13, 14, 15],\n",
              "       [25, 26, 27]])"
            ]
          },
          "metadata": {},
          "execution_count": 102
        }
      ]
    },
    {
      "cell_type": "code",
      "source": [
        "# fancy indexing provides copies like maksing only views damage orginal data\n",
        "\n",
        "x = np.array([1.2, 4.1, 1.5, 4.5])\n",
        "x[[1,3]] = 0\n",
        "print(x)\n",
        "\n",
        "x = np.array([1.2, 4.1, 1.5, 4.5])\n",
        "sel = x[[1,3]]\n",
        "sel[:] = 0\n",
        "x"
      ],
      "metadata": {
        "colab": {
          "base_uri": "https://localhost:8080/"
        },
        "id": "12G_cYeqt4KG",
        "outputId": "86c1fee2-f2af-4f05-b28f-f8f8ab773500"
      },
      "execution_count": null,
      "outputs": [
        {
          "output_type": "stream",
          "name": "stdout",
          "text": [
            "[1.2 0.  1.5 0. ]\n"
          ]
        },
        {
          "output_type": "execute_result",
          "data": {
            "text/plain": [
              "array([1.2, 4.1, 1.5, 4.5])"
            ]
          },
          "metadata": {},
          "execution_count": 106
        }
      ]
    },
    {
      "cell_type": "code",
      "source": [
        "x = np.array([[1,2,3],[4,5,6]])\n",
        "y = np.array([[11,12,13],[14,15,16]])\n",
        "\n",
        "np.concatenate((x,y), axis = 1)"
      ],
      "metadata": {
        "colab": {
          "base_uri": "https://localhost:8080/"
        },
        "id": "mHSNTyrh0T64",
        "outputId": "63d742b1-49f6-42d2-fcb8-b535c542ec0c"
      },
      "execution_count": null,
      "outputs": [
        {
          "output_type": "execute_result",
          "data": {
            "text/plain": [
              "array([[ 1,  2,  3, 11, 12, 13],\n",
              "       [ 4,  5,  6, 14, 15, 16]])"
            ]
          },
          "metadata": {},
          "execution_count": 108
        }
      ]
    },
    {
      "cell_type": "code",
      "source": [
        "x = np.array([[1,2,3],[4,5,6]])\n",
        "y = np.array([[11,12,13],[14,15,16]])\n",
        "np.concatenate((x,y), axis = 1)\n",
        "np.hstack((x,y))\n",
        "np.vstack((x,y))\n",
        "\n",
        "\n"
      ],
      "metadata": {
        "colab": {
          "base_uri": "https://localhost:8080/"
        },
        "id": "U_UX0tfItpxb",
        "outputId": "63e09a57-983d-4ce1-ccd6-6ac970733e39"
      },
      "execution_count": null,
      "outputs": [
        {
          "output_type": "execute_result",
          "data": {
            "text/plain": [
              "array([[ 1,  2,  3],\n",
              "       [ 4,  5,  6],\n",
              "       [11, 12, 13],\n",
              "       [14, 15, 16]])"
            ]
          },
          "metadata": {},
          "execution_count": 7
        }
      ]
    },
    {
      "cell_type": "code",
      "source": [
        "x = np.array([1,2,3])\n",
        "y = np.array([11,12,13])\n",
        "\n",
        "# does not possible\n",
        "#np.concatenate((x,y), axis = 1)\n",
        "v = np.vstack((x,y))\n",
        "v"
      ],
      "metadata": {
        "colab": {
          "base_uri": "https://localhost:8080/"
        },
        "id": "9UBdlbt1uZLi",
        "outputId": "fae4bf35-66ff-477f-a4af-0b28eef51ace"
      },
      "execution_count": null,
      "outputs": [
        {
          "output_type": "execute_result",
          "data": {
            "text/plain": [
              "array([[ 1,  2,  3],\n",
              "       [11, 12, 13]])"
            ]
          },
          "metadata": {},
          "execution_count": 14
        }
      ]
    },
    {
      "cell_type": "code",
      "source": [
        "x = np.array([7, 7, 9, 9, 8, 8])\n",
        "np.split(x,[2,4])\n",
        "np.split(x,6)"
      ],
      "metadata": {
        "colab": {
          "base_uri": "https://localhost:8080/"
        },
        "id": "KbvjdeOtvJAO",
        "outputId": "f09aace1-bf44-4861-a672-acfb7b81ad0e"
      },
      "execution_count": null,
      "outputs": [
        {
          "output_type": "execute_result",
          "data": {
            "text/plain": [
              "[array([7]), array([7]), array([9]), array([9]), array([8]), array([8])]"
            ]
          },
          "metadata": {},
          "execution_count": 18
        }
      ]
    },
    {
      "cell_type": "code",
      "source": [
        "x = np.array([1,2,3])\n",
        "x.reshape(-1,1)\n",
        "x"
      ],
      "metadata": {
        "colab": {
          "base_uri": "https://localhost:8080/"
        },
        "id": "6wIa4hQUwFsG",
        "outputId": "f7e441cd-60dc-4360-c31f-5a803be926d0"
      },
      "execution_count": null,
      "outputs": [
        {
          "output_type": "execute_result",
          "data": {
            "text/plain": [
              "array([1, 2, 3])"
            ]
          },
          "metadata": {},
          "execution_count": 24
        }
      ]
    },
    {
      "cell_type": "code",
      "source": [
        "arr = np.array([[1,2,3],[4,5,6]])\n",
        "res = arr[np.newaxis,:,:]\n",
        "res"
      ],
      "metadata": {
        "colab": {
          "base_uri": "https://localhost:8080/"
        },
        "id": "NC1MqwxQxl_T",
        "outputId": "32789f9f-3272-4532-dacd-4b6531ddf755"
      },
      "execution_count": null,
      "outputs": [
        {
          "output_type": "execute_result",
          "data": {
            "text/plain": [
              "array([[[1, 2, 3],\n",
              "        [4, 5, 6]]])"
            ]
          },
          "metadata": {},
          "execution_count": 27
        }
      ]
    },
    {
      "cell_type": "code",
      "source": [
        "#row vector to column vector\n",
        "arr = np.array([[1,2,3],[4,5,6]])\n",
        "\n",
        "res = arr[:, np.newaxis]\n",
        "res\n",
        "\n",
        "#or\n",
        "#arr.reshape(-1,1)"
      ],
      "metadata": {
        "colab": {
          "base_uri": "https://localhost:8080/"
        },
        "id": "EkvxgcBnx8Pu",
        "outputId": "554d9d63-4744-46ad-ef71-97860d10e8f0"
      },
      "execution_count": null,
      "outputs": [
        {
          "output_type": "execute_result",
          "data": {
            "text/plain": [
              "array([[[1, 2, 3]],\n",
              "\n",
              "       [[4, 5, 6]]])"
            ]
          },
          "metadata": {},
          "execution_count": 30
        }
      ]
    },
    {
      "cell_type": "markdown",
      "source": [],
      "metadata": {
        "id": "AzkmjOe8ko7-"
      }
    },
    {
      "cell_type": "markdown",
      "source": [
        "________________________________________________________________________________"
      ],
      "metadata": {
        "id": "MumNjVWHN7g-"
      }
    },
    {
      "cell_type": "markdown",
      "metadata": {
        "id": "DgBZl6OLNlnn"
      },
      "source": [
        "*italicized text*# Numpy Examples"
      ]
    },
    {
      "cell_type": "markdown",
      "metadata": {
        "id": "23ao2eowNlnt"
      },
      "source": [
        "## 1) Computation with arrays"
      ]
    },
    {
      "cell_type": "markdown",
      "metadata": {
        "id": "Pt64W7SkNlnt"
      },
      "source": [
        "### a) Sigmoid activation function of a vector"
      ]
    },
    {
      "cell_type": "code",
      "execution_count": null,
      "metadata": {
        "id": "SJYrwnucNlnu"
      },
      "outputs": [],
      "source": [
        "import numpy as np\n",
        "x = np.array([4, -1, 7, 9, 3, -5])"
      ]
    },
    {
      "cell_type": "markdown",
      "metadata": {
        "id": "NwZqyg4eNlnv"
      },
      "source": [
        "**Apply the Sigmoid activation function: $y = sigmoid(x)$**\n",
        "$$sigmoid(x_i) = \\frac{1}{1+exp(-x_i)}$$\n",
        "<img src='./sigmoid.png' width='40%'>"
      ]
    },
    {
      "cell_type": "code",
      "execution_count": null,
      "metadata": {
        "colab": {
          "base_uri": "https://localhost:8080/"
        },
        "id": "v9Fuf1_sNlnv",
        "outputId": "38b7505e-718b-4e7d-9227-60b17c8e543d"
      },
      "outputs": [
        {
          "output_type": "stream",
          "name": "stdout",
          "text": [
            "[0.9820137900379085, 0.2689414213699951, 0.9990889488055994, 0.9998766054240137, 0.9525741268224334, 0.0066928509242848554]\n"
          ]
        }
      ],
      "source": [
        "def sigmoid (x):\n",
        "  return 1/(1+np.exp(-x))\n",
        "y = []\n",
        "for x_i in x:\n",
        "  y.append(sigmoid(x_i))\n",
        "print(y)\n"
      ]
    },
    {
      "cell_type": "code",
      "source": [
        "def sigmoid (x):\n",
        "  return 1/(1+np.exp(-x))\n",
        "print(sigmoid(x))"
      ],
      "metadata": {
        "colab": {
          "base_uri": "https://localhost:8080/"
        },
        "id": "h_TUkkuWRhuM",
        "outputId": "84c2d3f4-7fbf-42c3-a3b6-2bb3031c70b1"
      },
      "execution_count": null,
      "outputs": [
        {
          "output_type": "stream",
          "name": "stdout",
          "text": [
            "[0.98201379 0.26894142 0.99908895 0.99987661 0.95257413 0.00669285]\n"
          ]
        }
      ]
    },
    {
      "cell_type": "markdown",
      "metadata": {
        "id": "tqm_e48JNlnw"
      },
      "source": [
        "### b) Softmax activation function\n",
        "\n",
        "Activation function that normalizes the input vector (z) to a discrete probability distribution (values of the result add to 1).\n",
        "\n",
        "$$y_i = \\frac{exp(x_i)}{\\sum_j{exp(x_j)}}$$"
      ]
    },
    {
      "cell_type": "code",
      "execution_count": null,
      "metadata": {
        "colab": {
          "base_uri": "https://localhost:8080/"
        },
        "id": "vh9hjSv0Nlnw",
        "outputId": "a1aaf860-8bf8-4e70-8eec-bac000d3580c"
      },
      "outputs": [
        {
          "output_type": "stream",
          "name": "stdout",
          "text": [
            "[5.88673555e-03 3.96645122e-05 1.18238244e-01 8.73669020e-01\n",
            " 2.16560899e-03 7.26480881e-07]\n"
          ]
        },
        {
          "output_type": "execute_result",
          "data": {
            "text/plain": [
              "1.0000000000000002"
            ]
          },
          "metadata": {},
          "execution_count": 28
        }
      ],
      "source": [
        "yi = np.exp(x)/np.sum(np.exp(x))\n",
        "print(yi)\n",
        "\n",
        "# This is how to access a single entry\n",
        "#print(np.exp(x[0])/(np.sum(np.exp(x))))\n",
        "\n",
        "# it adds up to one\n",
        "yi.sum()"
      ]
    },
    {
      "cell_type": "code",
      "source": [
        "y = []\n",
        "d = 0\n",
        "for x_i in x:\n",
        "  d += np.exp(x_i)\n",
        "for x_i in x:\n",
        "  y.append(np.exp(x_i)/d)\n",
        "\n",
        "print(y)"
      ],
      "metadata": {
        "colab": {
          "base_uri": "https://localhost:8080/"
        },
        "id": "ROWY0mr7Y_SW",
        "outputId": "17d1cbf7-8306-486f-fac4-cf9acb15aa23"
      },
      "execution_count": null,
      "outputs": [
        {
          "output_type": "stream",
          "name": "stdout",
          "text": [
            "[0.005886735552643246, 3.966451215134229e-05, 0.11823824429965747, 0.8736690201692363, 0.002165608985430459, 7.264808812617942e-07]\n"
          ]
        }
      ]
    },
    {
      "cell_type": "code",
      "source": [
        "y = []\n",
        "sum_values = sum([np.exp(x_i) for x_i in x])\n",
        "for x_i in x:\n",
        "  y.append(np.exp(x_i)/sum_values)\n",
        "print(y)"
      ],
      "metadata": {
        "colab": {
          "base_uri": "https://localhost:8080/"
        },
        "id": "L5679TR_aL7c",
        "outputId": "6df802ca-f793-40db-f91b-259312e3e7ee"
      },
      "execution_count": null,
      "outputs": [
        {
          "output_type": "stream",
          "name": "stdout",
          "text": [
            "[0.005886735552643246, 3.966451215134229e-05, 0.11823824429965747, 0.8736690201692363, 0.002165608985430459, 7.264808812617942e-07]\n"
          ]
        }
      ]
    },
    {
      "cell_type": "markdown",
      "metadata": {
        "id": "ZNyrhUz4Nlnx"
      },
      "source": [
        "## 2) Broadcasting: dataset normalization"
      ]
    },
    {
      "cell_type": "code",
      "execution_count": null,
      "metadata": {
        "id": "cul3Q7PeNlny"
      },
      "outputs": [],
      "source": [
        "# Input table\n",
        "n_samples = 100\n",
        "n_columns = 5\n",
        "mean = 1\n",
        "std = 3\n",
        "X = np.random.normal(mean, std, (n_samples, n_columns))"
      ]
    },
    {
      "cell_type": "markdown",
      "metadata": {
        "id": "TtHiD16ENlny"
      },
      "source": [
        "** Apply z-score: normalize each column by subtracting its mean and dividing by its standard deviation **"
      ]
    },
    {
      "cell_type": "code",
      "execution_count": null,
      "metadata": {
        "scrolled": true,
        "id": "D5vIcVNVNlnz",
        "colab": {
          "base_uri": "https://localhost:8080/"
        },
        "outputId": "51b9b837-fb05-4b48-9bd0-48b4300e3345"
      },
      "outputs": [
        {
          "output_type": "execute_result",
          "data": {
            "text/plain": [
              "array([1., 1., 1., 1., 1.])"
            ]
          },
          "metadata": {},
          "execution_count": 133
        }
      ],
      "source": [
        "\n",
        "\n",
        "X_norm = (X-X.mean(axis = 0))/X.std(axis = 0)\n",
        "\n",
        "X_norm.std(axis = 0)"
      ]
    },
    {
      "cell_type": "code",
      "source": [
        "Y = np.arange(1,10).reshape(3,3)\n",
        "print(Y)\n",
        "print(Y.mean(axis = 0))\n",
        "print(Y.std(axis = 0))\n",
        "(Y-Y.mean(axis = 0))/Y.std(axis = 0)"
      ],
      "metadata": {
        "colab": {
          "base_uri": "https://localhost:8080/"
        },
        "id": "lHfBc0wp2t8z",
        "outputId": "6889ba58-8066-4584-8023-08803106ec3e"
      },
      "execution_count": null,
      "outputs": [
        {
          "output_type": "stream",
          "name": "stdout",
          "text": [
            "[[1 2 3]\n",
            " [4 5 6]\n",
            " [7 8 9]]\n",
            "[4. 5. 6.]\n",
            "[2.44948974 2.44948974 2.44948974]\n"
          ]
        },
        {
          "output_type": "execute_result",
          "data": {
            "text/plain": [
              "array([[-1.22474487, -1.22474487, -1.22474487],\n",
              "       [ 0.        ,  0.        ,  0.        ],\n",
              "       [ 1.22474487,  1.22474487,  1.22474487]])"
            ]
          },
          "metadata": {},
          "execution_count": 126
        }
      ]
    },
    {
      "cell_type": "markdown",
      "metadata": {
        "id": "MA6QpFvoNlnz"
      },
      "source": [
        "## 3) Accessing Numpy Arrays"
      ]
    },
    {
      "cell_type": "code",
      "execution_count": null,
      "metadata": {
        "id": "89rdfILeNlnz",
        "colab": {
          "base_uri": "https://localhost:8080/"
        },
        "outputId": "73fa103a-8e18-48c4-c348-46e8a155511e"
      },
      "outputs": [
        {
          "output_type": "execute_result",
          "data": {
            "text/plain": [
              "array([[5.1, 3.5, 1.4, 0.2],\n",
              "       [4.3, 3. , 1.1, 0.1],\n",
              "       [5. , 3.4, 1.6, 0.4],\n",
              "       [5.1, 3.4, 1.5, 0.2],\n",
              "       [6.9, 3.1, 4.9, 1.5],\n",
              "       [6.7, 3.1, 4.4, 1.4],\n",
              "       [6. , 2.9, 4.5, 1.5],\n",
              "       [6.1, 3. , 4.6, 1.4],\n",
              "       [6.5, 3. , 5.8, 2.2],\n",
              "       [7.7, 3.8, 6.7, 2.2],\n",
              "       [7.4, 2.8, 6.1, 1.9],\n",
              "       [6.8, 3.2, 5.9, 2.3]])"
            ]
          },
          "metadata": {},
          "execution_count": 136
        }
      ],
      "source": [
        "#Input data\n",
        "import numpy as np\n",
        "\n",
        "# Input table (12 samples x 4 attributes)\n",
        "X = np.array([[5.1, 3.5, 1.4, 0.2],\n",
        "           [4.3, 3. , 1.1, 0.1],\n",
        "           [5. , 3.4, 1.6, 0.4],\n",
        "           [5.1, 3.4, 1.5, 0.2],\n",
        "           [6.9, 3.1, 4.9, 1.5],\n",
        "           [6.7, 3.1, 4.4, 1.4],\n",
        "           [6. , 2.9, 4.5, 1.5],\n",
        "           [6.1, 3. , 4.6, 1.4],\n",
        "           [6.5, 3. , 5.8, 2.2],\n",
        "           [7.7, 3.8, 6.7, 2.2],\n",
        "           [7.4, 2.8, 6.1, 1.9],\n",
        "           [6.8, 3.2, 5.9, 2.3]])\n",
        "# Column names\n",
        "columns = ['height','width','intensity','weight']\n",
        "\n",
        "# Class label of each sample\n",
        "labels = np.array([0, 0, 0, 0, 1, 1, 1, 1, 2, 2, 0, 2])\n"
      ]
    },
    {
      "cell_type": "code",
      "execution_count": null,
      "metadata": {
        "id": "-20Zp9MCNln0",
        "colab": {
          "base_uri": "https://localhost:8080/"
        },
        "outputId": "49dd3a82-5e1f-4229-b400-d9e138b46979"
      },
      "outputs": [
        {
          "output_type": "execute_result",
          "data": {
            "text/plain": [
              "(0, 2, 5)"
            ]
          },
          "metadata": {},
          "execution_count": 147
        }
      ],
      "source": [
        "# Get column indices\n",
        "height_i = columns.index('height')\n",
        "intensity_i = columns.index('intensity')\n",
        "\n",
        "height_i,intensity_i"
      ]
    },
    {
      "cell_type": "markdown",
      "metadata": {
        "id": "pRQh1qhwNln0"
      },
      "source": [
        "**Compute the average height:**"
      ]
    },
    {
      "cell_type": "code",
      "execution_count": null,
      "metadata": {
        "id": "mLCarfKZNln0",
        "colab": {
          "base_uri": "https://localhost:8080/"
        },
        "outputId": "3da78b2b-7339-46cc-dc25-b45d0aacbdd4"
      },
      "outputs": [
        {
          "output_type": "execute_result",
          "data": {
            "text/plain": [
              "6.133333333333334"
            ]
          },
          "metadata": {},
          "execution_count": 148
        }
      ],
      "source": [
        "X[:,height_i].mean()\n"
      ]
    },
    {
      "cell_type": "markdown",
      "metadata": {
        "id": "_njoz4AANln0"
      },
      "source": [
        "**Compute the average height of samples with intensity greater than 5:**"
      ]
    },
    {
      "cell_type": "code",
      "execution_count": null,
      "metadata": {
        "scrolled": true,
        "id": "hLKRytcrNln1",
        "colab": {
          "base_uri": "https://localhost:8080/"
        },
        "outputId": "7f180c78-a84a-4d1d-eab9-994c6453b8c1"
      },
      "outputs": [
        {
          "output_type": "stream",
          "name": "stdout",
          "text": [
            "[False False False False False False False False  True  True  True  True]\n"
          ]
        },
        {
          "output_type": "execute_result",
          "data": {
            "text/plain": [
              "7.1000000000000005"
            ]
          },
          "metadata": {},
          "execution_count": 163
        }
      ],
      "source": [
        "# My Solution\n",
        "inte = X[:,intensity_i] \n",
        "print(inte > 5) #returns the position\n",
        "#inte [inte>5].mean()\n",
        "X[inte>5,height_i].mean()"
      ]
    },
    {
      "cell_type": "code",
      "source": [
        "X[X[:,intensity_i]>5,height_i].mean()"
      ],
      "metadata": {
        "colab": {
          "base_uri": "https://localhost:8080/"
        },
        "id": "WKUny3weBBMQ",
        "outputId": "669f7d96-7cc7-4523-c55f-3b8578e223be"
      },
      "execution_count": null,
      "outputs": [
        {
          "output_type": "execute_result",
          "data": {
            "text/plain": [
              "7.1000000000000005"
            ]
          },
          "metadata": {},
          "execution_count": 167
        }
      ]
    },
    {
      "cell_type": "markdown",
      "metadata": {
        "id": "p1xEIXblNln1"
      },
      "source": [
        "**Compute the probability of class 2 if intensity>5**\n",
        "$$p = \\frac{\\#(intensity>5 \\land class2)}{\\#(intensity>5)}$$"
      ]
    },
    {
      "cell_type": "code",
      "execution_count": null,
      "metadata": {
        "id": "yK-AceTtNln1",
        "colab": {
          "base_uri": "https://localhost:8080/"
        },
        "outputId": "a9de282c-0a4c-433b-d05f-efa2be3e3580"
      },
      "outputs": [
        {
          "output_type": "execute_result",
          "data": {
            "text/plain": [
              "0.75"
            ]
          },
          "metadata": {},
          "execution_count": 204
        }
      ],
      "source": [
        "#My solution\n",
        "#X[X[:,intensity_i]>5,intensity_i].size\n",
        "\n",
        "d = (X[:,intensity_i]>5).sum()\n",
        "n = ((labels == 2)&(X[:,intensity_i]>5)).sum()\n",
        "p = n/d\n",
        "p\n",
        "#np.array([5,1]) & np.array([0,0])\n",
        "#X[labels == 2,]"
      ]
    },
    {
      "cell_type": "markdown",
      "metadata": {
        "id": "B1WQZaqTNln1"
      },
      "source": [
        "**Print the height of the top 3 records with highest intensity:**"
      ]
    },
    {
      "cell_type": "code",
      "execution_count": null,
      "metadata": {
        "scrolled": false,
        "id": "BXfa4L98Nln1",
        "colab": {
          "base_uri": "https://localhost:8080/"
        },
        "outputId": "6f4e7216-77ce-470c-b4fc-03ecd2cfb5f3"
      },
      "outputs": [
        {
          "output_type": "execute_result",
          "data": {
            "text/plain": [
              "array([[6.9, 7.4, 7.7]])"
            ]
          },
          "metadata": {},
          "execution_count": 217
        }
      ],
      "source": [
        "X[[np.argsort(X,axis=0)[:,intensity_i][-3:]],height_i]"
      ]
    },
    {
      "cell_type": "code",
      "source": [
        "X[[np.argsort(X[:,intensity_i])[-3:]],height_i]"
      ],
      "metadata": {
        "colab": {
          "base_uri": "https://localhost:8080/"
        },
        "id": "juyZNUPuOPyl",
        "outputId": "24b959c7-fad4-4bf5-d2fd-6e6b96463855"
      },
      "execution_count": null,
      "outputs": [
        {
          "output_type": "execute_result",
          "data": {
            "text/plain": [
              "array([[6.9, 7.4, 7.7]])"
            ]
          },
          "metadata": {},
          "execution_count": 221
        }
      ]
    },
    {
      "cell_type": "code",
      "source": [
        "# argmax return the postion of sorted value\n",
        "X = np.array([[1,2],[2,5],[15,7],[8,0],[7,-5],[4,5]])\n",
        "print(X)\n",
        "X[[np.argsort(X[:,1], axis = 0)[-3:]],0]"
      ],
      "metadata": {
        "colab": {
          "base_uri": "https://localhost:8080/"
        },
        "id": "xGUTDrcqPGxB",
        "outputId": "4f50ef09-591f-4692-bad0-773bbd97a20c"
      },
      "execution_count": null,
      "outputs": [
        {
          "output_type": "stream",
          "name": "stdout",
          "text": [
            "[[ 1  2]\n",
            " [ 2  5]\n",
            " [15  7]\n",
            " [ 8  0]\n",
            " [ 7 -5]\n",
            " [ 4  5]]\n"
          ]
        },
        {
          "output_type": "execute_result",
          "data": {
            "text/plain": [
              "array([[ 2,  4, 15]])"
            ]
          },
          "metadata": {},
          "execution_count": 237
        }
      ]
    },
    {
      "cell_type": "code",
      "source": [
        "# how to search a list inside other list\n",
        "#create empty numpy\n",
        "# append in numpy"
      ],
      "metadata": {
        "id": "g14Dh2nZJ3sk"
      },
      "execution_count": null,
      "outputs": []
    }
  ],
  "metadata": {
    "kernelspec": {
      "display_name": "Python 3",
      "language": "python",
      "name": "python3"
    },
    "language_info": {
      "codemirror_mode": {
        "name": "ipython",
        "version": 3
      },
      "file_extension": ".py",
      "mimetype": "text/x-python",
      "name": "python",
      "nbconvert_exporter": "python",
      "pygments_lexer": "ipython3",
      "version": "3.8.5"
    },
    "colab": {
      "provenance": [],
      "collapsed_sections": [
        "Pt64W7SkNlnt"
      ],
      "include_colab_link": true
    }
  },
  "nbformat": 4,
  "nbformat_minor": 0
}